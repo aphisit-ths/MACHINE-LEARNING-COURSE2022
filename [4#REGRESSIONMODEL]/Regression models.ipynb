{
 "cells": [
  {
   "cell_type": "code",
   "execution_count": 11,
   "id": "ae6ac21d",
   "metadata": {},
   "outputs": [],
   "source": [
    "import numpy as np\n",
    "import pandas as pd\n",
    "import matplotlib.pyplot as plt\n",
    "import seaborn as sns\n",
    "from sklearn import preprocessing\n",
    "from sklearn.decomposition import PCA\n",
    "from sklearn.metrics import accuracy_score\n",
    "from sklearn.linear_model import LinearRegression\n",
    "from sklearn.metrics import r2_score\n",
    "from sklearn.preprocessing import MinMaxScaler,StandardScaler\n",
    "from sklearn.model_selection import train_test_split ,GridSearchCV , RandomizedSearchCV\n"
   ]
  },
  {
   "cell_type": "markdown",
   "id": "7affe1c7",
   "metadata": {},
   "source": [
    "# 4.1 Data exploration (A)"
   ]
  },
  {
   "cell_type": "code",
   "execution_count": 2,
   "id": "366c5c3f",
   "metadata": {
    "scrolled": false
   },
   "outputs": [
    {
     "data": {
      "text/html": [
       "<div>\n",
       "<style scoped>\n",
       "    .dataframe tbody tr th:only-of-type {\n",
       "        vertical-align: middle;\n",
       "    }\n",
       "\n",
       "    .dataframe tbody tr th {\n",
       "        vertical-align: top;\n",
       "    }\n",
       "\n",
       "    .dataframe thead th {\n",
       "        text-align: right;\n",
       "    }\n",
       "</style>\n",
       "<table border=\"1\" class=\"dataframe\">\n",
       "  <thead>\n",
       "    <tr style=\"text-align: right;\">\n",
       "      <th></th>\n",
       "      <th>car_ID</th>\n",
       "      <th>symboling</th>\n",
       "      <th>CarName</th>\n",
       "      <th>fueltype</th>\n",
       "      <th>aspiration</th>\n",
       "      <th>doornumber</th>\n",
       "      <th>carbody</th>\n",
       "      <th>drivewheel</th>\n",
       "      <th>enginelocation</th>\n",
       "      <th>wheelbase</th>\n",
       "      <th>...</th>\n",
       "      <th>enginesize</th>\n",
       "      <th>fuelsystem</th>\n",
       "      <th>boreratio</th>\n",
       "      <th>stroke</th>\n",
       "      <th>compressionratio</th>\n",
       "      <th>horsepower</th>\n",
       "      <th>peakrpm</th>\n",
       "      <th>citympg</th>\n",
       "      <th>highwaympg</th>\n",
       "      <th>price</th>\n",
       "    </tr>\n",
       "  </thead>\n",
       "  <tbody>\n",
       "    <tr>\n",
       "      <th>0</th>\n",
       "      <td>1</td>\n",
       "      <td>3</td>\n",
       "      <td>alfa-romero giulia</td>\n",
       "      <td>gas</td>\n",
       "      <td>std</td>\n",
       "      <td>two</td>\n",
       "      <td>convertible</td>\n",
       "      <td>rwd</td>\n",
       "      <td>front</td>\n",
       "      <td>88.6</td>\n",
       "      <td>...</td>\n",
       "      <td>130</td>\n",
       "      <td>mpfi</td>\n",
       "      <td>3.47</td>\n",
       "      <td>2.68</td>\n",
       "      <td>9.0</td>\n",
       "      <td>111</td>\n",
       "      <td>5000</td>\n",
       "      <td>21</td>\n",
       "      <td>27</td>\n",
       "      <td>13495.0</td>\n",
       "    </tr>\n",
       "    <tr>\n",
       "      <th>1</th>\n",
       "      <td>2</td>\n",
       "      <td>3</td>\n",
       "      <td>alfa-romero stelvio</td>\n",
       "      <td>gas</td>\n",
       "      <td>std</td>\n",
       "      <td>two</td>\n",
       "      <td>convertible</td>\n",
       "      <td>rwd</td>\n",
       "      <td>front</td>\n",
       "      <td>88.6</td>\n",
       "      <td>...</td>\n",
       "      <td>130</td>\n",
       "      <td>mpfi</td>\n",
       "      <td>3.47</td>\n",
       "      <td>2.68</td>\n",
       "      <td>9.0</td>\n",
       "      <td>111</td>\n",
       "      <td>5000</td>\n",
       "      <td>21</td>\n",
       "      <td>27</td>\n",
       "      <td>16500.0</td>\n",
       "    </tr>\n",
       "    <tr>\n",
       "      <th>2</th>\n",
       "      <td>3</td>\n",
       "      <td>1</td>\n",
       "      <td>alfa-romero Quadrifoglio</td>\n",
       "      <td>gas</td>\n",
       "      <td>std</td>\n",
       "      <td>two</td>\n",
       "      <td>hatchback</td>\n",
       "      <td>rwd</td>\n",
       "      <td>front</td>\n",
       "      <td>94.5</td>\n",
       "      <td>...</td>\n",
       "      <td>152</td>\n",
       "      <td>mpfi</td>\n",
       "      <td>2.68</td>\n",
       "      <td>3.47</td>\n",
       "      <td>9.0</td>\n",
       "      <td>154</td>\n",
       "      <td>5000</td>\n",
       "      <td>19</td>\n",
       "      <td>26</td>\n",
       "      <td>16500.0</td>\n",
       "    </tr>\n",
       "    <tr>\n",
       "      <th>3</th>\n",
       "      <td>4</td>\n",
       "      <td>2</td>\n",
       "      <td>audi 100 ls</td>\n",
       "      <td>gas</td>\n",
       "      <td>std</td>\n",
       "      <td>four</td>\n",
       "      <td>sedan</td>\n",
       "      <td>fwd</td>\n",
       "      <td>front</td>\n",
       "      <td>99.8</td>\n",
       "      <td>...</td>\n",
       "      <td>109</td>\n",
       "      <td>mpfi</td>\n",
       "      <td>3.19</td>\n",
       "      <td>3.40</td>\n",
       "      <td>10.0</td>\n",
       "      <td>102</td>\n",
       "      <td>5500</td>\n",
       "      <td>24</td>\n",
       "      <td>30</td>\n",
       "      <td>13950.0</td>\n",
       "    </tr>\n",
       "    <tr>\n",
       "      <th>4</th>\n",
       "      <td>5</td>\n",
       "      <td>2</td>\n",
       "      <td>audi 100ls</td>\n",
       "      <td>gas</td>\n",
       "      <td>std</td>\n",
       "      <td>four</td>\n",
       "      <td>sedan</td>\n",
       "      <td>4wd</td>\n",
       "      <td>front</td>\n",
       "      <td>99.4</td>\n",
       "      <td>...</td>\n",
       "      <td>136</td>\n",
       "      <td>mpfi</td>\n",
       "      <td>3.19</td>\n",
       "      <td>3.40</td>\n",
       "      <td>8.0</td>\n",
       "      <td>115</td>\n",
       "      <td>5500</td>\n",
       "      <td>18</td>\n",
       "      <td>22</td>\n",
       "      <td>17450.0</td>\n",
       "    </tr>\n",
       "    <tr>\n",
       "      <th>...</th>\n",
       "      <td>...</td>\n",
       "      <td>...</td>\n",
       "      <td>...</td>\n",
       "      <td>...</td>\n",
       "      <td>...</td>\n",
       "      <td>...</td>\n",
       "      <td>...</td>\n",
       "      <td>...</td>\n",
       "      <td>...</td>\n",
       "      <td>...</td>\n",
       "      <td>...</td>\n",
       "      <td>...</td>\n",
       "      <td>...</td>\n",
       "      <td>...</td>\n",
       "      <td>...</td>\n",
       "      <td>...</td>\n",
       "      <td>...</td>\n",
       "      <td>...</td>\n",
       "      <td>...</td>\n",
       "      <td>...</td>\n",
       "      <td>...</td>\n",
       "    </tr>\n",
       "    <tr>\n",
       "      <th>200</th>\n",
       "      <td>201</td>\n",
       "      <td>-1</td>\n",
       "      <td>volvo 145e (sw)</td>\n",
       "      <td>gas</td>\n",
       "      <td>std</td>\n",
       "      <td>four</td>\n",
       "      <td>sedan</td>\n",
       "      <td>rwd</td>\n",
       "      <td>front</td>\n",
       "      <td>109.1</td>\n",
       "      <td>...</td>\n",
       "      <td>141</td>\n",
       "      <td>mpfi</td>\n",
       "      <td>3.78</td>\n",
       "      <td>3.15</td>\n",
       "      <td>9.5</td>\n",
       "      <td>114</td>\n",
       "      <td>5400</td>\n",
       "      <td>23</td>\n",
       "      <td>28</td>\n",
       "      <td>16845.0</td>\n",
       "    </tr>\n",
       "    <tr>\n",
       "      <th>201</th>\n",
       "      <td>202</td>\n",
       "      <td>-1</td>\n",
       "      <td>volvo 144ea</td>\n",
       "      <td>gas</td>\n",
       "      <td>turbo</td>\n",
       "      <td>four</td>\n",
       "      <td>sedan</td>\n",
       "      <td>rwd</td>\n",
       "      <td>front</td>\n",
       "      <td>109.1</td>\n",
       "      <td>...</td>\n",
       "      <td>141</td>\n",
       "      <td>mpfi</td>\n",
       "      <td>3.78</td>\n",
       "      <td>3.15</td>\n",
       "      <td>8.7</td>\n",
       "      <td>160</td>\n",
       "      <td>5300</td>\n",
       "      <td>19</td>\n",
       "      <td>25</td>\n",
       "      <td>19045.0</td>\n",
       "    </tr>\n",
       "    <tr>\n",
       "      <th>202</th>\n",
       "      <td>203</td>\n",
       "      <td>-1</td>\n",
       "      <td>volvo 244dl</td>\n",
       "      <td>gas</td>\n",
       "      <td>std</td>\n",
       "      <td>four</td>\n",
       "      <td>sedan</td>\n",
       "      <td>rwd</td>\n",
       "      <td>front</td>\n",
       "      <td>109.1</td>\n",
       "      <td>...</td>\n",
       "      <td>173</td>\n",
       "      <td>mpfi</td>\n",
       "      <td>3.58</td>\n",
       "      <td>2.87</td>\n",
       "      <td>8.8</td>\n",
       "      <td>134</td>\n",
       "      <td>5500</td>\n",
       "      <td>18</td>\n",
       "      <td>23</td>\n",
       "      <td>21485.0</td>\n",
       "    </tr>\n",
       "    <tr>\n",
       "      <th>203</th>\n",
       "      <td>204</td>\n",
       "      <td>-1</td>\n",
       "      <td>volvo 246</td>\n",
       "      <td>diesel</td>\n",
       "      <td>turbo</td>\n",
       "      <td>four</td>\n",
       "      <td>sedan</td>\n",
       "      <td>rwd</td>\n",
       "      <td>front</td>\n",
       "      <td>109.1</td>\n",
       "      <td>...</td>\n",
       "      <td>145</td>\n",
       "      <td>idi</td>\n",
       "      <td>3.01</td>\n",
       "      <td>3.40</td>\n",
       "      <td>23.0</td>\n",
       "      <td>106</td>\n",
       "      <td>4800</td>\n",
       "      <td>26</td>\n",
       "      <td>27</td>\n",
       "      <td>22470.0</td>\n",
       "    </tr>\n",
       "    <tr>\n",
       "      <th>204</th>\n",
       "      <td>205</td>\n",
       "      <td>-1</td>\n",
       "      <td>volvo 264gl</td>\n",
       "      <td>gas</td>\n",
       "      <td>turbo</td>\n",
       "      <td>four</td>\n",
       "      <td>sedan</td>\n",
       "      <td>rwd</td>\n",
       "      <td>front</td>\n",
       "      <td>109.1</td>\n",
       "      <td>...</td>\n",
       "      <td>141</td>\n",
       "      <td>mpfi</td>\n",
       "      <td>3.78</td>\n",
       "      <td>3.15</td>\n",
       "      <td>9.5</td>\n",
       "      <td>114</td>\n",
       "      <td>5400</td>\n",
       "      <td>19</td>\n",
       "      <td>25</td>\n",
       "      <td>22625.0</td>\n",
       "    </tr>\n",
       "  </tbody>\n",
       "</table>\n",
       "<p>205 rows × 26 columns</p>\n",
       "</div>"
      ],
      "text/plain": [
       "     car_ID  symboling                   CarName fueltype aspiration  \\\n",
       "0         1          3        alfa-romero giulia      gas        std   \n",
       "1         2          3       alfa-romero stelvio      gas        std   \n",
       "2         3          1  alfa-romero Quadrifoglio      gas        std   \n",
       "3         4          2               audi 100 ls      gas        std   \n",
       "4         5          2                audi 100ls      gas        std   \n",
       "..      ...        ...                       ...      ...        ...   \n",
       "200     201         -1           volvo 145e (sw)      gas        std   \n",
       "201     202         -1               volvo 144ea      gas      turbo   \n",
       "202     203         -1               volvo 244dl      gas        std   \n",
       "203     204         -1                 volvo 246   diesel      turbo   \n",
       "204     205         -1               volvo 264gl      gas      turbo   \n",
       "\n",
       "    doornumber      carbody drivewheel enginelocation  wheelbase  ...  \\\n",
       "0          two  convertible        rwd          front       88.6  ...   \n",
       "1          two  convertible        rwd          front       88.6  ...   \n",
       "2          two    hatchback        rwd          front       94.5  ...   \n",
       "3         four        sedan        fwd          front       99.8  ...   \n",
       "4         four        sedan        4wd          front       99.4  ...   \n",
       "..         ...          ...        ...            ...        ...  ...   \n",
       "200       four        sedan        rwd          front      109.1  ...   \n",
       "201       four        sedan        rwd          front      109.1  ...   \n",
       "202       four        sedan        rwd          front      109.1  ...   \n",
       "203       four        sedan        rwd          front      109.1  ...   \n",
       "204       four        sedan        rwd          front      109.1  ...   \n",
       "\n",
       "     enginesize  fuelsystem  boreratio  stroke compressionratio horsepower  \\\n",
       "0           130        mpfi       3.47    2.68              9.0        111   \n",
       "1           130        mpfi       3.47    2.68              9.0        111   \n",
       "2           152        mpfi       2.68    3.47              9.0        154   \n",
       "3           109        mpfi       3.19    3.40             10.0        102   \n",
       "4           136        mpfi       3.19    3.40              8.0        115   \n",
       "..          ...         ...        ...     ...              ...        ...   \n",
       "200         141        mpfi       3.78    3.15              9.5        114   \n",
       "201         141        mpfi       3.78    3.15              8.7        160   \n",
       "202         173        mpfi       3.58    2.87              8.8        134   \n",
       "203         145         idi       3.01    3.40             23.0        106   \n",
       "204         141        mpfi       3.78    3.15              9.5        114   \n",
       "\n",
       "     peakrpm citympg  highwaympg    price  \n",
       "0       5000      21          27  13495.0  \n",
       "1       5000      21          27  16500.0  \n",
       "2       5000      19          26  16500.0  \n",
       "3       5500      24          30  13950.0  \n",
       "4       5500      18          22  17450.0  \n",
       "..       ...     ...         ...      ...  \n",
       "200     5400      23          28  16845.0  \n",
       "201     5300      19          25  19045.0  \n",
       "202     5500      18          23  21485.0  \n",
       "203     4800      26          27  22470.0  \n",
       "204     5400      19          25  22625.0  \n",
       "\n",
       "[205 rows x 26 columns]"
      ]
     },
     "execution_count": 2,
     "metadata": {},
     "output_type": "execute_result"
    }
   ],
   "source": [
    "df = pd.read_csv(\"./Resource/CarPrice.csv\")\n",
    "df"
   ]
  },
  {
   "cell_type": "code",
   "execution_count": 3,
   "id": "d2dc751d",
   "metadata": {},
   "outputs": [
    {
     "data": {
      "text/plain": [
       "(205,)"
      ]
     },
     "execution_count": 3,
     "metadata": {},
     "output_type": "execute_result"
    }
   ],
   "source": [
    "y = df['price']\n",
    "y.shape"
   ]
  },
  {
   "cell_type": "code",
   "execution_count": 4,
   "id": "c09400e1",
   "metadata": {},
   "outputs": [],
   "source": [
    "df = df.drop(['car_ID','CarName','price'] , axis=1)"
   ]
  },
  {
   "cell_type": "code",
   "execution_count": 5,
   "id": "9e91a185",
   "metadata": {},
   "outputs": [
    {
     "data": {
      "text/html": [
       "<div>\n",
       "<style scoped>\n",
       "    .dataframe tbody tr th:only-of-type {\n",
       "        vertical-align: middle;\n",
       "    }\n",
       "\n",
       "    .dataframe tbody tr th {\n",
       "        vertical-align: top;\n",
       "    }\n",
       "\n",
       "    .dataframe thead th {\n",
       "        text-align: right;\n",
       "    }\n",
       "</style>\n",
       "<table border=\"1\" class=\"dataframe\">\n",
       "  <thead>\n",
       "    <tr style=\"text-align: right;\">\n",
       "      <th></th>\n",
       "      <th>symboling</th>\n",
       "      <th>fueltype</th>\n",
       "      <th>aspiration</th>\n",
       "      <th>doornumber</th>\n",
       "      <th>carbody</th>\n",
       "      <th>drivewheel</th>\n",
       "      <th>enginelocation</th>\n",
       "      <th>wheelbase</th>\n",
       "      <th>carlength</th>\n",
       "      <th>carwidth</th>\n",
       "      <th>...</th>\n",
       "      <th>cylindernumber</th>\n",
       "      <th>enginesize</th>\n",
       "      <th>fuelsystem</th>\n",
       "      <th>boreratio</th>\n",
       "      <th>stroke</th>\n",
       "      <th>compressionratio</th>\n",
       "      <th>horsepower</th>\n",
       "      <th>peakrpm</th>\n",
       "      <th>citympg</th>\n",
       "      <th>highwaympg</th>\n",
       "    </tr>\n",
       "  </thead>\n",
       "  <tbody>\n",
       "    <tr>\n",
       "      <th>0</th>\n",
       "      <td>3</td>\n",
       "      <td>gas</td>\n",
       "      <td>std</td>\n",
       "      <td>two</td>\n",
       "      <td>convertible</td>\n",
       "      <td>rwd</td>\n",
       "      <td>front</td>\n",
       "      <td>88.6</td>\n",
       "      <td>168.8</td>\n",
       "      <td>64.1</td>\n",
       "      <td>...</td>\n",
       "      <td>four</td>\n",
       "      <td>130</td>\n",
       "      <td>mpfi</td>\n",
       "      <td>3.47</td>\n",
       "      <td>2.68</td>\n",
       "      <td>9.0</td>\n",
       "      <td>111</td>\n",
       "      <td>5000</td>\n",
       "      <td>21</td>\n",
       "      <td>27</td>\n",
       "    </tr>\n",
       "    <tr>\n",
       "      <th>1</th>\n",
       "      <td>3</td>\n",
       "      <td>gas</td>\n",
       "      <td>std</td>\n",
       "      <td>two</td>\n",
       "      <td>convertible</td>\n",
       "      <td>rwd</td>\n",
       "      <td>front</td>\n",
       "      <td>88.6</td>\n",
       "      <td>168.8</td>\n",
       "      <td>64.1</td>\n",
       "      <td>...</td>\n",
       "      <td>four</td>\n",
       "      <td>130</td>\n",
       "      <td>mpfi</td>\n",
       "      <td>3.47</td>\n",
       "      <td>2.68</td>\n",
       "      <td>9.0</td>\n",
       "      <td>111</td>\n",
       "      <td>5000</td>\n",
       "      <td>21</td>\n",
       "      <td>27</td>\n",
       "    </tr>\n",
       "    <tr>\n",
       "      <th>2</th>\n",
       "      <td>1</td>\n",
       "      <td>gas</td>\n",
       "      <td>std</td>\n",
       "      <td>two</td>\n",
       "      <td>hatchback</td>\n",
       "      <td>rwd</td>\n",
       "      <td>front</td>\n",
       "      <td>94.5</td>\n",
       "      <td>171.2</td>\n",
       "      <td>65.5</td>\n",
       "      <td>...</td>\n",
       "      <td>six</td>\n",
       "      <td>152</td>\n",
       "      <td>mpfi</td>\n",
       "      <td>2.68</td>\n",
       "      <td>3.47</td>\n",
       "      <td>9.0</td>\n",
       "      <td>154</td>\n",
       "      <td>5000</td>\n",
       "      <td>19</td>\n",
       "      <td>26</td>\n",
       "    </tr>\n",
       "    <tr>\n",
       "      <th>3</th>\n",
       "      <td>2</td>\n",
       "      <td>gas</td>\n",
       "      <td>std</td>\n",
       "      <td>four</td>\n",
       "      <td>sedan</td>\n",
       "      <td>fwd</td>\n",
       "      <td>front</td>\n",
       "      <td>99.8</td>\n",
       "      <td>176.6</td>\n",
       "      <td>66.2</td>\n",
       "      <td>...</td>\n",
       "      <td>four</td>\n",
       "      <td>109</td>\n",
       "      <td>mpfi</td>\n",
       "      <td>3.19</td>\n",
       "      <td>3.40</td>\n",
       "      <td>10.0</td>\n",
       "      <td>102</td>\n",
       "      <td>5500</td>\n",
       "      <td>24</td>\n",
       "      <td>30</td>\n",
       "    </tr>\n",
       "    <tr>\n",
       "      <th>4</th>\n",
       "      <td>2</td>\n",
       "      <td>gas</td>\n",
       "      <td>std</td>\n",
       "      <td>four</td>\n",
       "      <td>sedan</td>\n",
       "      <td>4wd</td>\n",
       "      <td>front</td>\n",
       "      <td>99.4</td>\n",
       "      <td>176.6</td>\n",
       "      <td>66.4</td>\n",
       "      <td>...</td>\n",
       "      <td>five</td>\n",
       "      <td>136</td>\n",
       "      <td>mpfi</td>\n",
       "      <td>3.19</td>\n",
       "      <td>3.40</td>\n",
       "      <td>8.0</td>\n",
       "      <td>115</td>\n",
       "      <td>5500</td>\n",
       "      <td>18</td>\n",
       "      <td>22</td>\n",
       "    </tr>\n",
       "  </tbody>\n",
       "</table>\n",
       "<p>5 rows × 23 columns</p>\n",
       "</div>"
      ],
      "text/plain": [
       "   symboling fueltype aspiration doornumber      carbody drivewheel  \\\n",
       "0          3      gas        std        two  convertible        rwd   \n",
       "1          3      gas        std        two  convertible        rwd   \n",
       "2          1      gas        std        two    hatchback        rwd   \n",
       "3          2      gas        std       four        sedan        fwd   \n",
       "4          2      gas        std       four        sedan        4wd   \n",
       "\n",
       "  enginelocation  wheelbase  carlength  carwidth  ...  cylindernumber  \\\n",
       "0          front       88.6      168.8      64.1  ...            four   \n",
       "1          front       88.6      168.8      64.1  ...            four   \n",
       "2          front       94.5      171.2      65.5  ...             six   \n",
       "3          front       99.8      176.6      66.2  ...            four   \n",
       "4          front       99.4      176.6      66.4  ...            five   \n",
       "\n",
       "   enginesize fuelsystem boreratio  stroke compressionratio  horsepower  \\\n",
       "0         130       mpfi      3.47    2.68              9.0         111   \n",
       "1         130       mpfi      3.47    2.68              9.0         111   \n",
       "2         152       mpfi      2.68    3.47              9.0         154   \n",
       "3         109       mpfi      3.19    3.40             10.0         102   \n",
       "4         136       mpfi      3.19    3.40              8.0         115   \n",
       "\n",
       "   peakrpm  citympg  highwaympg  \n",
       "0     5000       21          27  \n",
       "1     5000       21          27  \n",
       "2     5000       19          26  \n",
       "3     5500       24          30  \n",
       "4     5500       18          22  \n",
       "\n",
       "[5 rows x 23 columns]"
      ]
     },
     "execution_count": 5,
     "metadata": {},
     "output_type": "execute_result"
    }
   ],
   "source": [
    "df.head()"
   ]
  },
  {
   "cell_type": "markdown",
   "id": "ff37f554",
   "metadata": {},
   "source": [
    "> find null values"
   ]
  },
  {
   "cell_type": "code",
   "execution_count": 6,
   "id": "1b76274f",
   "metadata": {},
   "outputs": [
    {
     "data": {
      "text/html": [
       "<div>\n",
       "<style scoped>\n",
       "    .dataframe tbody tr th:only-of-type {\n",
       "        vertical-align: middle;\n",
       "    }\n",
       "\n",
       "    .dataframe tbody tr th {\n",
       "        vertical-align: top;\n",
       "    }\n",
       "\n",
       "    .dataframe thead th {\n",
       "        text-align: right;\n",
       "    }\n",
       "</style>\n",
       "<table border=\"1\" class=\"dataframe\">\n",
       "  <thead>\n",
       "    <tr style=\"text-align: right;\">\n",
       "      <th></th>\n",
       "      <th>symboling</th>\n",
       "      <th>fueltype</th>\n",
       "      <th>aspiration</th>\n",
       "      <th>doornumber</th>\n",
       "      <th>carbody</th>\n",
       "      <th>drivewheel</th>\n",
       "      <th>enginelocation</th>\n",
       "      <th>wheelbase</th>\n",
       "      <th>carlength</th>\n",
       "      <th>carwidth</th>\n",
       "      <th>...</th>\n",
       "      <th>cylindernumber</th>\n",
       "      <th>enginesize</th>\n",
       "      <th>fuelsystem</th>\n",
       "      <th>boreratio</th>\n",
       "      <th>stroke</th>\n",
       "      <th>compressionratio</th>\n",
       "      <th>horsepower</th>\n",
       "      <th>peakrpm</th>\n",
       "      <th>citympg</th>\n",
       "      <th>highwaympg</th>\n",
       "    </tr>\n",
       "  </thead>\n",
       "  <tbody>\n",
       "  </tbody>\n",
       "</table>\n",
       "<p>0 rows × 23 columns</p>\n",
       "</div>"
      ],
      "text/plain": [
       "Empty DataFrame\n",
       "Columns: [symboling, fueltype, aspiration, doornumber, carbody, drivewheel, enginelocation, wheelbase, carlength, carwidth, carheight, curbweight, enginetype, cylindernumber, enginesize, fuelsystem, boreratio, stroke, compressionratio, horsepower, peakrpm, citympg, highwaympg]\n",
       "Index: []\n",
       "\n",
       "[0 rows x 23 columns]"
      ]
     },
     "execution_count": 6,
     "metadata": {},
     "output_type": "execute_result"
    }
   ],
   "source": [
    "null_data = df[df.isnull().any(axis=1)]\n",
    "null_data"
   ]
  },
  {
   "cell_type": "code",
   "execution_count": 7,
   "id": "fa706acb",
   "metadata": {
    "scrolled": true
   },
   "outputs": [
    {
     "data": {
      "text/html": [
       "<div>\n",
       "<style scoped>\n",
       "    .dataframe tbody tr th:only-of-type {\n",
       "        vertical-align: middle;\n",
       "    }\n",
       "\n",
       "    .dataframe tbody tr th {\n",
       "        vertical-align: top;\n",
       "    }\n",
       "\n",
       "    .dataframe thead th {\n",
       "        text-align: right;\n",
       "    }\n",
       "</style>\n",
       "<table border=\"1\" class=\"dataframe\">\n",
       "  <thead>\n",
       "    <tr style=\"text-align: right;\">\n",
       "      <th></th>\n",
       "      <th>symboling</th>\n",
       "      <th>wheelbase</th>\n",
       "      <th>carlength</th>\n",
       "      <th>carwidth</th>\n",
       "      <th>carheight</th>\n",
       "      <th>curbweight</th>\n",
       "      <th>enginesize</th>\n",
       "      <th>boreratio</th>\n",
       "      <th>stroke</th>\n",
       "      <th>compressionratio</th>\n",
       "      <th>horsepower</th>\n",
       "      <th>peakrpm</th>\n",
       "      <th>citympg</th>\n",
       "      <th>highwaympg</th>\n",
       "    </tr>\n",
       "  </thead>\n",
       "  <tbody>\n",
       "    <tr>\n",
       "      <th>count</th>\n",
       "      <td>205.000000</td>\n",
       "      <td>205.000000</td>\n",
       "      <td>205.000000</td>\n",
       "      <td>205.000000</td>\n",
       "      <td>205.000000</td>\n",
       "      <td>205.000000</td>\n",
       "      <td>205.000000</td>\n",
       "      <td>205.000000</td>\n",
       "      <td>205.000000</td>\n",
       "      <td>205.000000</td>\n",
       "      <td>205.000000</td>\n",
       "      <td>205.000000</td>\n",
       "      <td>205.000000</td>\n",
       "      <td>205.000000</td>\n",
       "    </tr>\n",
       "    <tr>\n",
       "      <th>mean</th>\n",
       "      <td>0.834146</td>\n",
       "      <td>98.756585</td>\n",
       "      <td>174.049268</td>\n",
       "      <td>65.907805</td>\n",
       "      <td>53.724878</td>\n",
       "      <td>2555.565854</td>\n",
       "      <td>126.907317</td>\n",
       "      <td>3.329756</td>\n",
       "      <td>3.255415</td>\n",
       "      <td>10.142537</td>\n",
       "      <td>104.117073</td>\n",
       "      <td>5125.121951</td>\n",
       "      <td>25.219512</td>\n",
       "      <td>30.751220</td>\n",
       "    </tr>\n",
       "    <tr>\n",
       "      <th>std</th>\n",
       "      <td>1.245307</td>\n",
       "      <td>6.021776</td>\n",
       "      <td>12.337289</td>\n",
       "      <td>2.145204</td>\n",
       "      <td>2.443522</td>\n",
       "      <td>520.680204</td>\n",
       "      <td>41.642693</td>\n",
       "      <td>0.270844</td>\n",
       "      <td>0.313597</td>\n",
       "      <td>3.972040</td>\n",
       "      <td>39.544167</td>\n",
       "      <td>476.985643</td>\n",
       "      <td>6.542142</td>\n",
       "      <td>6.886443</td>\n",
       "    </tr>\n",
       "    <tr>\n",
       "      <th>min</th>\n",
       "      <td>-2.000000</td>\n",
       "      <td>86.600000</td>\n",
       "      <td>141.100000</td>\n",
       "      <td>60.300000</td>\n",
       "      <td>47.800000</td>\n",
       "      <td>1488.000000</td>\n",
       "      <td>61.000000</td>\n",
       "      <td>2.540000</td>\n",
       "      <td>2.070000</td>\n",
       "      <td>7.000000</td>\n",
       "      <td>48.000000</td>\n",
       "      <td>4150.000000</td>\n",
       "      <td>13.000000</td>\n",
       "      <td>16.000000</td>\n",
       "    </tr>\n",
       "    <tr>\n",
       "      <th>25%</th>\n",
       "      <td>0.000000</td>\n",
       "      <td>94.500000</td>\n",
       "      <td>166.300000</td>\n",
       "      <td>64.100000</td>\n",
       "      <td>52.000000</td>\n",
       "      <td>2145.000000</td>\n",
       "      <td>97.000000</td>\n",
       "      <td>3.150000</td>\n",
       "      <td>3.110000</td>\n",
       "      <td>8.600000</td>\n",
       "      <td>70.000000</td>\n",
       "      <td>4800.000000</td>\n",
       "      <td>19.000000</td>\n",
       "      <td>25.000000</td>\n",
       "    </tr>\n",
       "    <tr>\n",
       "      <th>50%</th>\n",
       "      <td>1.000000</td>\n",
       "      <td>97.000000</td>\n",
       "      <td>173.200000</td>\n",
       "      <td>65.500000</td>\n",
       "      <td>54.100000</td>\n",
       "      <td>2414.000000</td>\n",
       "      <td>120.000000</td>\n",
       "      <td>3.310000</td>\n",
       "      <td>3.290000</td>\n",
       "      <td>9.000000</td>\n",
       "      <td>95.000000</td>\n",
       "      <td>5200.000000</td>\n",
       "      <td>24.000000</td>\n",
       "      <td>30.000000</td>\n",
       "    </tr>\n",
       "    <tr>\n",
       "      <th>75%</th>\n",
       "      <td>2.000000</td>\n",
       "      <td>102.400000</td>\n",
       "      <td>183.100000</td>\n",
       "      <td>66.900000</td>\n",
       "      <td>55.500000</td>\n",
       "      <td>2935.000000</td>\n",
       "      <td>141.000000</td>\n",
       "      <td>3.580000</td>\n",
       "      <td>3.410000</td>\n",
       "      <td>9.400000</td>\n",
       "      <td>116.000000</td>\n",
       "      <td>5500.000000</td>\n",
       "      <td>30.000000</td>\n",
       "      <td>34.000000</td>\n",
       "    </tr>\n",
       "    <tr>\n",
       "      <th>max</th>\n",
       "      <td>3.000000</td>\n",
       "      <td>120.900000</td>\n",
       "      <td>208.100000</td>\n",
       "      <td>72.300000</td>\n",
       "      <td>59.800000</td>\n",
       "      <td>4066.000000</td>\n",
       "      <td>326.000000</td>\n",
       "      <td>3.940000</td>\n",
       "      <td>4.170000</td>\n",
       "      <td>23.000000</td>\n",
       "      <td>288.000000</td>\n",
       "      <td>6600.000000</td>\n",
       "      <td>49.000000</td>\n",
       "      <td>54.000000</td>\n",
       "    </tr>\n",
       "  </tbody>\n",
       "</table>\n",
       "</div>"
      ],
      "text/plain": [
       "        symboling   wheelbase   carlength    carwidth   carheight  \\\n",
       "count  205.000000  205.000000  205.000000  205.000000  205.000000   \n",
       "mean     0.834146   98.756585  174.049268   65.907805   53.724878   \n",
       "std      1.245307    6.021776   12.337289    2.145204    2.443522   \n",
       "min     -2.000000   86.600000  141.100000   60.300000   47.800000   \n",
       "25%      0.000000   94.500000  166.300000   64.100000   52.000000   \n",
       "50%      1.000000   97.000000  173.200000   65.500000   54.100000   \n",
       "75%      2.000000  102.400000  183.100000   66.900000   55.500000   \n",
       "max      3.000000  120.900000  208.100000   72.300000   59.800000   \n",
       "\n",
       "        curbweight  enginesize   boreratio      stroke  compressionratio  \\\n",
       "count   205.000000  205.000000  205.000000  205.000000        205.000000   \n",
       "mean   2555.565854  126.907317    3.329756    3.255415         10.142537   \n",
       "std     520.680204   41.642693    0.270844    0.313597          3.972040   \n",
       "min    1488.000000   61.000000    2.540000    2.070000          7.000000   \n",
       "25%    2145.000000   97.000000    3.150000    3.110000          8.600000   \n",
       "50%    2414.000000  120.000000    3.310000    3.290000          9.000000   \n",
       "75%    2935.000000  141.000000    3.580000    3.410000          9.400000   \n",
       "max    4066.000000  326.000000    3.940000    4.170000         23.000000   \n",
       "\n",
       "       horsepower      peakrpm     citympg  highwaympg  \n",
       "count  205.000000   205.000000  205.000000  205.000000  \n",
       "mean   104.117073  5125.121951   25.219512   30.751220  \n",
       "std     39.544167   476.985643    6.542142    6.886443  \n",
       "min     48.000000  4150.000000   13.000000   16.000000  \n",
       "25%     70.000000  4800.000000   19.000000   25.000000  \n",
       "50%     95.000000  5200.000000   24.000000   30.000000  \n",
       "75%    116.000000  5500.000000   30.000000   34.000000  \n",
       "max    288.000000  6600.000000   49.000000   54.000000  "
      ]
     },
     "execution_count": 7,
     "metadata": {},
     "output_type": "execute_result"
    }
   ],
   "source": [
    "df.describe()"
   ]
  },
  {
   "cell_type": "markdown",
   "id": "ecd5c164",
   "metadata": {},
   "source": [
    "# 4.1 Data Transform and Feature Selection  (b)"
   ]
  },
  {
   "cell_type": "code",
   "execution_count": 8,
   "id": "7dff5134",
   "metadata": {
    "scrolled": true
   },
   "outputs": [
    {
     "data": {
      "text/plain": [
       "['symboling',\n",
       " 'wheelbase',\n",
       " 'carlength',\n",
       " 'carwidth',\n",
       " 'carheight',\n",
       " 'curbweight',\n",
       " 'enginesize',\n",
       " 'boreratio',\n",
       " 'stroke',\n",
       " 'compressionratio',\n",
       " 'horsepower',\n",
       " 'peakrpm',\n",
       " 'citympg',\n",
       " 'highwaympg']"
      ]
     },
     "execution_count": 8,
     "metadata": {},
     "output_type": "execute_result"
    }
   ],
   "source": [
    "#get numeric features to list\n",
    "numeric_feat = df.select_dtypes(include=np.number).columns.tolist()\n",
    "numeric_feat"
   ]
  },
  {
   "cell_type": "code",
   "execution_count": 9,
   "id": "917fe0db",
   "metadata": {},
   "outputs": [],
   "source": [
    "std = StandardScaler()"
   ]
  },
  {
   "cell_type": "code",
   "execution_count": 10,
   "id": "8b4085bf",
   "metadata": {},
   "outputs": [],
   "source": [
    "df[numeric_feat] = std.fit_transform(df[numeric_feat])"
   ]
  },
  {
   "cell_type": "code",
   "execution_count": 11,
   "id": "33f551a2",
   "metadata": {
    "scrolled": true
   },
   "outputs": [
    {
     "data": {
      "text/html": [
       "<div>\n",
       "<style scoped>\n",
       "    .dataframe tbody tr th:only-of-type {\n",
       "        vertical-align: middle;\n",
       "    }\n",
       "\n",
       "    .dataframe tbody tr th {\n",
       "        vertical-align: top;\n",
       "    }\n",
       "\n",
       "    .dataframe thead th {\n",
       "        text-align: right;\n",
       "    }\n",
       "</style>\n",
       "<table border=\"1\" class=\"dataframe\">\n",
       "  <thead>\n",
       "    <tr style=\"text-align: right;\">\n",
       "      <th></th>\n",
       "      <th>symboling</th>\n",
       "      <th>wheelbase</th>\n",
       "      <th>carlength</th>\n",
       "      <th>carwidth</th>\n",
       "      <th>carheight</th>\n",
       "      <th>curbweight</th>\n",
       "      <th>enginesize</th>\n",
       "      <th>boreratio</th>\n",
       "      <th>stroke</th>\n",
       "      <th>compressionratio</th>\n",
       "      <th>horsepower</th>\n",
       "      <th>peakrpm</th>\n",
       "      <th>citympg</th>\n",
       "      <th>highwaympg</th>\n",
       "    </tr>\n",
       "  </thead>\n",
       "  <tbody>\n",
       "    <tr>\n",
       "      <th>count</th>\n",
       "      <td>2.050000e+02</td>\n",
       "      <td>2.050000e+02</td>\n",
       "      <td>2.050000e+02</td>\n",
       "      <td>2.050000e+02</td>\n",
       "      <td>2.050000e+02</td>\n",
       "      <td>2.050000e+02</td>\n",
       "      <td>2.050000e+02</td>\n",
       "      <td>2.050000e+02</td>\n",
       "      <td>2.050000e+02</td>\n",
       "      <td>2.050000e+02</td>\n",
       "      <td>2.050000e+02</td>\n",
       "      <td>2.050000e+02</td>\n",
       "      <td>2.050000e+02</td>\n",
       "      <td>2.050000e+02</td>\n",
       "    </tr>\n",
       "    <tr>\n",
       "      <th>mean</th>\n",
       "      <td>5.848980e-17</td>\n",
       "      <td>-1.496906e-15</td>\n",
       "      <td>3.730349e-15</td>\n",
       "      <td>9.964929e-16</td>\n",
       "      <td>-4.408398e-16</td>\n",
       "      <td>9.910771e-17</td>\n",
       "      <td>5.415722e-19</td>\n",
       "      <td>2.267021e-15</td>\n",
       "      <td>2.126483e-15</td>\n",
       "      <td>-3.115394e-16</td>\n",
       "      <td>1.914458e-16</td>\n",
       "      <td>6.553024e-17</td>\n",
       "      <td>1.104807e-16</td>\n",
       "      <td>1.743863e-16</td>\n",
       "    </tr>\n",
       "    <tr>\n",
       "      <th>std</th>\n",
       "      <td>1.002448e+00</td>\n",
       "      <td>1.002448e+00</td>\n",
       "      <td>1.002448e+00</td>\n",
       "      <td>1.002448e+00</td>\n",
       "      <td>1.002448e+00</td>\n",
       "      <td>1.002448e+00</td>\n",
       "      <td>1.002448e+00</td>\n",
       "      <td>1.002448e+00</td>\n",
       "      <td>1.002448e+00</td>\n",
       "      <td>1.002448e+00</td>\n",
       "      <td>1.002448e+00</td>\n",
       "      <td>1.002448e+00</td>\n",
       "      <td>1.002448e+00</td>\n",
       "      <td>1.002448e+00</td>\n",
       "    </tr>\n",
       "    <tr>\n",
       "      <th>min</th>\n",
       "      <td>-2.281433e+00</td>\n",
       "      <td>-2.023713e+00</td>\n",
       "      <td>-2.677244e+00</td>\n",
       "      <td>-2.620512e+00</td>\n",
       "      <td>-2.430664e+00</td>\n",
       "      <td>-2.055348e+00</td>\n",
       "      <td>-1.586561e+00</td>\n",
       "      <td>-2.923049e+00</td>\n",
       "      <td>-3.789311e+00</td>\n",
       "      <td>-7.931011e-01</td>\n",
       "      <td>-1.422573e+00</td>\n",
       "      <td>-2.049347e+00</td>\n",
       "      <td>-1.872388e+00</td>\n",
       "      <td>-2.147310e+00</td>\n",
       "    </tr>\n",
       "    <tr>\n",
       "      <th>25%</th>\n",
       "      <td>-6.714717e-01</td>\n",
       "      <td>-7.085959e-01</td>\n",
       "      <td>-6.296552e-01</td>\n",
       "      <td>-8.447824e-01</td>\n",
       "      <td>-7.076263e-01</td>\n",
       "      <td>-7.904486e-01</td>\n",
       "      <td>-7.199469e-01</td>\n",
       "      <td>-6.653141e-01</td>\n",
       "      <td>-4.648342e-01</td>\n",
       "      <td>-3.892993e-01</td>\n",
       "      <td>-8.648707e-01</td>\n",
       "      <td>-6.832865e-01</td>\n",
       "      <td>-9.530117e-01</td>\n",
       "      <td>-8.371954e-01</td>\n",
       "    </tr>\n",
       "    <tr>\n",
       "      <th>50%</th>\n",
       "      <td>1.335090e-01</td>\n",
       "      <td>-2.924196e-01</td>\n",
       "      <td>-6.900603e-02</td>\n",
       "      <td>-1.905661e-01</td>\n",
       "      <td>1.538927e-01</td>\n",
       "      <td>-2.725519e-01</td>\n",
       "      <td>-1.662771e-01</td>\n",
       "      <td>-7.312136e-02</td>\n",
       "      <td>1.105560e-01</td>\n",
       "      <td>-2.883489e-01</td>\n",
       "      <td>-2.311186e-01</td>\n",
       "      <td>1.573661e-01</td>\n",
       "      <td>-1.868650e-01</td>\n",
       "      <td>-1.093538e-01</td>\n",
       "    </tr>\n",
       "    <tr>\n",
       "      <th>75%</th>\n",
       "      <td>9.384897e-01</td>\n",
       "      <td>6.065210e-01</td>\n",
       "      <td>7.354037e-01</td>\n",
       "      <td>4.636501e-01</td>\n",
       "      <td>7.282388e-01</td>\n",
       "      <td>7.305117e-01</td>\n",
       "      <td>3.392475e-01</td>\n",
       "      <td>9.262039e-01</td>\n",
       "      <td>4.941494e-01</td>\n",
       "      <td>-1.873985e-01</td>\n",
       "      <td>3.012332e-01</td>\n",
       "      <td>7.878555e-01</td>\n",
       "      <td>7.325109e-01</td>\n",
       "      <td>4.729195e-01</td>\n",
       "    </tr>\n",
       "    <tr>\n",
       "      <th>max</th>\n",
       "      <td>1.743470e+00</td>\n",
       "      <td>3.686225e+00</td>\n",
       "      <td>2.766741e+00</td>\n",
       "      <td>2.987056e+00</td>\n",
       "      <td>2.492302e+00</td>\n",
       "      <td>2.907988e+00</td>\n",
       "      <td>4.792679e+00</td>\n",
       "      <td>2.258638e+00</td>\n",
       "      <td>2.923575e+00</td>\n",
       "      <td>3.244916e+00</td>\n",
       "      <td>4.661448e+00</td>\n",
       "      <td>3.099650e+00</td>\n",
       "      <td>3.643868e+00</td>\n",
       "      <td>3.384286e+00</td>\n",
       "    </tr>\n",
       "  </tbody>\n",
       "</table>\n",
       "</div>"
      ],
      "text/plain": [
       "          symboling     wheelbase     carlength      carwidth     carheight  \\\n",
       "count  2.050000e+02  2.050000e+02  2.050000e+02  2.050000e+02  2.050000e+02   \n",
       "mean   5.848980e-17 -1.496906e-15  3.730349e-15  9.964929e-16 -4.408398e-16   \n",
       "std    1.002448e+00  1.002448e+00  1.002448e+00  1.002448e+00  1.002448e+00   \n",
       "min   -2.281433e+00 -2.023713e+00 -2.677244e+00 -2.620512e+00 -2.430664e+00   \n",
       "25%   -6.714717e-01 -7.085959e-01 -6.296552e-01 -8.447824e-01 -7.076263e-01   \n",
       "50%    1.335090e-01 -2.924196e-01 -6.900603e-02 -1.905661e-01  1.538927e-01   \n",
       "75%    9.384897e-01  6.065210e-01  7.354037e-01  4.636501e-01  7.282388e-01   \n",
       "max    1.743470e+00  3.686225e+00  2.766741e+00  2.987056e+00  2.492302e+00   \n",
       "\n",
       "         curbweight    enginesize     boreratio        stroke  \\\n",
       "count  2.050000e+02  2.050000e+02  2.050000e+02  2.050000e+02   \n",
       "mean   9.910771e-17  5.415722e-19  2.267021e-15  2.126483e-15   \n",
       "std    1.002448e+00  1.002448e+00  1.002448e+00  1.002448e+00   \n",
       "min   -2.055348e+00 -1.586561e+00 -2.923049e+00 -3.789311e+00   \n",
       "25%   -7.904486e-01 -7.199469e-01 -6.653141e-01 -4.648342e-01   \n",
       "50%   -2.725519e-01 -1.662771e-01 -7.312136e-02  1.105560e-01   \n",
       "75%    7.305117e-01  3.392475e-01  9.262039e-01  4.941494e-01   \n",
       "max    2.907988e+00  4.792679e+00  2.258638e+00  2.923575e+00   \n",
       "\n",
       "       compressionratio    horsepower       peakrpm       citympg  \\\n",
       "count      2.050000e+02  2.050000e+02  2.050000e+02  2.050000e+02   \n",
       "mean      -3.115394e-16  1.914458e-16  6.553024e-17  1.104807e-16   \n",
       "std        1.002448e+00  1.002448e+00  1.002448e+00  1.002448e+00   \n",
       "min       -7.931011e-01 -1.422573e+00 -2.049347e+00 -1.872388e+00   \n",
       "25%       -3.892993e-01 -8.648707e-01 -6.832865e-01 -9.530117e-01   \n",
       "50%       -2.883489e-01 -2.311186e-01  1.573661e-01 -1.868650e-01   \n",
       "75%       -1.873985e-01  3.012332e-01  7.878555e-01  7.325109e-01   \n",
       "max        3.244916e+00  4.661448e+00  3.099650e+00  3.643868e+00   \n",
       "\n",
       "         highwaympg  \n",
       "count  2.050000e+02  \n",
       "mean   1.743863e-16  \n",
       "std    1.002448e+00  \n",
       "min   -2.147310e+00  \n",
       "25%   -8.371954e-01  \n",
       "50%   -1.093538e-01  \n",
       "75%    4.729195e-01  \n",
       "max    3.384286e+00  "
      ]
     },
     "execution_count": 11,
     "metadata": {},
     "output_type": "execute_result"
    }
   ],
   "source": [
    "df.describe()"
   ]
  },
  {
   "cell_type": "code",
   "execution_count": 12,
   "id": "8fffc2a8",
   "metadata": {
    "scrolled": false
   },
   "outputs": [
    {
     "name": "stdout",
     "output_type": "stream",
     "text": [
      "<class 'pandas.core.frame.DataFrame'>\n",
      "RangeIndex: 205 entries, 0 to 204\n",
      "Data columns (total 14 columns):\n",
      " #   Column            Non-Null Count  Dtype  \n",
      "---  ------            --------------  -----  \n",
      " 0   symboling         205 non-null    float64\n",
      " 1   wheelbase         205 non-null    float64\n",
      " 2   carlength         205 non-null    float64\n",
      " 3   carwidth          205 non-null    float64\n",
      " 4   carheight         205 non-null    float64\n",
      " 5   curbweight        205 non-null    float64\n",
      " 6   enginesize        205 non-null    float64\n",
      " 7   boreratio         205 non-null    float64\n",
      " 8   stroke            205 non-null    float64\n",
      " 9   compressionratio  205 non-null    float64\n",
      " 10  horsepower        205 non-null    float64\n",
      " 11  peakrpm           205 non-null    float64\n",
      " 12  citympg           205 non-null    float64\n",
      " 13  highwaympg        205 non-null    float64\n",
      "dtypes: float64(14)\n",
      "memory usage: 22.5 KB\n"
     ]
    }
   ],
   "source": [
    "only_numeric = df[numeric_feat]\n",
    "only_numeric.info()"
   ]
  },
  {
   "cell_type": "code",
   "execution_count": 13,
   "id": "66f5d001",
   "metadata": {},
   "outputs": [],
   "source": [
    "only_numeric_corr = only_numeric.corr()"
   ]
  },
  {
   "cell_type": "code",
   "execution_count": 14,
   "id": "28d467a4",
   "metadata": {},
   "outputs": [
    {
     "data": {
      "text/plain": [
       "<AxesSubplot:>"
      ]
     },
     "execution_count": 14,
     "metadata": {},
     "output_type": "execute_result"
    },
    {
     "data": {
      "image/png": "[encoded data removed]",
      "text/plain": [
       "<Figure size 1152x576 with 2 Axes>"
      ]
     },
     "metadata": {
      "needs_background": "light"
     },
     "output_type": "display_data"
    }
   ],
   "source": [
    "plt.figure(figsize=(16,8))\n",
    "sns.heatmap(only_numeric_corr,annot=True )"
   ]
  },
  {
   "cell_type": "markdown",
   "id": "802afd1d",
   "metadata": {},
   "source": [
    "sns.pairplot(penguins, hue=\"species\")"
   ]
  },
  {
   "cell_type": "code",
   "execution_count": 15,
   "id": "88d9d811",
   "metadata": {
    "scrolled": true
   },
   "outputs": [
    {
     "data": {
      "text/html": [
       "<div>\n",
       "<style scoped>\n",
       "    .dataframe tbody tr th:only-of-type {\n",
       "        vertical-align: middle;\n",
       "    }\n",
       "\n",
       "    .dataframe tbody tr th {\n",
       "        vertical-align: top;\n",
       "    }\n",
       "\n",
       "    .dataframe thead th {\n",
       "        text-align: right;\n",
       "    }\n",
       "</style>\n",
       "<table border=\"1\" class=\"dataframe\">\n",
       "  <thead>\n",
       "    <tr style=\"text-align: right;\">\n",
       "      <th></th>\n",
       "      <th>symboling</th>\n",
       "      <th>wheelbase</th>\n",
       "      <th>carlength</th>\n",
       "      <th>carwidth</th>\n",
       "      <th>carheight</th>\n",
       "      <th>curbweight</th>\n",
       "      <th>enginesize</th>\n",
       "      <th>boreratio</th>\n",
       "      <th>stroke</th>\n",
       "      <th>compressionratio</th>\n",
       "      <th>horsepower</th>\n",
       "      <th>peakrpm</th>\n",
       "      <th>citympg</th>\n",
       "      <th>highwaympg</th>\n",
       "    </tr>\n",
       "  </thead>\n",
       "  <tbody>\n",
       "    <tr>\n",
       "      <th>0</th>\n",
       "      <td>0.000000</td>\n",
       "      <td>0.000000</td>\n",
       "      <td>0.000000</td>\n",
       "      <td>0.000000</td>\n",
       "      <td>0.000000</td>\n",
       "      <td>0.000000</td>\n",
       "      <td>0.000000</td>\n",
       "      <td>0.000000</td>\n",
       "      <td>0.000000</td>\n",
       "      <td>0.000000</td>\n",
       "      <td>0.000000</td>\n",
       "      <td>0.000000</td>\n",
       "      <td>0.000000</td>\n",
       "      <td>0.0</td>\n",
       "    </tr>\n",
       "    <tr>\n",
       "      <th>1</th>\n",
       "      <td>-0.531954</td>\n",
       "      <td>0.000000</td>\n",
       "      <td>0.000000</td>\n",
       "      <td>0.000000</td>\n",
       "      <td>0.000000</td>\n",
       "      <td>0.000000</td>\n",
       "      <td>0.000000</td>\n",
       "      <td>0.000000</td>\n",
       "      <td>0.000000</td>\n",
       "      <td>0.000000</td>\n",
       "      <td>0.000000</td>\n",
       "      <td>0.000000</td>\n",
       "      <td>0.000000</td>\n",
       "      <td>0.0</td>\n",
       "    </tr>\n",
       "    <tr>\n",
       "      <th>2</th>\n",
       "      <td>-0.357612</td>\n",
       "      <td>0.874587</td>\n",
       "      <td>0.000000</td>\n",
       "      <td>0.000000</td>\n",
       "      <td>0.000000</td>\n",
       "      <td>0.000000</td>\n",
       "      <td>0.000000</td>\n",
       "      <td>0.000000</td>\n",
       "      <td>0.000000</td>\n",
       "      <td>0.000000</td>\n",
       "      <td>0.000000</td>\n",
       "      <td>0.000000</td>\n",
       "      <td>0.000000</td>\n",
       "      <td>0.0</td>\n",
       "    </tr>\n",
       "    <tr>\n",
       "      <th>3</th>\n",
       "      <td>-0.232919</td>\n",
       "      <td>0.795144</td>\n",
       "      <td>0.841118</td>\n",
       "      <td>0.000000</td>\n",
       "      <td>0.000000</td>\n",
       "      <td>0.000000</td>\n",
       "      <td>0.000000</td>\n",
       "      <td>0.000000</td>\n",
       "      <td>0.000000</td>\n",
       "      <td>0.000000</td>\n",
       "      <td>0.000000</td>\n",
       "      <td>0.000000</td>\n",
       "      <td>0.000000</td>\n",
       "      <td>0.0</td>\n",
       "    </tr>\n",
       "    <tr>\n",
       "      <th>4</th>\n",
       "      <td>-0.541038</td>\n",
       "      <td>0.589435</td>\n",
       "      <td>0.491029</td>\n",
       "      <td>0.279210</td>\n",
       "      <td>0.000000</td>\n",
       "      <td>0.000000</td>\n",
       "      <td>0.000000</td>\n",
       "      <td>0.000000</td>\n",
       "      <td>0.000000</td>\n",
       "      <td>0.000000</td>\n",
       "      <td>0.000000</td>\n",
       "      <td>0.000000</td>\n",
       "      <td>0.000000</td>\n",
       "      <td>0.0</td>\n",
       "    </tr>\n",
       "    <tr>\n",
       "      <th>5</th>\n",
       "      <td>-0.227691</td>\n",
       "      <td>0.776386</td>\n",
       "      <td>0.877728</td>\n",
       "      <td>0.867032</td>\n",
       "      <td>0.295572</td>\n",
       "      <td>0.000000</td>\n",
       "      <td>0.000000</td>\n",
       "      <td>0.000000</td>\n",
       "      <td>0.000000</td>\n",
       "      <td>0.000000</td>\n",
       "      <td>0.000000</td>\n",
       "      <td>0.000000</td>\n",
       "      <td>0.000000</td>\n",
       "      <td>0.0</td>\n",
       "    </tr>\n",
       "    <tr>\n",
       "      <th>6</th>\n",
       "      <td>-0.105790</td>\n",
       "      <td>0.569329</td>\n",
       "      <td>0.683360</td>\n",
       "      <td>0.735433</td>\n",
       "      <td>0.067149</td>\n",
       "      <td>0.850594</td>\n",
       "      <td>0.000000</td>\n",
       "      <td>0.000000</td>\n",
       "      <td>0.000000</td>\n",
       "      <td>0.000000</td>\n",
       "      <td>0.000000</td>\n",
       "      <td>0.000000</td>\n",
       "      <td>0.000000</td>\n",
       "      <td>0.0</td>\n",
       "    </tr>\n",
       "    <tr>\n",
       "      <th>7</th>\n",
       "      <td>-0.130051</td>\n",
       "      <td>0.488750</td>\n",
       "      <td>0.606454</td>\n",
       "      <td>0.559150</td>\n",
       "      <td>0.171071</td>\n",
       "      <td>0.648480</td>\n",
       "      <td>0.583774</td>\n",
       "      <td>0.000000</td>\n",
       "      <td>0.000000</td>\n",
       "      <td>0.000000</td>\n",
       "      <td>0.000000</td>\n",
       "      <td>0.000000</td>\n",
       "      <td>0.000000</td>\n",
       "      <td>0.0</td>\n",
       "    </tr>\n",
       "    <tr>\n",
       "      <th>8</th>\n",
       "      <td>-0.008735</td>\n",
       "      <td>0.160959</td>\n",
       "      <td>0.129533</td>\n",
       "      <td>0.182942</td>\n",
       "      <td>-0.055307</td>\n",
       "      <td>0.168790</td>\n",
       "      <td>0.203129</td>\n",
       "      <td>-0.055909</td>\n",
       "      <td>0.000000</td>\n",
       "      <td>0.000000</td>\n",
       "      <td>0.000000</td>\n",
       "      <td>0.000000</td>\n",
       "      <td>0.000000</td>\n",
       "      <td>0.0</td>\n",
       "    </tr>\n",
       "    <tr>\n",
       "      <th>9</th>\n",
       "      <td>-0.178515</td>\n",
       "      <td>0.249786</td>\n",
       "      <td>0.158414</td>\n",
       "      <td>0.181129</td>\n",
       "      <td>0.261214</td>\n",
       "      <td>0.151362</td>\n",
       "      <td>0.028971</td>\n",
       "      <td>0.005197</td>\n",
       "      <td>0.186110</td>\n",
       "      <td>0.000000</td>\n",
       "      <td>0.000000</td>\n",
       "      <td>0.000000</td>\n",
       "      <td>0.000000</td>\n",
       "      <td>0.0</td>\n",
       "    </tr>\n",
       "    <tr>\n",
       "      <th>10</th>\n",
       "      <td>0.070873</td>\n",
       "      <td>0.353294</td>\n",
       "      <td>0.552623</td>\n",
       "      <td>0.640732</td>\n",
       "      <td>-0.108802</td>\n",
       "      <td>0.750739</td>\n",
       "      <td>0.809769</td>\n",
       "      <td>0.573677</td>\n",
       "      <td>0.080940</td>\n",
       "      <td>-0.204326</td>\n",
       "      <td>0.000000</td>\n",
       "      <td>0.000000</td>\n",
       "      <td>0.000000</td>\n",
       "      <td>0.0</td>\n",
       "    </tr>\n",
       "    <tr>\n",
       "      <th>11</th>\n",
       "      <td>0.273606</td>\n",
       "      <td>-0.360469</td>\n",
       "      <td>-0.287242</td>\n",
       "      <td>-0.220012</td>\n",
       "      <td>-0.320411</td>\n",
       "      <td>-0.266243</td>\n",
       "      <td>-0.244660</td>\n",
       "      <td>-0.254976</td>\n",
       "      <td>-0.067964</td>\n",
       "      <td>-0.435741</td>\n",
       "      <td>0.131073</td>\n",
       "      <td>0.000000</td>\n",
       "      <td>0.000000</td>\n",
       "      <td>0.0</td>\n",
       "    </tr>\n",
       "    <tr>\n",
       "      <th>12</th>\n",
       "      <td>-0.035823</td>\n",
       "      <td>-0.470414</td>\n",
       "      <td>-0.670909</td>\n",
       "      <td>-0.642704</td>\n",
       "      <td>-0.048640</td>\n",
       "      <td>-0.757414</td>\n",
       "      <td>-0.653658</td>\n",
       "      <td>-0.584532</td>\n",
       "      <td>-0.042145</td>\n",
       "      <td>0.324701</td>\n",
       "      <td>-0.801456</td>\n",
       "      <td>-0.113544</td>\n",
       "      <td>0.000000</td>\n",
       "      <td>0.0</td>\n",
       "    </tr>\n",
       "    <tr>\n",
       "      <th>13</th>\n",
       "      <td>0.034606</td>\n",
       "      <td>-0.544082</td>\n",
       "      <td>-0.704662</td>\n",
       "      <td>-0.677218</td>\n",
       "      <td>-0.107358</td>\n",
       "      <td>-0.797465</td>\n",
       "      <td>-0.677470</td>\n",
       "      <td>-0.587012</td>\n",
       "      <td>-0.043931</td>\n",
       "      <td>0.265201</td>\n",
       "      <td>-0.770544</td>\n",
       "      <td>-0.054275</td>\n",
       "      <td>0.971337</td>\n",
       "      <td>0.0</td>\n",
       "    </tr>\n",
       "  </tbody>\n",
       "</table>\n",
       "</div>"
      ],
      "text/plain": [
       "    symboling  wheelbase  carlength  carwidth  carheight  curbweight  \\\n",
       "0    0.000000   0.000000   0.000000  0.000000   0.000000    0.000000   \n",
       "1   -0.531954   0.000000   0.000000  0.000000   0.000000    0.000000   \n",
       "2   -0.357612   0.874587   0.000000  0.000000   0.000000    0.000000   \n",
       "3   -0.232919   0.795144   0.841118  0.000000   0.000000    0.000000   \n",
       "4   -0.541038   0.589435   0.491029  0.279210   0.000000    0.000000   \n",
       "5   -0.227691   0.776386   0.877728  0.867032   0.295572    0.000000   \n",
       "6   -0.105790   0.569329   0.683360  0.735433   0.067149    0.850594   \n",
       "7   -0.130051   0.488750   0.606454  0.559150   0.171071    0.648480   \n",
       "8   -0.008735   0.160959   0.129533  0.182942  -0.055307    0.168790   \n",
       "9   -0.178515   0.249786   0.158414  0.181129   0.261214    0.151362   \n",
       "10   0.070873   0.353294   0.552623  0.640732  -0.108802    0.750739   \n",
       "11   0.273606  -0.360469  -0.287242 -0.220012  -0.320411   -0.266243   \n",
       "12  -0.035823  -0.470414  -0.670909 -0.642704  -0.048640   -0.757414   \n",
       "13   0.034606  -0.544082  -0.704662 -0.677218  -0.107358   -0.797465   \n",
       "\n",
       "    enginesize  boreratio    stroke  compressionratio  horsepower   peakrpm  \\\n",
       "0     0.000000   0.000000  0.000000          0.000000    0.000000  0.000000   \n",
       "1     0.000000   0.000000  0.000000          0.000000    0.000000  0.000000   \n",
       "2     0.000000   0.000000  0.000000          0.000000    0.000000  0.000000   \n",
       "3     0.000000   0.000000  0.000000          0.000000    0.000000  0.000000   \n",
       "4     0.000000   0.000000  0.000000          0.000000    0.000000  0.000000   \n",
       "5     0.000000   0.000000  0.000000          0.000000    0.000000  0.000000   \n",
       "6     0.000000   0.000000  0.000000          0.000000    0.000000  0.000000   \n",
       "7     0.583774   0.000000  0.000000          0.000000    0.000000  0.000000   \n",
       "8     0.203129  -0.055909  0.000000          0.000000    0.000000  0.000000   \n",
       "9     0.028971   0.005197  0.186110          0.000000    0.000000  0.000000   \n",
       "10    0.809769   0.573677  0.080940         -0.204326    0.000000  0.000000   \n",
       "11   -0.244660  -0.254976 -0.067964         -0.435741    0.131073  0.000000   \n",
       "12   -0.653658  -0.584532 -0.042145          0.324701   -0.801456 -0.113544   \n",
       "13   -0.677470  -0.587012 -0.043931          0.265201   -0.770544 -0.054275   \n",
       "\n",
       "     citympg  highwaympg  \n",
       "0   0.000000         0.0  \n",
       "1   0.000000         0.0  \n",
       "2   0.000000         0.0  \n",
       "3   0.000000         0.0  \n",
       "4   0.000000         0.0  \n",
       "5   0.000000         0.0  \n",
       "6   0.000000         0.0  \n",
       "7   0.000000         0.0  \n",
       "8   0.000000         0.0  \n",
       "9   0.000000         0.0  \n",
       "10  0.000000         0.0  \n",
       "11  0.000000         0.0  \n",
       "12  0.000000         0.0  \n",
       "13  0.971337         0.0  "
      ]
     },
     "execution_count": 15,
     "metadata": {},
     "output_type": "execute_result"
    }
   ],
   "source": [
    "lower_cor = pd.DataFrame(np.tril(only_numeric_corr, -1), columns = only_numeric_corr.columns)\n",
    "lower_cor"
   ]
  },
  {
   "cell_type": "markdown",
   "id": "39998c58",
   "metadata": {},
   "source": [
    "> #### Drop features that correlation > |0.86|"
   ]
  },
  {
   "cell_type": "code",
   "execution_count": 16,
   "id": "0f4089b4",
   "metadata": {
    "scrolled": true
   },
   "outputs": [
    {
     "data": {
      "text/plain": [
       "['wheelbase', 'carlength', 'carwidth', 'citympg']"
      ]
     },
     "execution_count": 16,
     "metadata": {},
     "output_type": "execute_result"
    }
   ],
   "source": [
    "to_drop = [column for column in lower_cor if any(lower_cor[column] > abs(0.86) )]\n",
    "to_drop"
   ]
  },
  {
   "cell_type": "code",
   "execution_count": 17,
   "id": "97ea26aa",
   "metadata": {},
   "outputs": [],
   "source": [
    "df = df.drop(to_drop ,axis=1)"
   ]
  },
  {
   "cell_type": "code",
   "execution_count": 18,
   "id": "67a4fafe",
   "metadata": {
    "scrolled": false
   },
   "outputs": [
    {
     "data": {
      "text/html": [
       "<div>\n",
       "<style scoped>\n",
       "    .dataframe tbody tr th:only-of-type {\n",
       "        vertical-align: middle;\n",
       "    }\n",
       "\n",
       "    .dataframe tbody tr th {\n",
       "        vertical-align: top;\n",
       "    }\n",
       "\n",
       "    .dataframe thead th {\n",
       "        text-align: right;\n",
       "    }\n",
       "</style>\n",
       "<table border=\"1\" class=\"dataframe\">\n",
       "  <thead>\n",
       "    <tr style=\"text-align: right;\">\n",
       "      <th></th>\n",
       "      <th>symboling</th>\n",
       "      <th>fueltype</th>\n",
       "      <th>aspiration</th>\n",
       "      <th>doornumber</th>\n",
       "      <th>carbody</th>\n",
       "      <th>drivewheel</th>\n",
       "      <th>enginelocation</th>\n",
       "      <th>carheight</th>\n",
       "      <th>curbweight</th>\n",
       "      <th>enginetype</th>\n",
       "      <th>cylindernumber</th>\n",
       "      <th>enginesize</th>\n",
       "      <th>fuelsystem</th>\n",
       "      <th>boreratio</th>\n",
       "      <th>stroke</th>\n",
       "      <th>compressionratio</th>\n",
       "      <th>horsepower</th>\n",
       "      <th>peakrpm</th>\n",
       "      <th>highwaympg</th>\n",
       "    </tr>\n",
       "  </thead>\n",
       "  <tbody>\n",
       "    <tr>\n",
       "      <th>0</th>\n",
       "      <td>1.743470</td>\n",
       "      <td>gas</td>\n",
       "      <td>std</td>\n",
       "      <td>two</td>\n",
       "      <td>convertible</td>\n",
       "      <td>rwd</td>\n",
       "      <td>front</td>\n",
       "      <td>-2.020417</td>\n",
       "      <td>-0.014566</td>\n",
       "      <td>dohc</td>\n",
       "      <td>four</td>\n",
       "      <td>0.074449</td>\n",
       "      <td>mpfi</td>\n",
       "      <td>0.519071</td>\n",
       "      <td>-1.839377</td>\n",
       "      <td>-0.288349</td>\n",
       "      <td>0.174483</td>\n",
       "      <td>-0.262960</td>\n",
       "      <td>-0.546059</td>\n",
       "    </tr>\n",
       "    <tr>\n",
       "      <th>1</th>\n",
       "      <td>1.743470</td>\n",
       "      <td>gas</td>\n",
       "      <td>std</td>\n",
       "      <td>two</td>\n",
       "      <td>convertible</td>\n",
       "      <td>rwd</td>\n",
       "      <td>front</td>\n",
       "      <td>-2.020417</td>\n",
       "      <td>-0.014566</td>\n",
       "      <td>dohc</td>\n",
       "      <td>four</td>\n",
       "      <td>0.074449</td>\n",
       "      <td>mpfi</td>\n",
       "      <td>0.519071</td>\n",
       "      <td>-1.839377</td>\n",
       "      <td>-0.288349</td>\n",
       "      <td>0.174483</td>\n",
       "      <td>-0.262960</td>\n",
       "      <td>-0.546059</td>\n",
       "    </tr>\n",
       "    <tr>\n",
       "      <th>2</th>\n",
       "      <td>0.133509</td>\n",
       "      <td>gas</td>\n",
       "      <td>std</td>\n",
       "      <td>two</td>\n",
       "      <td>hatchback</td>\n",
       "      <td>rwd</td>\n",
       "      <td>front</td>\n",
       "      <td>-0.543527</td>\n",
       "      <td>0.514882</td>\n",
       "      <td>ohcv</td>\n",
       "      <td>six</td>\n",
       "      <td>0.604046</td>\n",
       "      <td>mpfi</td>\n",
       "      <td>-2.404880</td>\n",
       "      <td>0.685946</td>\n",
       "      <td>-0.288349</td>\n",
       "      <td>1.264536</td>\n",
       "      <td>-0.262960</td>\n",
       "      <td>-0.691627</td>\n",
       "    </tr>\n",
       "    <tr>\n",
       "      <th>3</th>\n",
       "      <td>0.938490</td>\n",
       "      <td>gas</td>\n",
       "      <td>std</td>\n",
       "      <td>four</td>\n",
       "      <td>sedan</td>\n",
       "      <td>fwd</td>\n",
       "      <td>front</td>\n",
       "      <td>0.235942</td>\n",
       "      <td>-0.420797</td>\n",
       "      <td>ohc</td>\n",
       "      <td>four</td>\n",
       "      <td>-0.431076</td>\n",
       "      <td>mpfi</td>\n",
       "      <td>-0.517266</td>\n",
       "      <td>0.462183</td>\n",
       "      <td>-0.035973</td>\n",
       "      <td>-0.053668</td>\n",
       "      <td>0.787855</td>\n",
       "      <td>-0.109354</td>\n",
       "    </tr>\n",
       "    <tr>\n",
       "      <th>4</th>\n",
       "      <td>0.938490</td>\n",
       "      <td>gas</td>\n",
       "      <td>std</td>\n",
       "      <td>four</td>\n",
       "      <td>sedan</td>\n",
       "      <td>4wd</td>\n",
       "      <td>front</td>\n",
       "      <td>0.235942</td>\n",
       "      <td>0.516807</td>\n",
       "      <td>ohc</td>\n",
       "      <td>five</td>\n",
       "      <td>0.218885</td>\n",
       "      <td>mpfi</td>\n",
       "      <td>-0.517266</td>\n",
       "      <td>0.462183</td>\n",
       "      <td>-0.540725</td>\n",
       "      <td>0.275883</td>\n",
       "      <td>0.787855</td>\n",
       "      <td>-1.273900</td>\n",
       "    </tr>\n",
       "    <tr>\n",
       "      <th>...</th>\n",
       "      <td>...</td>\n",
       "      <td>...</td>\n",
       "      <td>...</td>\n",
       "      <td>...</td>\n",
       "      <td>...</td>\n",
       "      <td>...</td>\n",
       "      <td>...</td>\n",
       "      <td>...</td>\n",
       "      <td>...</td>\n",
       "      <td>...</td>\n",
       "      <td>...</td>\n",
       "      <td>...</td>\n",
       "      <td>...</td>\n",
       "      <td>...</td>\n",
       "      <td>...</td>\n",
       "      <td>...</td>\n",
       "      <td>...</td>\n",
       "      <td>...</td>\n",
       "      <td>...</td>\n",
       "    </tr>\n",
       "    <tr>\n",
       "      <th>200</th>\n",
       "      <td>-1.476452</td>\n",
       "      <td>gas</td>\n",
       "      <td>std</td>\n",
       "      <td>four</td>\n",
       "      <td>sedan</td>\n",
       "      <td>rwd</td>\n",
       "      <td>front</td>\n",
       "      <td>0.728239</td>\n",
       "      <td>0.763241</td>\n",
       "      <td>ohc</td>\n",
       "      <td>four</td>\n",
       "      <td>0.339248</td>\n",
       "      <td>mpfi</td>\n",
       "      <td>1.666445</td>\n",
       "      <td>-0.336970</td>\n",
       "      <td>-0.162161</td>\n",
       "      <td>0.250533</td>\n",
       "      <td>0.577692</td>\n",
       "      <td>-0.400490</td>\n",
       "    </tr>\n",
       "    <tr>\n",
       "      <th>201</th>\n",
       "      <td>-1.476452</td>\n",
       "      <td>gas</td>\n",
       "      <td>turbo</td>\n",
       "      <td>four</td>\n",
       "      <td>sedan</td>\n",
       "      <td>rwd</td>\n",
       "      <td>front</td>\n",
       "      <td>0.728239</td>\n",
       "      <td>0.949992</td>\n",
       "      <td>ohc</td>\n",
       "      <td>four</td>\n",
       "      <td>0.339248</td>\n",
       "      <td>mpfi</td>\n",
       "      <td>1.666445</td>\n",
       "      <td>-0.336970</td>\n",
       "      <td>-0.364062</td>\n",
       "      <td>1.416637</td>\n",
       "      <td>0.367529</td>\n",
       "      <td>-0.837195</td>\n",
       "    </tr>\n",
       "    <tr>\n",
       "      <th>202</th>\n",
       "      <td>-1.476452</td>\n",
       "      <td>gas</td>\n",
       "      <td>std</td>\n",
       "      <td>four</td>\n",
       "      <td>sedan</td>\n",
       "      <td>rwd</td>\n",
       "      <td>front</td>\n",
       "      <td>0.728239</td>\n",
       "      <td>0.878757</td>\n",
       "      <td>ohcv</td>\n",
       "      <td>six</td>\n",
       "      <td>1.109571</td>\n",
       "      <td>mpfi</td>\n",
       "      <td>0.926204</td>\n",
       "      <td>-1.232021</td>\n",
       "      <td>-0.338824</td>\n",
       "      <td>0.757535</td>\n",
       "      <td>0.787855</td>\n",
       "      <td>-1.128332</td>\n",
       "    </tr>\n",
       "    <tr>\n",
       "      <th>203</th>\n",
       "      <td>-1.476452</td>\n",
       "      <td>diesel</td>\n",
       "      <td>turbo</td>\n",
       "      <td>four</td>\n",
       "      <td>sedan</td>\n",
       "      <td>rwd</td>\n",
       "      <td>front</td>\n",
       "      <td>0.728239</td>\n",
       "      <td>1.273437</td>\n",
       "      <td>ohc</td>\n",
       "      <td>six</td>\n",
       "      <td>0.435538</td>\n",
       "      <td>idi</td>\n",
       "      <td>-1.183483</td>\n",
       "      <td>0.462183</td>\n",
       "      <td>3.244916</td>\n",
       "      <td>0.047732</td>\n",
       "      <td>-0.683286</td>\n",
       "      <td>-0.546059</td>\n",
       "    </tr>\n",
       "    <tr>\n",
       "      <th>204</th>\n",
       "      <td>-1.476452</td>\n",
       "      <td>gas</td>\n",
       "      <td>turbo</td>\n",
       "      <td>four</td>\n",
       "      <td>sedan</td>\n",
       "      <td>rwd</td>\n",
       "      <td>front</td>\n",
       "      <td>0.728239</td>\n",
       "      <td>0.975021</td>\n",
       "      <td>ohc</td>\n",
       "      <td>four</td>\n",
       "      <td>0.339248</td>\n",
       "      <td>mpfi</td>\n",
       "      <td>1.666445</td>\n",
       "      <td>-0.336970</td>\n",
       "      <td>-0.162161</td>\n",
       "      <td>0.250533</td>\n",
       "      <td>0.577692</td>\n",
       "      <td>-0.837195</td>\n",
       "    </tr>\n",
       "  </tbody>\n",
       "</table>\n",
       "<p>205 rows × 19 columns</p>\n",
       "</div>"
      ],
      "text/plain": [
       "     symboling fueltype aspiration doornumber      carbody drivewheel  \\\n",
       "0     1.743470      gas        std        two  convertible        rwd   \n",
       "1     1.743470      gas        std        two  convertible        rwd   \n",
       "2     0.133509      gas        std        two    hatchback        rwd   \n",
       "3     0.938490      gas        std       four        sedan        fwd   \n",
       "4     0.938490      gas        std       four        sedan        4wd   \n",
       "..         ...      ...        ...        ...          ...        ...   \n",
       "200  -1.476452      gas        std       four        sedan        rwd   \n",
       "201  -1.476452      gas      turbo       four        sedan        rwd   \n",
       "202  -1.476452      gas        std       four        sedan        rwd   \n",
       "203  -1.476452   diesel      turbo       four        sedan        rwd   \n",
       "204  -1.476452      gas      turbo       four        sedan        rwd   \n",
       "\n",
       "    enginelocation  carheight  curbweight enginetype cylindernumber  \\\n",
       "0            front  -2.020417   -0.014566       dohc           four   \n",
       "1            front  -2.020417   -0.014566       dohc           four   \n",
       "2            front  -0.543527    0.514882       ohcv            six   \n",
       "3            front   0.235942   -0.420797        ohc           four   \n",
       "4            front   0.235942    0.516807        ohc           five   \n",
       "..             ...        ...         ...        ...            ...   \n",
       "200          front   0.728239    0.763241        ohc           four   \n",
       "201          front   0.728239    0.949992        ohc           four   \n",
       "202          front   0.728239    0.878757       ohcv            six   \n",
       "203          front   0.728239    1.273437        ohc            six   \n",
       "204          front   0.728239    0.975021        ohc           four   \n",
       "\n",
       "     enginesize fuelsystem  boreratio    stroke  compressionratio  horsepower  \\\n",
       "0      0.074449       mpfi   0.519071 -1.839377         -0.288349    0.174483   \n",
       "1      0.074449       mpfi   0.519071 -1.839377         -0.288349    0.174483   \n",
       "2      0.604046       mpfi  -2.404880  0.685946         -0.288349    1.264536   \n",
       "3     -0.431076       mpfi  -0.517266  0.462183         -0.035973   -0.053668   \n",
       "4      0.218885       mpfi  -0.517266  0.462183         -0.540725    0.275883   \n",
       "..          ...        ...        ...       ...               ...         ...   \n",
       "200    0.339248       mpfi   1.666445 -0.336970         -0.162161    0.250533   \n",
       "201    0.339248       mpfi   1.666445 -0.336970         -0.364062    1.416637   \n",
       "202    1.109571       mpfi   0.926204 -1.232021         -0.338824    0.757535   \n",
       "203    0.435538        idi  -1.183483  0.462183          3.244916    0.047732   \n",
       "204    0.339248       mpfi   1.666445 -0.336970         -0.162161    0.250533   \n",
       "\n",
       "      peakrpm  highwaympg  \n",
       "0   -0.262960   -0.546059  \n",
       "1   -0.262960   -0.546059  \n",
       "2   -0.262960   -0.691627  \n",
       "3    0.787855   -0.109354  \n",
       "4    0.787855   -1.273900  \n",
       "..        ...         ...  \n",
       "200  0.577692   -0.400490  \n",
       "201  0.367529   -0.837195  \n",
       "202  0.787855   -1.128332  \n",
       "203 -0.683286   -0.546059  \n",
       "204  0.577692   -0.837195  \n",
       "\n",
       "[205 rows x 19 columns]"
      ]
     },
     "execution_count": 18,
     "metadata": {},
     "output_type": "execute_result"
    }
   ],
   "source": [
    "df"
   ]
  },
  {
   "cell_type": "markdown",
   "id": "ab2f1e7b",
   "metadata": {},
   "source": [
    "> #### Create Dummy with Qualitative variable"
   ]
  },
  {
   "cell_type": "code",
   "execution_count": 19,
   "id": "ccb6b8e0",
   "metadata": {
    "scrolled": false
   },
   "outputs": [
    {
     "name": "stdout",
     "output_type": "stream",
     "text": [
      "<class 'pandas.core.frame.DataFrame'>\n",
      "RangeIndex: 205 entries, 0 to 204\n",
      "Data columns (total 19 columns):\n",
      " #   Column            Non-Null Count  Dtype  \n",
      "---  ------            --------------  -----  \n",
      " 0   symboling         205 non-null    float64\n",
      " 1   fueltype          205 non-null    object \n",
      " 2   aspiration        205 non-null    object \n",
      " 3   doornumber        205 non-null    object \n",
      " 4   carbody           205 non-null    object \n",
      " 5   drivewheel        205 non-null    object \n",
      " 6   enginelocation    205 non-null    object \n",
      " 7   carheight         205 non-null    float64\n",
      " 8   curbweight        205 non-null    float64\n",
      " 9   enginetype        205 non-null    object \n",
      " 10  cylindernumber    205 non-null    object \n",
      " 11  enginesize        205 non-null    float64\n",
      " 12  fuelsystem        205 non-null    object \n",
      " 13  boreratio         205 non-null    float64\n",
      " 14  stroke            205 non-null    float64\n",
      " 15  compressionratio  205 non-null    float64\n",
      " 16  horsepower        205 non-null    float64\n",
      " 17  peakrpm           205 non-null    float64\n",
      " 18  highwaympg        205 non-null    float64\n",
      "dtypes: float64(10), object(9)\n",
      "memory usage: 30.6+ KB\n"
     ]
    }
   ],
   "source": [
    "df.info()"
   ]
  },
  {
   "cell_type": "code",
   "execution_count": 20,
   "id": "d1ade87a",
   "metadata": {
    "scrolled": true
   },
   "outputs": [
    {
     "data": {
      "text/plain": [
       "['fueltype',\n",
       " 'aspiration',\n",
       " 'doornumber',\n",
       " 'carbody',\n",
       " 'drivewheel',\n",
       " 'enginelocation',\n",
       " 'enginetype',\n",
       " 'cylindernumber',\n",
       " 'fuelsystem']"
      ]
     },
     "execution_count": 20,
     "metadata": {},
     "output_type": "execute_result"
    }
   ],
   "source": [
    "# get non-numerric features\n",
    "non_numeric_feat = df.select_dtypes(include=object).columns.tolist()\n",
    "non_numeric_feat"
   ]
  },
  {
   "cell_type": "code",
   "execution_count": 21,
   "id": "2a2a4840",
   "metadata": {},
   "outputs": [],
   "source": [
    "df_with_dummy = pd.get_dummies(df, columns = non_numeric_feat, drop_first=True)"
   ]
  },
  {
   "cell_type": "code",
   "execution_count": 30,
   "id": "8185bd41",
   "metadata": {
    "scrolled": true
   },
   "outputs": [
    {
     "name": "stdout",
     "output_type": "stream",
     "text": [
      "<class 'pandas.core.frame.DataFrame'>\n",
      "RangeIndex: 205 entries, 0 to 204\n",
      "Data columns (total 39 columns):\n",
      " #   Column                 Non-Null Count  Dtype  \n",
      "---  ------                 --------------  -----  \n",
      " 0   symboling              205 non-null    float64\n",
      " 1   carheight              205 non-null    float64\n",
      " 2   curbweight             205 non-null    float64\n",
      " 3   enginesize             205 non-null    float64\n",
      " 4   boreratio              205 non-null    float64\n",
      " 5   stroke                 205 non-null    float64\n",
      " 6   compressionratio       205 non-null    float64\n",
      " 7   horsepower             205 non-null    float64\n",
      " 8   peakrpm                205 non-null    float64\n",
      " 9   highwaympg             205 non-null    float64\n",
      " 10  fueltype_gas           205 non-null    uint8  \n",
      " 11  aspiration_turbo       205 non-null    uint8  \n",
      " 12  doornumber_two         205 non-null    uint8  \n",
      " 13  carbody_hardtop        205 non-null    uint8  \n",
      " 14  carbody_hatchback      205 non-null    uint8  \n",
      " 15  carbody_sedan          205 non-null    uint8  \n",
      " 16  carbody_wagon          205 non-null    uint8  \n",
      " 17  drivewheel_fwd         205 non-null    uint8  \n",
      " 18  drivewheel_rwd         205 non-null    uint8  \n",
      " 19  enginelocation_rear    205 non-null    uint8  \n",
      " 20  enginetype_dohcv       205 non-null    uint8  \n",
      " 21  enginetype_l           205 non-null    uint8  \n",
      " 22  enginetype_ohc         205 non-null    uint8  \n",
      " 23  enginetype_ohcf        205 non-null    uint8  \n",
      " 24  enginetype_ohcv        205 non-null    uint8  \n",
      " 25  enginetype_rotor       205 non-null    uint8  \n",
      " 26  cylindernumber_five    205 non-null    uint8  \n",
      " 27  cylindernumber_four    205 non-null    uint8  \n",
      " 28  cylindernumber_six     205 non-null    uint8  \n",
      " 29  cylindernumber_three   205 non-null    uint8  \n",
      " 30  cylindernumber_twelve  205 non-null    uint8  \n",
      " 31  cylindernumber_two     205 non-null    uint8  \n",
      " 32  fuelsystem_2bbl        205 non-null    uint8  \n",
      " 33  fuelsystem_4bbl        205 non-null    uint8  \n",
      " 34  fuelsystem_idi         205 non-null    uint8  \n",
      " 35  fuelsystem_mfi         205 non-null    uint8  \n",
      " 36  fuelsystem_mpfi        205 non-null    uint8  \n",
      " 37  fuelsystem_spdi        205 non-null    uint8  \n",
      " 38  fuelsystem_spfi        205 non-null    uint8  \n",
      "dtypes: float64(10), uint8(29)\n",
      "memory usage: 21.9 KB\n"
     ]
    }
   ],
   "source": [
    "df_with_dummy.info()"
   ]
  },
  {
   "cell_type": "markdown",
   "id": "384feff8",
   "metadata": {},
   "source": [
    " # 4.2 PCA Dimensional Reduction"
   ]
  },
  {
   "cell_type": "markdown",
   "id": "4af29d3c",
   "metadata": {},
   "source": [
    "> #### All features PCA"
   ]
  },
  {
   "cell_type": "code",
   "execution_count": 31,
   "id": "417fa6c2",
   "metadata": {},
   "outputs": [],
   "source": [
    "#context function\n",
    "def _plot(value ,title):\n",
    "    x_label = []\n",
    "    for i in range( len(value)):\n",
    "        label = \"PCA:\" +str(i)\n",
    "        x_label.append(label)\n",
    "    plt.figure(figsize=(16,4))\n",
    "    plt.title(title)\n",
    "    sns.set_theme(style=\"whitegrid\")\n",
    "    ax = sns.barplot(x=x_label, y=value )\n",
    "    plt.show()"
   ]
  },
  {
   "cell_type": "code",
   "execution_count": 32,
   "id": "37fcd9d9",
   "metadata": {},
   "outputs": [],
   "source": [
    "pca = PCA()\n",
    "all_feat_pca = pca.fit_transform(df_with_dummy)"
   ]
  },
  {
   "cell_type": "code",
   "execution_count": 33,
   "id": "1d78d52f",
   "metadata": {
    "scrolled": true
   },
   "outputs": [
    {
     "data": {
      "text/plain": [
       "array([[ 4.16168852e-01, -2.15172620e+00,  1.40355481e-01, ...,\n",
       "         3.70020310e-02,  3.69887724e-16, -2.81979322e-16],\n",
       "       [ 4.16168852e-01, -2.15172620e+00,  1.40355481e-01, ...,\n",
       "         3.70020310e-02, -1.39461258e-17, -1.83822128e-16],\n",
       "       [ 9.21321155e-01, -1.23063503e+00, -1.07798624e+00, ...,\n",
       "         3.78511279e-02, -1.48147788e-16,  2.59852583e-16],\n",
       "       ...,\n",
       "       [ 2.64425906e+00,  9.17590530e-02,  1.93007000e+00, ...,\n",
       "         5.13940138e-02,  3.43674045e-17,  6.86800032e-18],\n",
       "       [ 1.25047129e+00,  3.11882649e+00, -1.59296171e+00, ...,\n",
       "        -3.65322988e-02,  7.83936827e-17, -1.63762159e-16],\n",
       "       [ 2.08074373e+00,  7.41922820e-01,  1.37437356e+00, ...,\n",
       "         3.53672333e-02,  3.11843000e-17, -3.85137459e-17]])"
      ]
     },
     "execution_count": 33,
     "metadata": {},
     "output_type": "execute_result"
    }
   ],
   "source": [
    "all_feat_pca"
   ]
  },
  {
   "cell_type": "markdown",
   "id": "393519c2",
   "metadata": {},
   "source": [
    "> Explained Variance ratio "
   ]
  },
  {
   "cell_type": "code",
   "execution_count": 34,
   "id": "73204952",
   "metadata": {},
   "outputs": [],
   "source": [
    "variance_percent = pca.explained_variance_ratio_ * 100\n",
    "#print('Explained Variance ratio = ', variance_percent)"
   ]
  },
  {
   "cell_type": "markdown",
   "id": "e9ddd8f2",
   "metadata": {},
   "source": [
    "> eigen values"
   ]
  },
  {
   "cell_type": "code",
   "execution_count": 35,
   "id": "397b28cc",
   "metadata": {
    "scrolled": true
   },
   "outputs": [],
   "source": [
    "variance = pca.explained_variance_\n",
    "#variance"
   ]
  },
  {
   "cell_type": "markdown",
   "id": "653061b9",
   "metadata": {},
   "source": [
    "> eigen vectors"
   ]
  },
  {
   "cell_type": "code",
   "execution_count": 36,
   "id": "43bfd9e3",
   "metadata": {
    "scrolled": true
   },
   "outputs": [],
   "source": [
    "#pca.components_[0:2,:]"
   ]
  },
  {
   "cell_type": "code",
   "execution_count": 44,
   "id": "2fb4af8e",
   "metadata": {
    "scrolled": false
   },
   "outputs": [],
   "source": [
    "#_plot(variance_percent , \"variance ratio\")"
   ]
  },
  {
   "cell_type": "markdown",
   "id": "e05f0a2e",
   "metadata": {},
   "source": [
    "## 4.2 PCA Dimensional Reduction (4 Components)"
   ]
  },
  {
   "cell_type": "code",
   "execution_count": 403,
   "id": "67d789ca",
   "metadata": {
    "scrolled": false
   },
   "outputs": [],
   "source": [
    "pca4 = PCA(n_components=4)\n",
    "PCA4 = n_pca.fit_transform(df_with_dummy)\n",
    "PCA4C = pd.DataFrame(data=PCA4)"
   ]
  },
  {
   "cell_type": "markdown",
   "id": "c320f7c6",
   "metadata": {},
   "source": [
    "> Eigen values"
   ]
  },
  {
   "cell_type": "code",
   "execution_count": 72,
   "id": "7790dc29",
   "metadata": {},
   "outputs": [],
   "source": [
    "interested_variance_r = n_pca.explained_variance_ratio_ * 100\n",
    "#interested_variance_r"
   ]
  },
  {
   "cell_type": "code",
   "execution_count": 73,
   "id": "309c1ac1",
   "metadata": {
    "scrolled": false
   },
   "outputs": [],
   "source": [
    "#_plot(interested_variance_r , \"4 Component variance_ratio\")"
   ]
  },
  {
   "cell_type": "code",
   "execution_count": 400,
   "id": "83bb858f",
   "metadata": {},
   "outputs": [
    {
     "data": {
      "text/plain": [
       "0      13495.0\n",
       "1      16500.0\n",
       "2      16500.0\n",
       "3      13950.0\n",
       "4      17450.0\n",
       "        ...   \n",
       "200    16845.0\n",
       "201    19045.0\n",
       "202    21485.0\n",
       "203    22470.0\n",
       "204    22625.0\n",
       "Name: price, Length: 205, dtype: float64"
      ]
     },
     "execution_count": 400,
     "metadata": {},
     "output_type": "execute_result"
    }
   ],
   "source": [
    "y"
   ]
  },
  {
   "cell_type": "markdown",
   "id": "3062e270",
   "metadata": {},
   "source": [
    "# Prepare  data for train models"
   ]
  },
  {
   "cell_type": "code",
   "execution_count": 235,
   "id": "ff7294b3",
   "metadata": {},
   "outputs": [],
   "source": [
    "pca2 = PCA(n_components=2)\n",
    "PCA2 = pca2.fit_transform(df_with_dummy)"
   ]
  },
  {
   "cell_type": "code",
   "execution_count": 236,
   "id": "d8e4d3db",
   "metadata": {},
   "outputs": [],
   "source": [
    "pca3 = PCA(n_components=6)\n",
    "PCA3 =  pca3.fit_transform(df_with_dummy)"
   ]
  },
  {
   "cell_type": "markdown",
   "id": "d503f452",
   "metadata": {},
   "source": [
    "# 4.3 Linear Regression"
   ]
  },
  {
   "cell_type": "code",
   "execution_count": 345,
   "id": "414f1d81",
   "metadata": {},
   "outputs": [],
   "source": [
    "def _lrplot(x ,y, y_prediction ,name_of_set):\n",
    "    plt.figure(figsize=(12,12))\n",
    "    plt.plot(x , y_prediction ,color='b' ,label=\"Linear Regression\" ,linewidth=2.5)\n",
    "    plt.scatter(x , y ,color='r' , alpha=1 , label=name_of_set ,s=50)\n",
    "    plt.legend()"
   ]
  },
  {
   "cell_type": "code",
   "execution_count": 346,
   "id": "db013854",
   "metadata": {},
   "outputs": [],
   "source": [
    "validate_r2 = []\n",
    "test_r2 = []\n",
    "validate_mse = []\n",
    "test_mse  = []"
   ]
  },
  {
   "cell_type": "code",
   "execution_count": 347,
   "id": "6ccd220d",
   "metadata": {
    "scrolled": true
   },
   "outputs": [],
   "source": [
    "NO_PCA = df_with_dummy\n",
    "#PCA1 = test_df[\"PCA1\"].values.reshape(-1,1)\n",
    "#PCA2 = test_df[\"PCA2\"].values.reshape(-1,1)\n",
    "#PCA3 = test_df[\"PCA3\"].values.reshape(-1,1)\n",
    "#PCA4 = test_df[\"PCA4\"].values.reshape(-1,1)\n"
   ]
  },
  {
   "cell_type": "code",
   "execution_count": 348,
   "id": "0ef768b7",
   "metadata": {},
   "outputs": [],
   "source": [
    "# Shuffle Split (Train / Test Split)\n",
    "Rseed = 40\n",
    "NO_PCA_train, NO_PCA_test, y_train_set, y_test = train_test_split(NO_PCA, y, test_size = 0.3, random_state = Rseed)\n",
    "PCA2_train, PCA2_test, y_train_set, y_test = train_test_split(PCA2, y, test_size = 0.3, random_state = Rseed)\n",
    "PCA3_train, PCA3_test, y_train_set, y_test = train_test_split(PCA3, y, test_size = 0.3, random_state = Rseed)\n",
    "PCA4_train, PCA4_test, y_train_set, y_test = train_test_split(PCA4, y, test_size = 0.3, random_state = Rseed)"
   ]
  },
  {
   "cell_type": "code",
   "execution_count": 349,
   "id": "4f2409a9",
   "metadata": {},
   "outputs": [],
   "source": [
    "#Shuffle Split (Train / Validation Split)\n",
    "NO_PCA_train, NO_PCA_validate, y_train, y_validate = train_test_split(NO_PCA_train, y_train_set, test_size = 0.3, random_state = Rseed)\n",
    "#PCA1_train, PCA1_validate,y_train, y_validate = train_test_split(PCA1_train, y_train_set, test_size = 0.3, random_state = Rseed)\n",
    "PCA2_train, PCA2_validate, y_train, y_validate = train_test_split(PCA2_train, y_train_set, test_size = 0.3, random_state = Rseed)\n",
    "PCA3_train, PCA3_validate,y_train, y_validate = train_test_split(PCA3_train, y_train_set, test_size = 0.3, random_state = Rseed)\n",
    "PCA4_train, PCA4_validate,y_train, y_validate = train_test_split(PCA4_train, y_train_set, test_size = 0.3, random_state = Rseed)"
   ]
  },
  {
   "cell_type": "markdown",
   "id": "34c7f733",
   "metadata": {},
   "source": [
    "> ##  NO PCA"
   ]
  },
  {
   "cell_type": "code",
   "execution_count": 350,
   "id": "7e13adeb",
   "metadata": {},
   "outputs": [],
   "source": [
    "# Perform Linear Regression -> All variables\n",
    "lr= LinearRegression()\n",
    "# Train\n",
    "nopca_model = lr.fit(NO_PCA_train, y_train )\n",
    "# Validate\n",
    "nopca_prediction = nopca_model.predict(NO_PCA_validate)\n",
    "# Test\n",
    "nopcatest_prediction = nopca_model.predict(NO_PCA_test)"
   ]
  },
  {
   "cell_type": "code",
   "execution_count": 351,
   "id": "b6d0c43e",
   "metadata": {
    "scrolled": true
   },
   "outputs": [
    {
     "data": {
      "text/plain": [
       "(1677, 1)"
      ]
     },
     "execution_count": 351,
     "metadata": {},
     "output_type": "execute_result"
    }
   ],
   "source": [
    "#Measure Accuracy Validation and Test\n",
    "r2score_nopca = r2_score(y_validate, nopca_prediction)\n",
    "r2score_nopca_t = r2_score(y_test ,nopcatest_prediction)\n",
    "mse_nopca_v = nopca_model.score(NO_PCA_validate, y_validate)\n",
    "mse_nopca_t  = nopca_model.score(NO_PCA_test, y_test)\n",
    "NO_PCA_validate.values.reshape(-1,1).shape"
   ]
  },
  {
   "cell_type": "code",
   "execution_count": 352,
   "id": "522a2ad0",
   "metadata": {},
   "outputs": [],
   "source": [
    "validate_r2.append(r2score_nopca)\n",
    "test_r2.append(r2score_nopca_t)\n",
    "validate_mse.append(mse_nopca_v)\n",
    "test_mse.append(mse_nopca_t)"
   ]
  },
  {
   "cell_type": "raw",
   "id": "f0afa174",
   "metadata": {},
   "source": [
    "> ## MOST VARIANCE PCA"
   ]
  },
  {
   "cell_type": "raw",
   "id": "438b7d26",
   "metadata": {},
   "source": [
    "# Perform Linear Regression -> All variables\n",
    "lr = LinearRegression()\n",
    "# Train\n",
    "pca1_model = lr.fit(PCA1_train, y_train)\n",
    "# Validate\n",
    "pca1_prediction = pca1_model.predict(PCA1_validate)\n",
    "# Test\n",
    "pca1test_prediction = pca1_model.predict(PCA1_test)"
   ]
  },
  {
   "cell_type": "raw",
   "id": "1b7a71ca",
   "metadata": {},
   "source": [
    "r2score_pca1 = r2_score(pca1_prediction, y_validate)\n",
    "r2score_pca1_t = r2_score(pca1test_prediction, y_test)\n",
    "mse_pca1_v = pca1_model.score(PCA1_validate, y_validate)\n",
    "mse_pca1_t  = pca1_model.score(PCA1_test, y_test)"
   ]
  },
  {
   "cell_type": "raw",
   "id": "358e1a77",
   "metadata": {},
   "source": [
    "r2score_pca1"
   ]
  },
  {
   "cell_type": "raw",
   "id": "de39f664",
   "metadata": {},
   "source": [
    "validate_r2.append(r2score_pca1)\n",
    "test_r2.append(r2score_pca1_t)\n",
    "validate_mse.append(mse_pca1_v)\n",
    "test_mse.append(mse_pca1_t)"
   ]
  },
  {
   "cell_type": "raw",
   "id": "c91ca389",
   "metadata": {},
   "source": [
    "_lrplot(PCA1_test, y_test , pca1test_prediction ,\"MOST VARIANCE PCA \")"
   ]
  },
  {
   "cell_type": "markdown",
   "id": "bcdfb513",
   "metadata": {},
   "source": [
    "> ## 2 COMPONENTS PCA"
   ]
  },
  {
   "cell_type": "code",
   "execution_count": 441,
   "id": "27afb521",
   "metadata": {},
   "outputs": [],
   "source": [
    "# Perform Linear Regression -> All variables\n",
    "lr = LinearRegression()\n",
    "# Train\n",
    "pca2_model = lr.fit(PCA2_train, y_train )\n",
    "# Validate\n",
    "pca2_prediction = pca2_model.predict(PCA2_validate)\n",
    "# Test\n",
    "pca2test_prediction = pca2_model.predict(PCA2_test)"
   ]
  },
  {
   "cell_type": "code",
   "execution_count": 442,
   "id": "98703c58",
   "metadata": {},
   "outputs": [
    {
     "data": {
      "text/plain": [
       "array([3326.96085902, -166.49114966])"
      ]
     },
     "execution_count": 442,
     "metadata": {},
     "output_type": "execute_result"
    }
   ],
   "source": [
    "pca2_model.coef_"
   ]
  },
  {
   "cell_type": "code",
   "execution_count": 354,
   "id": "c6b17e3e",
   "metadata": {},
   "outputs": [],
   "source": [
    "r2score_pca2 = r2_score( y_validate, pca2_prediction)\n",
    "r2score_pca2_t = r2_score(y_test ,pca2test_prediction)\n",
    "mse_pca2_v = pca2_model.score(PCA2_validate, y_validate)\n",
    "mse_pca2_t  = pca2_model.score(PCA2_test, y_test)"
   ]
  },
  {
   "cell_type": "code",
   "execution_count": 462,
   "id": "05fdf28f",
   "metadata": {},
   "outputs": [
    {
     "data": {
      "text/plain": [
       "0.7218911566494177"
      ]
     },
     "execution_count": 462,
     "metadata": {},
     "output_type": "execute_result"
    }
   ],
   "source": [
    "mse_pca2_t"
   ]
  },
  {
   "cell_type": "code",
   "execution_count": 356,
   "id": "c11099c5",
   "metadata": {},
   "outputs": [],
   "source": [
    "validate_r2.append(r2score_pca2)\n",
    "test_r2.append(r2score_pca2_t)\n",
    "validate_mse.append(mse_pca2_v)\n",
    "test_mse.append(mse_pca2_t)"
   ]
  },
  {
   "cell_type": "markdown",
   "id": "c7b1ae06",
   "metadata": {},
   "source": [
    "> # 6 Components PCA"
   ]
  },
  {
   "cell_type": "code",
   "execution_count": 359,
   "id": "6bca8ab5",
   "metadata": {},
   "outputs": [],
   "source": [
    "# Train\n",
    "pca3_model = lr.fit(PCA3_train, y_train )\n",
    "# Validate\n",
    "pca3_prediction = pca3_model.predict(PCA3_validate)\n",
    "# Test\n",
    "pca3test_prediction = pca3_model.predict(PCA3_test)"
   ]
  },
  {
   "cell_type": "code",
   "execution_count": 360,
   "id": "065b9e1c",
   "metadata": {},
   "outputs": [],
   "source": [
    "r2score_pca3 = r2_score(y_validate ,pca3_prediction )\n",
    "r2score_pca3_t = r2_score(y_test ,pca3test_prediction )\n",
    "mse_pca3_v = pca3_model.score(PCA3_validate, y_validate)\n",
    "mse_pca3_v  = pca3_model.score(PCA3_test, y_test)"
   ]
  },
  {
   "cell_type": "code",
   "execution_count": 361,
   "id": "f5b4e705",
   "metadata": {},
   "outputs": [],
   "source": [
    "validate_r2.append(r2score_pca3)\n",
    "test_r2.append(r2score_pca3_t)\n",
    "validate_mse.append(mse_pca3_v)\n",
    "test_mse.append(mse_pca3_v)"
   ]
  },
  {
   "cell_type": "markdown",
   "id": "7ee970d1",
   "metadata": {},
   "source": [
    "> # 4 Components PCA"
   ]
  },
  {
   "cell_type": "code",
   "execution_count": 362,
   "id": "679ac28d",
   "metadata": {},
   "outputs": [],
   "source": [
    "# Train model\n",
    "pca4_model = lr.fit(PCA4_train, y_train )\n",
    "# Validate\n",
    "pca4_prediction = pca4_model.predict(PCA4_validate)\n",
    "# Test\n",
    "pca4test_prediction = pca4_model.predict(PCA4_test)"
   ]
  },
  {
   "cell_type": "code",
   "execution_count": 363,
   "id": "84d5d8ee",
   "metadata": {},
   "outputs": [],
   "source": [
    "r2score_pca4 = r2_score(y_validate ,pca4_prediction )\n",
    "r2score_pca4_t = r2_score(y_test ,pca4test_prediction )\n",
    "mse_pca4_v = pca4_model.score(PCA4_validate, y_validate)\n",
    "mse_pca4_t  = pca4_model.score(PCA4_test, y_test)"
   ]
  },
  {
   "cell_type": "code",
   "execution_count": 364,
   "id": "bea4afd7",
   "metadata": {},
   "outputs": [],
   "source": [
    "validate_r2.append(r2score_pca4)\n",
    "test_r2.append(r2score_pca4_t)\n",
    "validate_mse.append(mse_pca4_v)\n",
    "test_mse.append(mse_pca4_t)"
   ]
  },
  {
   "cell_type": "markdown",
   "id": "a5947ba6",
   "metadata": {},
   "source": [
    "# COMPARE SCORES BETWEEN VALIDATION & TEST "
   ]
  },
  {
   "cell_type": "code",
   "execution_count": 466,
   "id": "6a4d9871",
   "metadata": {},
   "outputs": [],
   "source": [
    "r2_scores = np.around(validate_r2 ,decimals=4)\n",
    "r2_Tscores = np.around(test_r2,decimals=4)\n",
    "mse_scores = np.around(validate_mse,decimals=4)\n",
    "mse_Tscores = np.around(test_mse,decimals=4)"
   ]
  },
  {
   "cell_type": "code",
   "execution_count": 468,
   "id": "662bbdbf",
   "metadata": {},
   "outputs": [
    {
     "data": {
      "text/plain": [
       "array([0.847 , 0.7219, 0.8231, 0.7605])"
      ]
     },
     "execution_count": 468,
     "metadata": {},
     "output_type": "execute_result"
    }
   ],
   "source": [
    "mse_Tscores"
   ]
  },
  {
   "cell_type": "code",
   "execution_count": 469,
   "id": "00c68228",
   "metadata": {},
   "outputs": [
    {
     "data": {
      "text/plain": [
       "array(['NOPCA', 'PCA2COM', 'PCA6COMP', 'PCA4COMP'], dtype='<U8')"
      ]
     },
     "execution_count": 469,
     "metadata": {},
     "output_type": "execute_result"
    }
   ],
   "source": [
    "ypos = np.array([\"NOPCA\",\"PCA2COM\",'PCA6COMP','PCA4COMP'])\n",
    "ypos"
   ]
  },
  {
   "cell_type": "code",
   "execution_count": 526,
   "id": "ab014723",
   "metadata": {},
   "outputs": [],
   "source": [
    "def compare_acc (validate_set , test_set) : \n",
    "   \n",
    "    plt.figure(figsize=(8,8))\n",
    "    plt.bar(ypos , validate_set ,label=\"validate set\" ,align=\"center\"  )\n",
    "    plt.plot(test_set ,color='r' , label=\"test set\" , linewidth=2.5 )\n",
    "    plt.legend()\n",
    "    \n",
    "    for i in range(len(validate_set)):\n",
    "        plt.text(i , validate_set[i] ,validate_set[i] ,ha=\"center\")"
   ]
  },
  {
   "cell_type": "code",
   "execution_count": 527,
   "id": "0f25b9fe",
   "metadata": {},
   "outputs": [
    {
     "data": {
      "image/png": "[encoded data removed]",
      "text/plain": [
       "<Figure size 576x576 with 1 Axes>"
      ]
     },
     "metadata": {},
     "output_type": "display_data"
    }
   ],
   "source": [
    "compare_acc(mse_scores , mse_Tscores)"
   ]
  },
  {
   "cell_type": "code",
   "execution_count": 528,
   "id": "11da9e18",
   "metadata": {},
   "outputs": [
    {
     "data": {
      "image/png": "[encoded data removed]",
      "text/plain": [
       "<Figure size 576x576 with 1 Axes>"
      ]
     },
     "metadata": {},
     "output_type": "display_data"
    }
   ],
   "source": [
    "compare_acc(r2_scores , r2_Tscores)"
   ]
  },
  {
   "cell_type": "markdown",
   "id": "8486f51a",
   "metadata": {},
   "source": [
    "> # Stats models"
   ]
  },
  {
   "cell_type": "code",
   "execution_count": 529,
   "id": "7d258b4e",
   "metadata": {},
   "outputs": [],
   "source": [
    "import statsmodels.api as sm\n",
    "import statsmodels.formula.api as smf"
   ]
  },
  {
   "cell_type": "code",
   "execution_count": 530,
   "id": "72256a79",
   "metadata": {},
   "outputs": [],
   "source": [
    "def _createDf(PCA):\n",
    "    df = pd.DataFrame(data=PCA)\n",
    "    concated = pd.concat([df , y] ,join = 'outer', axis = 1)\n",
    "    return df"
   ]
  },
  {
   "cell_type": "code",
   "execution_count": 531,
   "id": "4efe7f64",
   "metadata": {},
   "outputs": [],
   "source": [
    "pca2_comp = _createDf(PCA2)\n",
    "pca4_comp = _createDf(PCA4)\n",
    "pca6_comp = _createDf(PCA3)"
   ]
  },
  {
   "cell_type": "markdown",
   "id": "c8f50ec8",
   "metadata": {},
   "source": [
    "> 2 component"
   ]
  },
  {
   "cell_type": "code",
   "execution_count": 534,
   "id": "81ff7036",
   "metadata": {},
   "outputs": [],
   "source": [
    "model_4comp = sm.OLS(pca4_comp ,y )\n",
    "res = model_4comp.fit()"
   ]
  },
  {
   "cell_type": "code",
   "execution_count": 1,
   "id": "3325e3be",
   "metadata": {},
   "outputs": [
    {
     "ename": "NameError",
     "evalue": "name 'res' is not defined",
     "output_type": "error",
     "traceback": [
      "\u001b[1;31m---------------------------------------------------------------------------\u001b[0m",
      "\u001b[1;31mNameError\u001b[0m                                 Traceback (most recent call last)",
      "\u001b[1;32m<ipython-input-1-ba064a039ab1>\u001b[0m in \u001b[0;36m<module>\u001b[1;34m\u001b[0m\n\u001b[1;32m----> 1\u001b[1;33m \u001b[0mprint\u001b[0m\u001b[1;33m(\u001b[0m\u001b[0mres\u001b[0m\u001b[1;33m.\u001b[0m\u001b[0msummary\u001b[0m\u001b[1;33m(\u001b[0m\u001b[1;33m)\u001b[0m\u001b[1;33m)\u001b[0m\u001b[1;33m\u001b[0m\u001b[1;33m\u001b[0m\u001b[0m\n\u001b[0m",
      "\u001b[1;31mNameError\u001b[0m: name 'res' is not defined"
     ]
    }
   ],
   "source": [
    "print(res.summary())"
   ]
  },
  {
   "cell_type": "code",
   "execution_count": 536,
   "id": "36bbe199",
   "metadata": {},
   "outputs": [
    {
     "data": {
      "text/plain": [
       "13416.908956403204"
      ]
     },
     "execution_count": 536,
     "metadata": {},
     "output_type": "execute_result"
    }
   ],
   "source": [
    "pca4_model.intercept_"
   ]
  },
  {
   "cell_type": "code",
   "execution_count": null,
   "id": "e575ede3",
   "metadata": {},
   "outputs": [],
   "source": []
  }
 ],
 "metadata": {
  "kernelspec": {
   "display_name": "Python 3",
   "language": "python",
   "name": "python3"
  },
  "language_info": {
   "codemirror_mode": {
    "name": "ipython",
    "version": 3
   },
   "file_extension": ".py",
   "mimetype": "text/x-python",
   "name": "python",
   "nbconvert_exporter": "python",
   "pygments_lexer": "ipython3",
   "version": "3.8.8"
  }
 },
 "nbformat": 4,
 "nbformat_minor": 5
}
