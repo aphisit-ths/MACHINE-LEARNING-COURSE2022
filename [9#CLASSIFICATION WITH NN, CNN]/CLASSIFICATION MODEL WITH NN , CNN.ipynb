{
 "cells": [
  {
   "cell_type": "markdown",
   "id": "79b8d9c5",
   "metadata": {},
   "source": [
    "# function stores"
   ]
  },
  {
   "cell_type": "code",
   "execution_count": 1,
   "id": "080ea374",
   "metadata": {},
   "outputs": [],
   "source": [
    "def _classification_report(prediction , nameOfModel) : \n",
    "    #PREPARE SECCTION\n",
    "    target_names = df_label[\"sleep\"].unique().sort()\n",
    "    clf_rbf_raw = classification_report(y_test,prediction ,target_names=target_names  ,output_dict=True)\n",
    "    clf_rbf = pd.DataFrame(clf_rbf_raw)\n",
    "    \n",
    "    #PLOTING SECCTION\n",
    "    fig = px.imshow(clf_rbf.iloc[:-1, :].T, text_auto=True ,aspect=\"auto\",color_continuous_scale='GnBu'  )\n",
    "    fig.update_layout(height=400, width=500, title_text='Classification Report of '+str(nameOfModel) +\"SVM\")\n",
    "    fig.show()"
   ]
  },
  {
   "cell_type": "markdown",
   "id": "52f61798",
   "metadata": {},
   "source": [
    "# import lib"
   ]
  },
  {
   "cell_type": "code",
   "execution_count": 266,
   "id": "e2b41099",
   "metadata": {},
   "outputs": [],
   "source": [
    "import numpy as np\n",
    "import pandas as pd\n",
    "import matplotlib.pyplot as plt\n",
    "import plotly.express as px\n",
    "import seaborn as sns\n",
    "from sklearn.preprocessing import MinMaxScaler,StandardScaler\n",
    "from sklearn.model_selection import  GridSearchCV ,RandomizedSearchCV\n",
    "from sklearn.metrics import accuracy_score, classification_report, confusion_matrix\n",
    "from sklearn.metrics import plot_confusion_matrix\n",
    "import plotly.graph_objects as go\n",
    "from sklearn.model_selection import train_test_split, cross_val_score, StratifiedKFold\n",
    "from sklearn.svm import SVC\n",
    "import warnings\n",
    "warnings.filterwarnings('ignore')\n",
    "from scipy import stats"
   ]
  },
  {
   "cell_type": "markdown",
   "id": "03090ceb",
   "metadata": {},
   "source": [
    "# (a) Load and Prepare Data"
   ]
  },
  {
   "cell_type": "code",
   "execution_count": 3,
   "id": "4e354efa",
   "metadata": {
    "scrolled": true
   },
   "outputs": [],
   "source": [
    "# Load data from csv 3 files\n",
    "# acceleration.txt, heartrate.txt, labeled_sleep.txt\n",
    "acceleration = \"./Resources/46343_acceleration.txt\"\n",
    "heartrate = \"./Resources/46343_heartrate.txt\"\n",
    "labeled_sleep=\"./Resources/46343_labeled_sleep.txt\"\n",
    "init_acc = pd.read_csv(acceleration, sep = ' ',names=['timedelta', 'accX', 'accY', 'accZ'])\n",
    "init_heartrate = pd.read_csv(heartrate, sep = ',',names=['timedelta', 'heartrate'])\n",
    "init_sleep = pd.read_csv(labeled_sleep, sep = ' ',names=['timedelta', 'sleep'])\n",
    "\n",
    "acceleration2 = \"./Resources/844359_acceleration.txt\"\n",
    "heartrate2 = \"./Resources/844359_heartrate.txt\"\n",
    "labeled_sleep2=\"./Resources/844359_labeled_sleep.txt\"\n",
    "init_acc2 = pd.read_csv(acceleration2, sep = ' ',names=['timedelta', 'accX', 'accY', 'accZ'])\n",
    "init_heartrate2 = pd.read_csv(heartrate2, sep = ',',names=['timedelta', 'heartrate'])\n",
    "init_sleep2 = pd.read_csv(labeled_sleep2, sep = ' ',names=['timedelta', 'sleep'])"
   ]
  },
  {
   "cell_type": "code",
   "execution_count": 5,
   "id": "4c3a4f9e",
   "metadata": {},
   "outputs": [
    {
     "data": {
      "text/html": [
       "<div>\n",
       "<style scoped>\n",
       "    .dataframe tbody tr th:only-of-type {\n",
       "        vertical-align: middle;\n",
       "    }\n",
       "\n",
       "    .dataframe tbody tr th {\n",
       "        vertical-align: top;\n",
       "    }\n",
       "\n",
       "    .dataframe thead th {\n",
       "        text-align: right;\n",
       "    }\n",
       "</style>\n",
       "<table border=\"1\" class=\"dataframe\">\n",
       "  <thead>\n",
       "    <tr style=\"text-align: right;\">\n",
       "      <th></th>\n",
       "      <th>timedelta</th>\n",
       "      <th>accX</th>\n",
       "      <th>accY</th>\n",
       "      <th>accZ</th>\n",
       "    </tr>\n",
       "  </thead>\n",
       "  <tbody>\n",
       "    <tr>\n",
       "      <th>0</th>\n",
       "      <td>-500.492604</td>\n",
       "      <td>-0.023804</td>\n",
       "      <td>-0.535217</td>\n",
       "      <td>-0.832169</td>\n",
       "    </tr>\n",
       "    <tr>\n",
       "      <th>1</th>\n",
       "      <td>-500.474720</td>\n",
       "      <td>-0.015472</td>\n",
       "      <td>-0.535690</td>\n",
       "      <td>-0.833450</td>\n",
       "    </tr>\n",
       "    <tr>\n",
       "      <th>2</th>\n",
       "      <td>-500.455065</td>\n",
       "      <td>-0.019379</td>\n",
       "      <td>-0.528381</td>\n",
       "      <td>-0.834518</td>\n",
       "    </tr>\n",
       "    <tr>\n",
       "      <th>3</th>\n",
       "      <td>-500.434675</td>\n",
       "      <td>-0.013473</td>\n",
       "      <td>-0.531311</td>\n",
       "      <td>-0.836334</td>\n",
       "    </tr>\n",
       "    <tr>\n",
       "      <th>4</th>\n",
       "      <td>-500.414981</td>\n",
       "      <td>-0.015366</td>\n",
       "      <td>-0.533752</td>\n",
       "      <td>-0.839294</td>\n",
       "    </tr>\n",
       "  </tbody>\n",
       "</table>\n",
       "</div>"
      ],
      "text/plain": [
       "    timedelta      accX      accY      accZ\n",
       "0 -500.492604 -0.023804 -0.535217 -0.832169\n",
       "1 -500.474720 -0.015472 -0.535690 -0.833450\n",
       "2 -500.455065 -0.019379 -0.528381 -0.834518\n",
       "3 -500.434675 -0.013473 -0.531311 -0.836334\n",
       "4 -500.414981 -0.015366 -0.533752 -0.839294"
      ]
     },
     "execution_count": 5,
     "metadata": {},
     "output_type": "execute_result"
    }
   ],
   "source": [
    "init_acc2.head()"
   ]
  },
  {
   "cell_type": "code",
   "execution_count": 6,
   "id": "7af18803",
   "metadata": {},
   "outputs": [
    {
     "data": {
      "text/html": [
       "<div>\n",
       "<style scoped>\n",
       "    .dataframe tbody tr th:only-of-type {\n",
       "        vertical-align: middle;\n",
       "    }\n",
       "\n",
       "    .dataframe tbody tr th {\n",
       "        vertical-align: top;\n",
       "    }\n",
       "\n",
       "    .dataframe thead th {\n",
       "        text-align: right;\n",
       "    }\n",
       "</style>\n",
       "<table border=\"1\" class=\"dataframe\">\n",
       "  <thead>\n",
       "    <tr style=\"text-align: right;\">\n",
       "      <th></th>\n",
       "      <th>timedelta</th>\n",
       "      <th>heartrate</th>\n",
       "    </tr>\n",
       "  </thead>\n",
       "  <tbody>\n",
       "    <tr>\n",
       "      <th>0</th>\n",
       "      <td>-604720.29398</td>\n",
       "      <td>68</td>\n",
       "    </tr>\n",
       "    <tr>\n",
       "      <th>1</th>\n",
       "      <td>-604438.91905</td>\n",
       "      <td>64</td>\n",
       "    </tr>\n",
       "    <tr>\n",
       "      <th>2</th>\n",
       "      <td>-604032.54366</td>\n",
       "      <td>63</td>\n",
       "    </tr>\n",
       "    <tr>\n",
       "      <th>3</th>\n",
       "      <td>-603757.54405</td>\n",
       "      <td>64</td>\n",
       "    </tr>\n",
       "    <tr>\n",
       "      <th>4</th>\n",
       "      <td>-603454.66864</td>\n",
       "      <td>64</td>\n",
       "    </tr>\n",
       "  </tbody>\n",
       "</table>\n",
       "</div>"
      ],
      "text/plain": [
       "      timedelta  heartrate\n",
       "0 -604720.29398         68\n",
       "1 -604438.91905         64\n",
       "2 -604032.54366         63\n",
       "3 -603757.54405         64\n",
       "4 -603454.66864         64"
      ]
     },
     "execution_count": 6,
     "metadata": {},
     "output_type": "execute_result"
    }
   ],
   "source": [
    "init_heartrate2.head()"
   ]
  },
  {
   "cell_type": "code",
   "execution_count": 7,
   "id": "13ef8f46",
   "metadata": {},
   "outputs": [
    {
     "data": {
      "text/html": [
       "<div>\n",
       "<style scoped>\n",
       "    .dataframe tbody tr th:only-of-type {\n",
       "        vertical-align: middle;\n",
       "    }\n",
       "\n",
       "    .dataframe tbody tr th {\n",
       "        vertical-align: top;\n",
       "    }\n",
       "\n",
       "    .dataframe thead th {\n",
       "        text-align: right;\n",
       "    }\n",
       "</style>\n",
       "<table border=\"1\" class=\"dataframe\">\n",
       "  <thead>\n",
       "    <tr style=\"text-align: right;\">\n",
       "      <th></th>\n",
       "      <th>timedelta</th>\n",
       "      <th>sleep</th>\n",
       "    </tr>\n",
       "  </thead>\n",
       "  <tbody>\n",
       "    <tr>\n",
       "      <th>0</th>\n",
       "      <td>0</td>\n",
       "      <td>-1</td>\n",
       "    </tr>\n",
       "    <tr>\n",
       "      <th>1</th>\n",
       "      <td>30</td>\n",
       "      <td>-1</td>\n",
       "    </tr>\n",
       "    <tr>\n",
       "      <th>2</th>\n",
       "      <td>60</td>\n",
       "      <td>-1</td>\n",
       "    </tr>\n",
       "    <tr>\n",
       "      <th>3</th>\n",
       "      <td>90</td>\n",
       "      <td>-1</td>\n",
       "    </tr>\n",
       "    <tr>\n",
       "      <th>4</th>\n",
       "      <td>120</td>\n",
       "      <td>-1</td>\n",
       "    </tr>\n",
       "  </tbody>\n",
       "</table>\n",
       "</div>"
      ],
      "text/plain": [
       "   timedelta  sleep\n",
       "0          0     -1\n",
       "1         30     -1\n",
       "2         60     -1\n",
       "3         90     -1\n",
       "4        120     -1"
      ]
     },
     "execution_count": 7,
     "metadata": {},
     "output_type": "execute_result"
    }
   ],
   "source": [
    "init_sleep2.head()"
   ]
  },
  {
   "cell_type": "code",
   "execution_count": 8,
   "id": "a93123b8",
   "metadata": {},
   "outputs": [
    {
     "name": "stdout",
     "output_type": "stream",
     "text": [
      "acceleration start : -500.492604017\n",
      "acceleration end : 28828.1484408\n"
     ]
    }
   ],
   "source": [
    "acc_max_date = init_acc2[\"timedelta\"].max()\n",
    "acc_min_date = init_acc2[\"timedelta\"].min()\n",
    "print(\"acceleration start :\" ,acc_min_date)\n",
    "print(\"acceleration end :\" ,acc_max_date)"
   ]
  },
  {
   "cell_type": "code",
   "execution_count": 9,
   "id": "b46ec4e4",
   "metadata": {},
   "outputs": [
    {
     "name": "stdout",
     "output_type": "stream",
     "text": [
      "sleep label start : 0\n",
      "sleep label end : 28440\n"
     ]
    }
   ],
   "source": [
    "sleep_min = init_sleep2[\"timedelta\"].min()\n",
    "sleep_max = init_sleep2[\"timedelta\"].max()\n",
    "print(\"sleep label start :\" ,sleep_min)\n",
    "print(\"sleep label end :\" ,sleep_max)"
   ]
  },
  {
   "cell_type": "code",
   "execution_count": 10,
   "id": "43b19850",
   "metadata": {},
   "outputs": [
    {
     "name": "stdout",
     "output_type": "stream",
     "text": [
      "heart rate start : -604720.29398\n",
      "heart rate end : 28993.7883699\n"
     ]
    }
   ],
   "source": [
    "hrate_min = init_heartrate2[\"timedelta\"].min()\n",
    "hrate_max = init_heartrate2[\"timedelta\"].max()\n",
    "print(\"heart rate start :\" ,hrate_min)\n",
    "print(\"heart rate end :\" ,hrate_max)"
   ]
  },
  {
   "cell_type": "markdown",
   "id": "a9bab193",
   "metadata": {},
   "source": [
    "### select only intersected timedelta (ACC, HeartR, SleepL) (ช่วงเวลาที่มีข้อมูลใกล้กัน)"
   ]
  },
  {
   "cell_type": "code",
   "execution_count": 371,
   "id": "e1458250",
   "metadata": {},
   "outputs": [],
   "source": [
    "seleted_min  = 100\n",
    "seleted_max = 10000\n",
    "\n",
    "p2min = 7000\n",
    "p2max = 12000"
   ]
  },
  {
   "cell_type": "code",
   "execution_count": 372,
   "id": "db41ca8b",
   "metadata": {},
   "outputs": [],
   "source": [
    "acc_new = init_acc[(init_acc['timedelta'] > seleted_min ) & (init_acc['timedelta'] <= seleted_max)]\n",
    "heartRate_new = init_heartrate[(init_heartrate['timedelta'] >= seleted_min ) & (init_heartrate['timedelta'] < seleted_max)]\n",
    "sleepLabel_new = init_sleep[(init_sleep['timedelta'] >= seleted_min ) &(init_sleep['timedelta'] <= seleted_max)]"
   ]
  },
  {
   "cell_type": "code",
   "execution_count": 373,
   "id": "89579a6c",
   "metadata": {},
   "outputs": [],
   "source": [
    "p2_acc = init_acc[(init_acc2['timedelta'] > p2min ) & (init_acc2['timedelta'] <= p2max)]\n",
    "p2_hr = init_heartrate[(init_heartrate2['timedelta'] >= p2min ) & (init_heartrate2['timedelta'] < p2max)]\n",
    "p2_sleep = init_sleep[(init_sleep2['timedelta'] >= p2min ) &(init_sleep2['timedelta'] <= p2max)]"
   ]
  },
  {
   "cell_type": "markdown",
   "id": "6287d75d",
   "metadata": {},
   "source": [
    "# Convert to datetime and round to second,"
   ]
  },
  {
   "cell_type": "code",
   "execution_count": 374,
   "id": "11f63f38",
   "metadata": {},
   "outputs": [],
   "source": [
    "acc_new[\"timedelta\"] = pd.DataFrame(pd.to_timedelta(acc_new['timedelta'], unit='s').round('s'))\n",
    "p2_acc[\"timedelta\"] = pd.DataFrame(pd.to_timedelta(p2_acc['timedelta'], unit='s').round('s'))"
   ]
  },
  {
   "cell_type": "markdown",
   "id": "2cba930e",
   "metadata": {},
   "source": [
    "# Average rounding duplicated time"
   ]
  },
  {
   "cell_type": "code",
   "execution_count": 375,
   "id": "28061347",
   "metadata": {},
   "outputs": [],
   "source": [
    "df_acc_X = acc_new.groupby('timedelta')['accX'].mean().reset_index()\n",
    "df_acc_Y = acc_new.groupby('timedelta')['accY'].mean().reset_index()\n",
    "df_acc_Z = acc_new.groupby('timedelta')['accZ'].mean().reset_index()\n",
    "\n",
    "p2x = p2_acc.groupby('timedelta')['accX'].mean().reset_index()\n",
    "p2y = p2_acc.groupby('timedelta')['accY'].mean().reset_index()\n",
    "p2z = p2_acc.groupby('timedelta')['accZ'].mean().reset_index()"
   ]
  },
  {
   "cell_type": "code",
   "execution_count": 376,
   "id": "4466f45c",
   "metadata": {},
   "outputs": [],
   "source": [
    "acc_df = df_acc_X.set_index('timedelta').join(df_acc_Y.set_index('timedelta')).join(df_acc_Z.set_index('timedelta'))\n",
    "p2_acc_df = p2x.set_index('timedelta').join(p2y.set_index('timedelta')).join(p2z.set_index('timedelta'))"
   ]
  },
  {
   "cell_type": "markdown",
   "id": "b2321b91",
   "metadata": {},
   "source": [
    "# (c) Load and Prepare Data (Heart rate)"
   ]
  },
  {
   "cell_type": "code",
   "execution_count": 377,
   "id": "cd150370",
   "metadata": {},
   "outputs": [],
   "source": [
    "heartRate_new[\"timedelta\"] = pd.DataFrame(pd.to_timedelta(heartRate_new['timedelta'], unit='s').round('1s'))\n",
    "p2_hr[\"timedelta\"] = pd.DataFrame(pd.to_timedelta(p2_hr['timedelta'], unit='s').round('1s'))"
   ]
  },
  {
   "cell_type": "code",
   "execution_count": 378,
   "id": "e3a8ae1f",
   "metadata": {},
   "outputs": [],
   "source": [
    "# Group duplicate time\n",
    "heartRate_new = heartRate_new.groupby('timedelta')['heartrate'].mean().reset_index()\n",
    "p2_hr = p2_hr.groupby('timedelta')['heartrate'].mean().reset_index()"
   ]
  },
  {
   "cell_type": "code",
   "execution_count": 379,
   "id": "edc08be1",
   "metadata": {},
   "outputs": [],
   "source": [
    "resample_rule = '1s'\n",
    "heartrate_df = heartRate_new.set_index('timedelta').resample(resample_rule,).median().ffill()\n",
    "p2_hr_df = p2_hr.set_index('timedelta').resample(resample_rule,).median().ffill()"
   ]
  },
  {
   "cell_type": "markdown",
   "id": "ada0f684",
   "metadata": {},
   "source": [
    "# (c) Load and Prepare Data (Sleep Label)"
   ]
  },
  {
   "cell_type": "code",
   "execution_count": 380,
   "id": "edf935fb",
   "metadata": {},
   "outputs": [],
   "source": [
    "sleepLabel_new[\"timedelta\"] = pd.DataFrame(pd.to_timedelta(sleepLabel_new['timedelta'], unit='s').round('1s'))\n",
    "p2_sleep[\"timedelta\"] = pd.DataFrame(pd.to_timedelta(p2_sleep['timedelta'], unit='s').round('1s'))\n"
   ]
  },
  {
   "cell_type": "code",
   "execution_count": 381,
   "id": "7e35ef7f",
   "metadata": {},
   "outputs": [
    {
     "data": {
      "text/html": [
       "<div>\n",
       "<style scoped>\n",
       "    .dataframe tbody tr th:only-of-type {\n",
       "        vertical-align: middle;\n",
       "    }\n",
       "\n",
       "    .dataframe tbody tr th {\n",
       "        vertical-align: top;\n",
       "    }\n",
       "\n",
       "    .dataframe thead th {\n",
       "        text-align: right;\n",
       "    }\n",
       "</style>\n",
       "<table border=\"1\" class=\"dataframe\">\n",
       "  <thead>\n",
       "    <tr style=\"text-align: right;\">\n",
       "      <th></th>\n",
       "      <th>sleep</th>\n",
       "    </tr>\n",
       "    <tr>\n",
       "      <th>timedelta</th>\n",
       "      <th></th>\n",
       "    </tr>\n",
       "  </thead>\n",
       "  <tbody>\n",
       "    <tr>\n",
       "      <th>0 days 01:57:00</th>\n",
       "      <td>2.0</td>\n",
       "    </tr>\n",
       "    <tr>\n",
       "      <th>0 days 01:57:01</th>\n",
       "      <td>2.0</td>\n",
       "    </tr>\n",
       "    <tr>\n",
       "      <th>0 days 01:57:02</th>\n",
       "      <td>2.0</td>\n",
       "    </tr>\n",
       "    <tr>\n",
       "      <th>0 days 01:57:03</th>\n",
       "      <td>2.0</td>\n",
       "    </tr>\n",
       "    <tr>\n",
       "      <th>0 days 01:57:04</th>\n",
       "      <td>2.0</td>\n",
       "    </tr>\n",
       "    <tr>\n",
       "      <th>...</th>\n",
       "      <td>...</td>\n",
       "    </tr>\n",
       "    <tr>\n",
       "      <th>0 days 03:19:56</th>\n",
       "      <td>1.0</td>\n",
       "    </tr>\n",
       "    <tr>\n",
       "      <th>0 days 03:19:57</th>\n",
       "      <td>1.0</td>\n",
       "    </tr>\n",
       "    <tr>\n",
       "      <th>0 days 03:19:58</th>\n",
       "      <td>1.0</td>\n",
       "    </tr>\n",
       "    <tr>\n",
       "      <th>0 days 03:19:59</th>\n",
       "      <td>1.0</td>\n",
       "    </tr>\n",
       "    <tr>\n",
       "      <th>0 days 03:20:00</th>\n",
       "      <td>2.0</td>\n",
       "    </tr>\n",
       "  </tbody>\n",
       "</table>\n",
       "<p>4981 rows × 1 columns</p>\n",
       "</div>"
      ],
      "text/plain": [
       "                 sleep\n",
       "timedelta             \n",
       "0 days 01:57:00    2.0\n",
       "0 days 01:57:01    2.0\n",
       "0 days 01:57:02    2.0\n",
       "0 days 01:57:03    2.0\n",
       "0 days 01:57:04    2.0\n",
       "...                ...\n",
       "0 days 03:19:56    1.0\n",
       "0 days 03:19:57    1.0\n",
       "0 days 03:19:58    1.0\n",
       "0 days 03:19:59    1.0\n",
       "0 days 03:20:00    2.0\n",
       "\n",
       "[4981 rows x 1 columns]"
      ]
     },
     "execution_count": 381,
     "metadata": {},
     "output_type": "execute_result"
    }
   ],
   "source": [
    "sleeplabel_df = sleepLabel_new.set_index('timedelta').resample(resample_rule,).median().ffill()\n",
    "p2_sleep_df = p2_sleep.set_index('timedelta').resample(resample_rule,).median().ffill()\n",
    "p2_sleep_df"
   ]
  },
  {
   "cell_type": "markdown",
   "id": "a69078a9",
   "metadata": {},
   "source": [
    "# ( e) Merge Data and Standardized data"
   ]
  },
  {
   "cell_type": "code",
   "execution_count": 382,
   "id": "4fe96169",
   "metadata": {},
   "outputs": [
    {
     "data": {
      "text/html": [
       "<div>\n",
       "<style scoped>\n",
       "    .dataframe tbody tr th:only-of-type {\n",
       "        vertical-align: middle;\n",
       "    }\n",
       "\n",
       "    .dataframe tbody tr th {\n",
       "        vertical-align: top;\n",
       "    }\n",
       "\n",
       "    .dataframe thead th {\n",
       "        text-align: right;\n",
       "    }\n",
       "</style>\n",
       "<table border=\"1\" class=\"dataframe\">\n",
       "  <thead>\n",
       "    <tr style=\"text-align: right;\">\n",
       "      <th></th>\n",
       "      <th>timedelta</th>\n",
       "      <th>accX</th>\n",
       "      <th>accY</th>\n",
       "      <th>accZ</th>\n",
       "      <th>heartrate</th>\n",
       "      <th>sleep</th>\n",
       "    </tr>\n",
       "  </thead>\n",
       "  <tbody>\n",
       "    <tr>\n",
       "      <th>0</th>\n",
       "      <td>0 days 01:30:34</td>\n",
       "      <td>0.469599</td>\n",
       "      <td>-0.147249</td>\n",
       "      <td>-0.871480</td>\n",
       "      <td>NaN</td>\n",
       "      <td>NaN</td>\n",
       "    </tr>\n",
       "    <tr>\n",
       "      <th>1</th>\n",
       "      <td>0 days 01:30:35</td>\n",
       "      <td>0.475812</td>\n",
       "      <td>-0.145139</td>\n",
       "      <td>-0.868174</td>\n",
       "      <td>NaN</td>\n",
       "      <td>NaN</td>\n",
       "    </tr>\n",
       "    <tr>\n",
       "      <th>2</th>\n",
       "      <td>0 days 01:30:36</td>\n",
       "      <td>0.472598</td>\n",
       "      <td>-0.146138</td>\n",
       "      <td>-0.870019</td>\n",
       "      <td>NaN</td>\n",
       "      <td>NaN</td>\n",
       "    </tr>\n",
       "    <tr>\n",
       "      <th>3</th>\n",
       "      <td>0 days 01:30:37</td>\n",
       "      <td>0.469959</td>\n",
       "      <td>-0.147274</td>\n",
       "      <td>-0.870844</td>\n",
       "      <td>NaN</td>\n",
       "      <td>NaN</td>\n",
       "    </tr>\n",
       "    <tr>\n",
       "      <th>4</th>\n",
       "      <td>0 days 01:30:38</td>\n",
       "      <td>0.469910</td>\n",
       "      <td>-0.147196</td>\n",
       "      <td>-0.870884</td>\n",
       "      <td>NaN</td>\n",
       "      <td>NaN</td>\n",
       "    </tr>\n",
       "    <tr>\n",
       "      <th>...</th>\n",
       "      <td>...</td>\n",
       "      <td>...</td>\n",
       "      <td>...</td>\n",
       "      <td>...</td>\n",
       "      <td>...</td>\n",
       "      <td>...</td>\n",
       "    </tr>\n",
       "    <tr>\n",
       "      <th>4988</th>\n",
       "      <td>0 days 02:53:42</td>\n",
       "      <td>-0.155810</td>\n",
       "      <td>-0.987706</td>\n",
       "      <td>-0.010401</td>\n",
       "      <td>79.0</td>\n",
       "      <td>5.0</td>\n",
       "    </tr>\n",
       "    <tr>\n",
       "      <th>4989</th>\n",
       "      <td>0 days 02:53:43</td>\n",
       "      <td>-0.156098</td>\n",
       "      <td>-0.987573</td>\n",
       "      <td>-0.010050</td>\n",
       "      <td>79.0</td>\n",
       "      <td>5.0</td>\n",
       "    </tr>\n",
       "    <tr>\n",
       "      <th>4990</th>\n",
       "      <td>0 days 02:53:44</td>\n",
       "      <td>-0.156004</td>\n",
       "      <td>-0.987456</td>\n",
       "      <td>-0.011153</td>\n",
       "      <td>79.0</td>\n",
       "      <td>5.0</td>\n",
       "    </tr>\n",
       "    <tr>\n",
       "      <th>4991</th>\n",
       "      <td>0 days 02:53:45</td>\n",
       "      <td>-0.155873</td>\n",
       "      <td>-0.987352</td>\n",
       "      <td>-0.011609</td>\n",
       "      <td>79.0</td>\n",
       "      <td>5.0</td>\n",
       "    </tr>\n",
       "    <tr>\n",
       "      <th>4992</th>\n",
       "      <td>0 days 02:53:46</td>\n",
       "      <td>-0.155722</td>\n",
       "      <td>-0.987719</td>\n",
       "      <td>-0.010237</td>\n",
       "      <td>79.0</td>\n",
       "      <td>5.0</td>\n",
       "    </tr>\n",
       "  </tbody>\n",
       "</table>\n",
       "<p>4993 rows × 6 columns</p>\n",
       "</div>"
      ],
      "text/plain": [
       "           timedelta      accX      accY      accZ  heartrate  sleep\n",
       "0    0 days 01:30:34  0.469599 -0.147249 -0.871480        NaN    NaN\n",
       "1    0 days 01:30:35  0.475812 -0.145139 -0.868174        NaN    NaN\n",
       "2    0 days 01:30:36  0.472598 -0.146138 -0.870019        NaN    NaN\n",
       "3    0 days 01:30:37  0.469959 -0.147274 -0.870844        NaN    NaN\n",
       "4    0 days 01:30:38  0.469910 -0.147196 -0.870884        NaN    NaN\n",
       "...              ...       ...       ...       ...        ...    ...\n",
       "4988 0 days 02:53:42 -0.155810 -0.987706 -0.010401       79.0    5.0\n",
       "4989 0 days 02:53:43 -0.156098 -0.987573 -0.010050       79.0    5.0\n",
       "4990 0 days 02:53:44 -0.156004 -0.987456 -0.011153       79.0    5.0\n",
       "4991 0 days 02:53:45 -0.155873 -0.987352 -0.011609       79.0    5.0\n",
       "4992 0 days 02:53:46 -0.155722 -0.987719 -0.010237       79.0    5.0\n",
       "\n",
       "[4993 rows x 6 columns]"
      ]
     },
     "execution_count": 382,
     "metadata": {},
     "output_type": "execute_result"
    }
   ],
   "source": [
    "df2 = []\n",
    "df2= pd.merge_asof(p2_acc_df, p2_hr_df, on='timedelta')\n",
    "df2 = pd.merge_asof(df2, p2_sleep_df, on='timedelta')\n",
    "df2"
   ]
  },
  {
   "cell_type": "code",
   "execution_count": 383,
   "id": "ad1dbb31",
   "metadata": {},
   "outputs": [],
   "source": [
    "df = []\n",
    "df = pd.merge_asof(acc_df, heartrate_df, on='timedelta')\n",
    "df = pd.merge_asof(df, sleeplabel_df, on='timedelta')"
   ]
  },
  {
   "cell_type": "code",
   "execution_count": 384,
   "id": "5714dbbd",
   "metadata": {},
   "outputs": [
    {
     "data": {
      "text/html": [
       "<div>\n",
       "<style scoped>\n",
       "    .dataframe tbody tr th:only-of-type {\n",
       "        vertical-align: middle;\n",
       "    }\n",
       "\n",
       "    .dataframe tbody tr th {\n",
       "        vertical-align: top;\n",
       "    }\n",
       "\n",
       "    .dataframe thead th {\n",
       "        text-align: right;\n",
       "    }\n",
       "</style>\n",
       "<table border=\"1\" class=\"dataframe\">\n",
       "  <thead>\n",
       "    <tr style=\"text-align: right;\">\n",
       "      <th></th>\n",
       "      <th>timedelta</th>\n",
       "      <th>accX</th>\n",
       "      <th>accY</th>\n",
       "      <th>accZ</th>\n",
       "      <th>heartrate</th>\n",
       "      <th>sleep</th>\n",
       "    </tr>\n",
       "  </thead>\n",
       "  <tbody>\n",
       "    <tr>\n",
       "      <th>0</th>\n",
       "      <td>0 days 00:01:40</td>\n",
       "      <td>-0.376241</td>\n",
       "      <td>0.925141</td>\n",
       "      <td>-0.008848</td>\n",
       "      <td>83.0</td>\n",
       "      <td>NaN</td>\n",
       "    </tr>\n",
       "    <tr>\n",
       "      <th>1</th>\n",
       "      <td>0 days 00:01:41</td>\n",
       "      <td>-0.377814</td>\n",
       "      <td>0.925636</td>\n",
       "      <td>0.003382</td>\n",
       "      <td>83.0</td>\n",
       "      <td>NaN</td>\n",
       "    </tr>\n",
       "    <tr>\n",
       "      <th>2</th>\n",
       "      <td>0 days 00:01:42</td>\n",
       "      <td>-0.379298</td>\n",
       "      <td>0.924588</td>\n",
       "      <td>0.003643</td>\n",
       "      <td>83.0</td>\n",
       "      <td>NaN</td>\n",
       "    </tr>\n",
       "    <tr>\n",
       "      <th>3</th>\n",
       "      <td>0 days 00:01:43</td>\n",
       "      <td>-0.379019</td>\n",
       "      <td>0.925039</td>\n",
       "      <td>0.000995</td>\n",
       "      <td>83.0</td>\n",
       "      <td>NaN</td>\n",
       "    </tr>\n",
       "    <tr>\n",
       "      <th>4</th>\n",
       "      <td>0 days 00:01:44</td>\n",
       "      <td>-0.380270</td>\n",
       "      <td>0.924537</td>\n",
       "      <td>-0.000302</td>\n",
       "      <td>83.0</td>\n",
       "      <td>NaN</td>\n",
       "    </tr>\n",
       "    <tr>\n",
       "      <th>...</th>\n",
       "      <td>...</td>\n",
       "      <td>...</td>\n",
       "      <td>...</td>\n",
       "      <td>...</td>\n",
       "      <td>...</td>\n",
       "      <td>...</td>\n",
       "    </tr>\n",
       "    <tr>\n",
       "      <th>9896</th>\n",
       "      <td>0 days 02:46:36</td>\n",
       "      <td>-0.380194</td>\n",
       "      <td>0.612306</td>\n",
       "      <td>-0.694738</td>\n",
       "      <td>76.0</td>\n",
       "      <td>1.0</td>\n",
       "    </tr>\n",
       "    <tr>\n",
       "      <th>9897</th>\n",
       "      <td>0 days 02:46:37</td>\n",
       "      <td>-0.387287</td>\n",
       "      <td>0.612106</td>\n",
       "      <td>-0.690805</td>\n",
       "      <td>76.0</td>\n",
       "      <td>1.0</td>\n",
       "    </tr>\n",
       "    <tr>\n",
       "      <th>9898</th>\n",
       "      <td>0 days 02:46:38</td>\n",
       "      <td>-0.385302</td>\n",
       "      <td>0.614457</td>\n",
       "      <td>-0.689404</td>\n",
       "      <td>76.0</td>\n",
       "      <td>1.0</td>\n",
       "    </tr>\n",
       "    <tr>\n",
       "      <th>9899</th>\n",
       "      <td>0 days 02:46:39</td>\n",
       "      <td>-0.381994</td>\n",
       "      <td>0.614781</td>\n",
       "      <td>-0.691998</td>\n",
       "      <td>76.0</td>\n",
       "      <td>1.0</td>\n",
       "    </tr>\n",
       "    <tr>\n",
       "      <th>9900</th>\n",
       "      <td>0 days 02:46:40</td>\n",
       "      <td>-0.384866</td>\n",
       "      <td>0.614606</td>\n",
       "      <td>-0.690308</td>\n",
       "      <td>76.0</td>\n",
       "      <td>1.0</td>\n",
       "    </tr>\n",
       "  </tbody>\n",
       "</table>\n",
       "<p>9901 rows × 6 columns</p>\n",
       "</div>"
      ],
      "text/plain": [
       "           timedelta      accX      accY      accZ  heartrate  sleep\n",
       "0    0 days 00:01:40 -0.376241  0.925141 -0.008848       83.0    NaN\n",
       "1    0 days 00:01:41 -0.377814  0.925636  0.003382       83.0    NaN\n",
       "2    0 days 00:01:42 -0.379298  0.924588  0.003643       83.0    NaN\n",
       "3    0 days 00:01:43 -0.379019  0.925039  0.000995       83.0    NaN\n",
       "4    0 days 00:01:44 -0.380270  0.924537 -0.000302       83.0    NaN\n",
       "...              ...       ...       ...       ...        ...    ...\n",
       "9896 0 days 02:46:36 -0.380194  0.612306 -0.694738       76.0    1.0\n",
       "9897 0 days 02:46:37 -0.387287  0.612106 -0.690805       76.0    1.0\n",
       "9898 0 days 02:46:38 -0.385302  0.614457 -0.689404       76.0    1.0\n",
       "9899 0 days 02:46:39 -0.381994  0.614781 -0.691998       76.0    1.0\n",
       "9900 0 days 02:46:40 -0.384866  0.614606 -0.690308       76.0    1.0\n",
       "\n",
       "[9901 rows x 6 columns]"
      ]
     },
     "execution_count": 384,
     "metadata": {},
     "output_type": "execute_result"
    }
   ],
   "source": [
    "df"
   ]
  },
  {
   "cell_type": "code",
   "execution_count": 385,
   "id": "c89c821a",
   "metadata": {},
   "outputs": [
    {
     "data": {
      "text/plain": [
       "timedelta     0\n",
       "accX          0\n",
       "accY          0\n",
       "accZ          0\n",
       "heartrate     0\n",
       "sleep        20\n",
       "dtype: int64"
      ]
     },
     "execution_count": 385,
     "metadata": {},
     "output_type": "execute_result"
    }
   ],
   "source": [
    "df.isnull().sum()"
   ]
  },
  {
   "cell_type": "markdown",
   "id": "8b8ecadb",
   "metadata": {},
   "source": [
    "# fill na sleep data wth 0"
   ]
  },
  {
   "cell_type": "code",
   "execution_count": 386,
   "id": "936b966f",
   "metadata": {},
   "outputs": [],
   "source": [
    "df['sleep'] = df[\"sleep\"].fillna(value=0)\n",
    "df['heartrate'] = df[\"heartrate\"].fillna(df['heartrate'].median())\n",
    "\n",
    "df2['sleep'] = df2[\"sleep\"].fillna(value=0)\n",
    "df2['heartrate'] = df2[\"heartrate\"].fillna(df2['heartrate'].median())"
   ]
  },
  {
   "cell_type": "markdown",
   "id": "6f9a504c",
   "metadata": {},
   "source": [
    "# Standardized data"
   ]
  },
  {
   "cell_type": "code",
   "execution_count": 387,
   "id": "ddfbee80",
   "metadata": {},
   "outputs": [],
   "source": [
    "# Standardized data\n",
    "feature_columns = ['accX', 'accY', 'accZ', 'heartrate']\n",
    "label_columns = ['sleep']\n",
    "df_feature = df[feature_columns]\n",
    "df_label = df[label_columns]\n"
   ]
  },
  {
   "cell_type": "code",
   "execution_count": 388,
   "id": "fd5c23a0",
   "metadata": {},
   "outputs": [],
   "source": [
    "std = StandardScaler()"
   ]
  },
  {
   "cell_type": "code",
   "execution_count": 389,
   "id": "4c3f887a",
   "metadata": {},
   "outputs": [],
   "source": [
    "norm_value = std.fit_transform(df_feature)\n",
    "norm_p2 = std.fit_transform(df2_feature)"
   ]
  },
  {
   "cell_type": "code",
   "execution_count": 390,
   "id": "87c4d082",
   "metadata": {},
   "outputs": [],
   "source": [
    "norm_df = pd.DataFrame(norm_value ,columns=feature_columns)"
   ]
  },
  {
   "cell_type": "markdown",
   "id": "ce3c0f4c",
   "metadata": {},
   "source": [
    "# CREATE 3D INPUT"
   ]
  },
  {
   "cell_type": "code",
   "execution_count": 391,
   "id": "cc2899ee",
   "metadata": {
    "scrolled": true
   },
   "outputs": [
    {
     "data": {
      "text/plain": [
       "(9901, 4)"
      ]
     },
     "execution_count": 391,
     "metadata": {},
     "output_type": "execute_result"
    }
   ],
   "source": [
    "df_feature.shape"
   ]
  },
  {
   "cell_type": "code",
   "execution_count": 392,
   "id": "79b08622",
   "metadata": {
    "scrolled": false
   },
   "outputs": [],
   "source": [
    "# ------------ 1D to 3D feature-------------------------------\n",
    " # set sliding window parameter\n",
    "sliding_window= 100\n",
    "stride_step = 5\n",
    "n_feature = 4\n",
    "df_feature3D =[]\n",
    "target_ = []\n",
    "for t in range( 0 , len(df_feature) -sliding_window , stride_step):\n",
    "    feature = np.array(df_feature.iloc[t:t + sliding_window])\n",
    "    feR = feature.reshape(sliding_window , n_feature , 1)\n",
    "    df_feature3D.append(feR)\n",
    "    \n",
    "    LB_raw  = np.array(df_label.iloc[t : t+slidingW])\n",
    "    mode_val,count = stats.mode(LB_raw ,axis=None )\n",
    "    target_.append(mode_val[0])"
   ]
  },
  {
   "cell_type": "code",
   "execution_count": 393,
   "id": "5669c985",
   "metadata": {},
   "outputs": [
    {
     "data": {
      "text/plain": [
       "array([90])"
      ]
     },
     "execution_count": 393,
     "metadata": {},
     "output_type": "execute_result"
    }
   ],
   "source": [
    "count"
   ]
  },
  {
   "cell_type": "code",
   "execution_count": 394,
   "id": "2e96b86b",
   "metadata": {},
   "outputs": [],
   "source": [
    "df_feature3D = np.array(df_feature3D)"
   ]
  },
  {
   "cell_type": "code",
   "execution_count": 395,
   "id": "9abc8005",
   "metadata": {},
   "outputs": [
    {
     "data": {
      "text/plain": [
       "(1961, 100, 4, 1)"
      ]
     },
     "execution_count": 395,
     "metadata": {},
     "output_type": "execute_result"
    }
   ],
   "source": [
    "df_feature3D.shape"
   ]
  },
  {
   "cell_type": "code",
   "execution_count": 396,
   "id": "95a44434",
   "metadata": {},
   "outputs": [],
   "source": [
    "target_ = np.array(target_)"
   ]
  },
  {
   "cell_type": "code",
   "execution_count": 397,
   "id": "1c895253",
   "metadata": {
    "scrolled": true
   },
   "outputs": [
    {
     "data": {
      "text/plain": [
       "array([-1., -1., -1., ...,  2.,  2.,  2.])"
      ]
     },
     "execution_count": 397,
     "metadata": {},
     "output_type": "execute_result"
    }
   ],
   "source": [
    "target_"
   ]
  },
  {
   "cell_type": "markdown",
   "id": "5ee035c2",
   "metadata": {},
   "source": [
    "# 9.1.2 Train Test Split"
   ]
  },
  {
   "cell_type": "code",
   "execution_count": 399,
   "id": "707dd1f0",
   "metadata": {},
   "outputs": [],
   "source": [
    "# 2D -------------->\n",
    "x_train, x_test, y_train, y_test = train_test_split( df_feature, df_label)\n",
    "\n",
    "# 3D -------------->\n",
    "x3d_train, x3d_test, target_train, target_test = train_test_split( df_feature3D, target_)"
   ]
  },
  {
   "cell_type": "markdown",
   "id": "1e9c0320",
   "metadata": {},
   "source": [
    "# 9.2 NN Model Train and Test"
   ]
  },
  {
   "cell_type": "code",
   "execution_count": 400,
   "id": "0da68efa",
   "metadata": {},
   "outputs": [],
   "source": [
    "from sklearn.neural_network import MLPClassifier"
   ]
  },
  {
   "cell_type": "code",
   "execution_count": 401,
   "id": "b90832e8",
   "metadata": {},
   "outputs": [
    {
     "data": {
      "text/plain": [
       "MLPClassifier(hidden_layer_sizes=(30, 30, 30))"
      ]
     },
     "execution_count": 401,
     "metadata": {},
     "output_type": "execute_result"
    }
   ],
   "source": [
    "# ------------ NN Architecture parameter -------------------------------\n",
    "Hidden_Layer_param = (30, 30, 30)\n",
    "mlp = MLPClassifier(hidden_layer_sizes = Hidden_Layer_param)\n",
    "mlp"
   ]
  },
  {
   "cell_type": "markdown",
   "id": "85271bb4",
   "metadata": {},
   "source": [
    "# Fitting NN Model"
   ]
  },
  {
   "cell_type": "code",
   "execution_count": 402,
   "id": "0f4cf0e0",
   "metadata": {},
   "outputs": [
    {
     "data": {
      "text/plain": [
       "(7425, 1)"
      ]
     },
     "execution_count": 402,
     "metadata": {},
     "output_type": "execute_result"
    }
   ],
   "source": [
    "y_train.shape"
   ]
  },
  {
   "cell_type": "code",
   "execution_count": 403,
   "id": "640cf6f0",
   "metadata": {},
   "outputs": [
    {
     "data": {
      "text/plain": [
       "MLPClassifier(hidden_layer_sizes=(30, 30, 30))"
      ]
     },
     "execution_count": 403,
     "metadata": {},
     "output_type": "execute_result"
    }
   ],
   "source": [
    "mlp.fit(x_train,y_train)"
   ]
  },
  {
   "cell_type": "code",
   "execution_count": 404,
   "id": "abc0d4b3",
   "metadata": {},
   "outputs": [],
   "source": [
    "nn_prediction  = mlp.predict(x_test)"
   ]
  },
  {
   "cell_type": "code",
   "execution_count": 405,
   "id": "20d7eb61",
   "metadata": {},
   "outputs": [
    {
     "data": {
      "text/plain": [
       "array([3., 5., 3., ..., 3., 3., 2.])"
      ]
     },
     "execution_count": 405,
     "metadata": {},
     "output_type": "execute_result"
    }
   ],
   "source": [
    "nn_prediction"
   ]
  },
  {
   "cell_type": "code",
   "execution_count": 406,
   "id": "81155fe9",
   "metadata": {},
   "outputs": [],
   "source": [
    "def _classification_report(prediction , nameOfModel) : \n",
    "    #PREPARE SECCTION\n",
    "    target_names = df_label[\"sleep\"].unique().sort()\n",
    "    clf_rbf_raw = classification_report(y_test,prediction ,target_names=target_names  ,output_dict=True)\n",
    "    clf_rbf = pd.DataFrame(clf_rbf_raw)\n",
    "    \n",
    "    #PLOTING SECCTION\n",
    "    fig = px.imshow(clf_rbf.iloc[:-1, :].T, text_auto=True ,aspect=\"auto\",color_continuous_scale='GnBu'  )\n",
    "    fig.update_layout(height=400, width=500, title_text='Classification Report of '+str(nameOfModel) +\"SVM\")\n",
    "    fig.show()"
   ]
  },
  {
   "cell_type": "code",
   "execution_count": 411,
   "id": "8c0ebc96",
   "metadata": {},
   "outputs": [
    {
     "data": {
      "text/plain": [
       "array([[ 68,   2,   0,   0,   0,   0],\n",
       "       [  6, 249,   0,  44,   3,   5],\n",
       "       [  0,  29,   0,  20,   0,   0],\n",
       "       [  0,  26,   0, 412,  48,  49],\n",
       "       [  0,   2,   0, 132, 936,   0],\n",
       "       [  0,   0,   0,  20,   0, 425]], dtype=int64)"
      ]
     },
     "execution_count": 411,
     "metadata": {},
     "output_type": "execute_result"
    }
   ],
   "source": [
    "from sklearn.metrics import confusion_matrix\n",
    "confusion_matrix(y_test , nn_prediction)"
   ]
  },
  {
   "cell_type": "code",
   "execution_count": 413,
   "id": "92840df0",
   "metadata": {},
   "outputs": [
    {
     "name": "stdout",
     "output_type": "stream",
     "text": [
      "              precision    recall  f1-score   support\n",
      "\n",
      "        -1.0       0.92      0.97      0.94        70\n",
      "         0.0       0.81      0.81      0.81       307\n",
      "         1.0       0.00      0.00      0.00        49\n",
      "         2.0       0.66      0.77      0.71       535\n",
      "         3.0       0.95      0.87      0.91      1070\n",
      "         5.0       0.89      0.96      0.92       445\n",
      "\n",
      "    accuracy                           0.84      2476\n",
      "   macro avg       0.70      0.73      0.72      2476\n",
      "weighted avg       0.84      0.84      0.84      2476\n",
      "\n"
     ]
    }
   ],
   "source": [
    "print(classification_report(y_test , nn_prediction))"
   ]
  },
  {
   "cell_type": "code",
   "execution_count": 418,
   "id": "93a095c4",
   "metadata": {},
   "outputs": [
    {
     "data": {
      "text/html": [
       "<div>\n",
       "<style scoped>\n",
       "    .dataframe tbody tr th:only-of-type {\n",
       "        vertical-align: middle;\n",
       "    }\n",
       "\n",
       "    .dataframe tbody tr th {\n",
       "        vertical-align: top;\n",
       "    }\n",
       "\n",
       "    .dataframe thead th {\n",
       "        text-align: right;\n",
       "    }\n",
       "</style>\n",
       "<table border=\"1\" class=\"dataframe\">\n",
       "  <thead>\n",
       "    <tr style=\"text-align: right;\">\n",
       "      <th></th>\n",
       "      <th>0</th>\n",
       "    </tr>\n",
       "  </thead>\n",
       "  <tbody>\n",
       "    <tr>\n",
       "      <th>0</th>\n",
       "      <td>3.0</td>\n",
       "    </tr>\n",
       "    <tr>\n",
       "      <th>1</th>\n",
       "      <td>5.0</td>\n",
       "    </tr>\n",
       "    <tr>\n",
       "      <th>2</th>\n",
       "      <td>3.0</td>\n",
       "    </tr>\n",
       "    <tr>\n",
       "      <th>3</th>\n",
       "      <td>2.0</td>\n",
       "    </tr>\n",
       "    <tr>\n",
       "      <th>4</th>\n",
       "      <td>5.0</td>\n",
       "    </tr>\n",
       "    <tr>\n",
       "      <th>...</th>\n",
       "      <td>...</td>\n",
       "    </tr>\n",
       "    <tr>\n",
       "      <th>2471</th>\n",
       "      <td>5.0</td>\n",
       "    </tr>\n",
       "    <tr>\n",
       "      <th>2472</th>\n",
       "      <td>5.0</td>\n",
       "    </tr>\n",
       "    <tr>\n",
       "      <th>2473</th>\n",
       "      <td>3.0</td>\n",
       "    </tr>\n",
       "    <tr>\n",
       "      <th>2474</th>\n",
       "      <td>3.0</td>\n",
       "    </tr>\n",
       "    <tr>\n",
       "      <th>2475</th>\n",
       "      <td>2.0</td>\n",
       "    </tr>\n",
       "  </tbody>\n",
       "</table>\n",
       "<p>2476 rows × 1 columns</p>\n",
       "</div>"
      ],
      "text/plain": [
       "        0\n",
       "0     3.0\n",
       "1     5.0\n",
       "2     3.0\n",
       "3     2.0\n",
       "4     5.0\n",
       "...   ...\n",
       "2471  5.0\n",
       "2472  5.0\n",
       "2473  3.0\n",
       "2474  3.0\n",
       "2475  2.0\n",
       "\n",
       "[2476 rows x 1 columns]"
      ]
     },
     "execution_count": 418,
     "metadata": {},
     "output_type": "execute_result"
    }
   ],
   "source": [
    "nn_pred_df = pd.DataFrame(nn_prediction)\n",
    "nn_pred_df"
   ]
  },
  {
   "cell_type": "code",
   "execution_count": 428,
   "id": "b49bc475",
   "metadata": {},
   "outputs": [
    {
     "ename": "ModuleNotFoundError",
     "evalue": "No module named 'tensorflow'",
     "output_type": "error",
     "traceback": [
      "\u001b[1;31m---------------------------------------------------------------------------\u001b[0m",
      "\u001b[1;31mModuleNotFoundError\u001b[0m                       Traceback (most recent call last)",
      "\u001b[1;32m<ipython-input-428-28ea6f9170ad>\u001b[0m in \u001b[0;36m<module>\u001b[1;34m\u001b[0m\n\u001b[1;32m----> 1\u001b[1;33m \u001b[1;32mimport\u001b[0m \u001b[0mtensorflow\u001b[0m \u001b[1;32mas\u001b[0m \u001b[0mtf\u001b[0m\u001b[1;33m\u001b[0m\u001b[1;33m\u001b[0m\u001b[0m\n\u001b[0m\u001b[0;32m      2\u001b[0m \u001b[1;32mfrom\u001b[0m \u001b[0mtensorflow\u001b[0m\u001b[1;33m.\u001b[0m\u001b[0mkeras\u001b[0m \u001b[1;32mimport\u001b[0m \u001b[0mdatasets\u001b[0m\u001b[1;33m,\u001b[0m \u001b[0mlayers\u001b[0m\u001b[1;33m,\u001b[0m \u001b[0mmodels\u001b[0m\u001b[1;33m\u001b[0m\u001b[1;33m\u001b[0m\u001b[0m\n\u001b[0;32m      3\u001b[0m \u001b[1;32mimport\u001b[0m \u001b[0mmatplotlib\u001b[0m\u001b[1;33m.\u001b[0m\u001b[0mpyplot\u001b[0m \u001b[1;32mas\u001b[0m \u001b[0mplt\u001b[0m\u001b[1;33m\u001b[0m\u001b[1;33m\u001b[0m\u001b[0m\n",
      "\u001b[1;31mModuleNotFoundError\u001b[0m: No module named 'tensorflow'"
     ]
    }
   ],
   "source": [
    "import tensorflow as tf\n",
    "from tensorflow.keras import datasets, layers, models\n",
    "import matplotlib.pyplot as plt"
   ]
  },
  {
   "cell_type": "code",
   "execution_count": 427,
   "id": "3ea54563",
   "metadata": {},
   "outputs": [],
   "source": [
    "# ------------ CNN Architecture parameter -------------------------------\n",
    "# Nlayer (CNN, dense), Nnode, Activation\n",
    "CNN_L1 = 16\n",
    "CNN_L2 = 64\n",
    "CNN_L3 = 128\n",
    "D_L1 = 512\n",
    "D_out = 6\n",
    "Activation = \"Relu\"\n",
    "Ker_size = (3,3)\n",
    "Pooling_size = (2,1)\n",
    "Input_shape = (slidingW, n_feature, 1)"
   ]
  },
  {
   "cell_type": "code",
   "execution_count": null,
   "id": "35381d1d",
   "metadata": {},
   "outputs": [],
   "source": []
  }
 ],
 "metadata": {
  "kernelspec": {
   "display_name": "Python 3",
   "language": "python",
   "name": "python3"
  },
  "language_info": {
   "codemirror_mode": {
    "name": "ipython",
    "version": 3
   },
   "file_extension": ".py",
   "mimetype": "text/x-python",
   "name": "python",
   "nbconvert_exporter": "python",
   "pygments_lexer": "ipython3",
   "version": "3.8.8"
  }
 },
 "nbformat": 4,
 "nbformat_minor": 5
}
