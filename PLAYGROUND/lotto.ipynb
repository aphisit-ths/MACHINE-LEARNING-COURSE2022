{
 "cells": [
  {
   "cell_type": "code",
   "execution_count": 1,
   "id": "93d07866",
   "metadata": {},
   "outputs": [],
   "source": [
    "from selenium import webdriver\n",
    "from selenium.webdriver.common.keys import Keys\n",
    "from selenium.webdriver.chrome.options import Options\n",
    "from bs4 import BeautifulSoup\n",
    "from time import sleep\n",
    "import re\n",
    "import pandas as pd \n",
    "import numpy as np\n",
    "import seaborn as sns\n",
    "import matplotlib.pyplot as plt\n",
    "import requests\n",
    "import lxml\n"
   ]
  },
  {
   "cell_type": "code",
   "execution_count": 2,
   "id": "a03d9fd0",
   "metadata": {},
   "outputs": [],
   "source": [
    "url = \"https://www.myhora.com/%E0%B8%AB%E0%B8%A7%E0%B8%A2/%E0%B8%AA%E0%B8%96%E0%B8%B4%E0%B8%95%E0%B8%B4%E0%B8%AB%E0%B8%A7%E0%B8%A2-%E0%B8%A2%E0%B9%89%E0%B8%AD%E0%B8%99%E0%B8%AB%E0%B8%A5%E0%B8%B1%E0%B8%87-30-%E0%B8%9B%E0%B8%B5.aspx?mode=year-range&value=30&fbclid=IwAR2VnPUTmyCNUi7rMv26ELTWkSIw2H-RYOs3BHh2v87LimP__QTUdGhDcj0#top\""
   ]
  },
  {
   "cell_type": "code",
   "execution_count": 3,
   "id": "90a59d05",
   "metadata": {},
   "outputs": [],
   "source": [
    "#driver = webdriver.Chrome(executable_path=\"./driver/chromedriver/chromedriver.exe\")"
   ]
  },
  {
   "cell_type": "code",
   "execution_count": 4,
   "id": "b48be7d2",
   "metadata": {},
   "outputs": [],
   "source": [
    "r=  requests.get(url)"
   ]
  },
  {
   "cell_type": "code",
   "execution_count": 5,
   "id": "2d3d65da",
   "metadata": {},
   "outputs": [],
   "source": [
    "soup = BeautifulSoup(r.text, 'lxml')"
   ]
  },
  {
   "cell_type": "code",
   "execution_count": 25,
   "id": "5555a7f3",
   "metadata": {
    "scrolled": true
   },
   "outputs": [],
   "source": [
    "data = soup.text"
   ]
  },
  {
   "cell_type": "code",
   "execution_count": 42,
   "id": "75f32459",
   "metadata": {
    "scrolled": false
   },
   "outputs": [],
   "source": [
    "lst = re.findall('[0-9]{3z}',data)"
   ]
  },
  {
   "cell_type": "code",
   "execution_count": 45,
   "id": "ada8cb91",
   "metadata": {
    "scrolled": false
   },
   "outputs": [],
   "source": [
    "len(lst)"
   ]
  },
  {
   "cell_type": "code",
   "execution_count": 46,
   "id": "a63e5081",
   "metadata": {},
   "outputs": [
    {
     "data": {
      "text/plain": [
       "(20750,)"
      ]
     },
     "execution_count": 46,
     "metadata": {},
     "output_type": "execute_result"
    }
   ],
   "source": []
  },
  {
   "cell_type": "code",
   "execution_count": null,
   "id": "837c655b",
   "metadata": {},
   "outputs": [],
   "source": []
  }
 ],
 "metadata": {
  "kernelspec": {
   "display_name": "Python 3",
   "language": "python",
   "name": "python3"
  },
  "language_info": {
   "codemirror_mode": {
    "name": "ipython",
    "version": 3
   },
   "file_extension": ".py",
   "mimetype": "text/x-python",
   "name": "python",
   "nbconvert_exporter": "python",
   "pygments_lexer": "ipython3",
   "version": "3.8.8"
  }
 },
 "nbformat": 4,
 "nbformat_minor": 5
}
