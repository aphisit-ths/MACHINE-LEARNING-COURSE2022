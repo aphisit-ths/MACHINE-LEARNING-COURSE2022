{
 "cells": [
  {
   "cell_type": "code",
   "execution_count": 1,
   "id": "0db0c606",
   "metadata": {},
   "outputs": [],
   "source": [
    "from selenium import webdriver\n",
    "from selenium.webdriver.common.keys import Keys\n",
    "from selenium.webdriver.chrome.options import Options\n",
    "from bs4 import BeautifulSoup\n",
    "from time import sleep\n",
    "import re\n",
    "import pandas as pd \n",
    "import numpy as np\n",
    "import seaborn as sns\n",
    "import matplotlib.pyplot as plt\n",
    "import requests\n",
    "import lxml"
   ]
  },
  {
   "cell_type": "code",
   "execution_count": 2,
   "id": "72c96aa6",
   "metadata": {},
   "outputs": [],
   "source": [
    "url = \"https://th.wikipedia.org/wiki/%E0%B8%A3%E0%B8%B2%E0%B8%A2%E0%B8%8A%E0%B8%B7%E0%B9%88%E0%B8%AD%E0%B8%9C%E0%B8%B9%E0%B9%89%E0%B8%99%E0%B8%B3%E0%B8%9B%E0%B8%A3%E0%B8%B0%E0%B9%80%E0%B8%97%E0%B8%A8_%E0%B8%9E.%E0%B8%A8._2564\""
   ]
  },
  {
   "cell_type": "code",
   "execution_count": 3,
   "id": "a24cf271",
   "metadata": {},
   "outputs": [],
   "source": [
    "headers = {\n",
    "  \"User-Agent\":\n",
    "  \"Mozilla/5.0 (Windows NT 10.0; Win64; x64) AppleWebKit/537.36 (KHTML, like Gecko) Chrome/70.0.3538.102 Safari/537.36 Edge/18.19582\"\n",
    "}"
   ]
  },
  {
   "cell_type": "code",
   "execution_count": 4,
   "id": "d3490b4d",
   "metadata": {},
   "outputs": [],
   "source": [
    "r = requests.get(url ,headers=headers)"
   ]
  },
  {
   "cell_type": "code",
   "execution_count": 5,
   "id": "ba043afa",
   "metadata": {},
   "outputs": [],
   "source": [
    "init_data = BeautifulSoup(r.text ,'html.parser')"
   ]
  },
  {
   "cell_type": "code",
   "execution_count": 6,
   "id": "700fbbc5",
   "metadata": {},
   "outputs": [],
   "source": [
    "selected_data = init_data.find('div',{'class':\"mw-parser-output\"})\n"
   ]
  },
  {
   "cell_type": "code",
   "execution_count": 7,
   "id": "b72ae7c4",
   "metadata": {
    "scrolled": false
   },
   "outputs": [],
   "source": [
    "countries = selected_data.find_all(\"span\",{\"class\":\"datasortkey\"})"
   ]
  },
  {
   "cell_type": "code",
   "execution_count": 8,
   "id": "a57944e8",
   "metadata": {},
   "outputs": [],
   "source": [
    "director = selected_data.select(\"#mw-content-text > div.mw-parser-output > ul:nth-child(4) > li\")"
   ]
  },
  {
   "cell_type": "code",
   "execution_count": 9,
   "id": "2675f1ad",
   "metadata": {
    "scrolled": true
   },
   "outputs": [
    {
     "data": {
      "text/plain": [
       "[<li><b><span class=\"datasortkey\" data-sort-value=\"ไทย\"><span class=\"flagicon\"><img alt=\"\" class=\"thumbborder\" data-file-height=\"600\" data-file-width=\"900\" decoding=\"async\" height=\"15\" src=\"//upload.wikimedia.org/wikipedia/commons/thumb/a/a9/Flag_of_Thailand.svg/23px-Flag_of_Thailand.svg.png\" srcset=\"//upload.wikimedia.org/wikipedia/commons/thumb/a/a9/Flag_of_Thailand.svg/35px-Flag_of_Thailand.svg.png 1.5x, //upload.wikimedia.org/wikipedia/commons/thumb/a/a9/Flag_of_Thailand.svg/45px-Flag_of_Thailand.svg.png 2x\" width=\"23\"> </img></span><a class=\"mw-redirect\" href=\"/wiki/%E0%B9%84%E0%B8%97%E0%B8%A2\" title=\"ไทย\">ไทย</a></span></b>\n",
       " <ul><li>พระมหากษัตริย์ – <a href=\"/wiki/%E0%B8%9E%E0%B8%A3%E0%B8%B0%E0%B8%9A%E0%B8%B2%E0%B8%97%E0%B8%AA%E0%B8%A1%E0%B9%80%E0%B8%94%E0%B9%87%E0%B8%88%E0%B8%9E%E0%B8%A3%E0%B8%B0%E0%B8%A7%E0%B8%8A%E0%B8%B4%E0%B8%A3%E0%B9%80%E0%B8%81%E0%B8%A5%E0%B9%89%E0%B8%B2%E0%B9%80%E0%B8%88%E0%B9%89%E0%B8%B2%E0%B8%AD%E0%B8%A2%E0%B8%B9%E0%B9%88%E0%B8%AB%E0%B8%B1%E0%B8%A7\" title=\"พระบาทสมเด็จพระวชิรเกล้าเจ้าอยู่หัว\">พระบาทสมเด็จพระวชิรเกล้าเจ้าอยู่หัว</a>, <a href=\"/wiki/%E0%B8%9E%E0%B8%A3%E0%B8%B0%E0%B8%A1%E0%B8%AB%E0%B8%B2%E0%B8%81%E0%B8%A9%E0%B8%B1%E0%B8%95%E0%B8%A3%E0%B8%B4%E0%B8%A2%E0%B9%8C%E0%B9%84%E0%B8%97%E0%B8%A2\" title=\"พระมหากษัตริย์ไทย\">พระมหากษัตริย์ไทย</a> (3999–ปัจจุบัน)</li>\n",
       " <li>นายกรัฐมนตรี – <a href=\"/wiki/%E0%B8%9B%E0%B8%A3%E0%B8%B0%E0%B8%A2%E0%B8%B8%E0%B8%97%E0%B8%98%E0%B9%8C_%E0%B8%88%E0%B8%B1%E0%B8%99%E0%B8%97%E0%B8%A3%E0%B9%8C%E0%B9%82%E0%B8%AD%E0%B8%8A%E0%B8%B2\" title=\"ประยุทธ์ จันทร์โอชา\">ประยุทธ์ จันทร์โอชา</a>, <a href=\"/wiki/%E0%B8%99%E0%B8%B2%E0%B8%A2%E0%B8%81%E0%B8%A3%E0%B8%B1%E0%B8%90%E0%B8%A1%E0%B8%99%E0%B8%95%E0%B8%A3%E0%B8%B5%E0%B9%84%E0%B8%97%E0%B8%A2\" title=\"นายกรัฐมนตรีไทย\">นายกรัฐมนตรีไทย</a> (2557–ปัจจุบัน)</li></ul></li>,\n",
       " <li><b><span class=\"datasortkey\" data-sort-value=\"ลาว\"><span class=\"flagicon\"><img alt=\"\" class=\"thumbborder\" data-file-height=\"600\" data-file-width=\"900\" decoding=\"async\" height=\"15\" src=\"//upload.wikimedia.org/wikipedia/commons/thumb/5/56/Flag_of_Laos.svg/23px-Flag_of_Laos.svg.png\" srcset=\"//upload.wikimedia.org/wikipedia/commons/thumb/5/56/Flag_of_Laos.svg/35px-Flag_of_Laos.svg.png 1.5x, //upload.wikimedia.org/wikipedia/commons/thumb/5/56/Flag_of_Laos.svg/45px-Flag_of_Laos.svg.png 2x\" width=\"23\"> </img></span><a class=\"mw-redirect\" href=\"/wiki/%E0%B8%A5%E0%B8%B2%E0%B8%A7\" title=\"ลาว\">ลาว</a></span></b>\n",
       " <ul><li>ผู้นำพรรคคอมมิวนิสต์\n",
       " <ul><li><a href=\"/wiki/%E0%B8%9A%E0%B8%B8%E0%B8%99%E0%B8%A2%E0%B8%B1%E0%B8%87_%E0%B8%A7%E0%B8%AD%E0%B8%A5%E0%B8%B0%E0%B8%88%E0%B8%B4%E0%B8%94\" title=\"บุนยัง วอละจิด\">บุนยัง วอละจิด</a>, <a href=\"/wiki/%E0%B9%80%E0%B8%A5%E0%B8%82%E0%B8%B2%E0%B8%98%E0%B8%B4%E0%B8%81%E0%B8%B2%E0%B8%A3%E0%B9%83%E0%B8%AB%E0%B8%8D%E0%B9%88%E0%B8%84%E0%B8%93%E0%B8%B0%E0%B8%9A%E0%B8%A3%E0%B8%B4%E0%B8%AB%E0%B8%B2%E0%B8%A3%E0%B8%87%E0%B8%B2%E0%B8%99%E0%B8%A8%E0%B8%B9%E0%B8%99%E0%B8%A2%E0%B9%8C%E0%B8%81%E0%B8%A5%E0%B8%B2%E0%B8%87%E0%B8%9E%E0%B8%A3%E0%B8%A3%E0%B8%84%E0%B8%9B%E0%B8%A3%E0%B8%B0%E0%B8%8A%E0%B8%B2%E0%B8%8A%E0%B8%99%E0%B8%9B%E0%B8%8F%E0%B8%B4%E0%B8%A7%E0%B8%B1%E0%B8%95%E0%B8%B4%E0%B8%A5%E0%B8%B2%E0%B8%A7\" title=\"เลขาธิการใหญ่คณะบริหารงานศูนย์กลางพรรคประชาชนปฏิวัติลาว\">เลขาธิการใหญ่คณะบริหารงานศูนย์กลางพรรคประชาชนปฏิวัติลาว</a> (2559–15 มกราคม 2564)</li>\n",
       " <li><a href=\"/wiki/%E0%B8%97%E0%B8%AD%E0%B8%87%E0%B8%A5%E0%B8%B8%E0%B8%99_%E0%B8%AA%E0%B8%B5%E0%B8%AA%E0%B8%B8%E0%B8%A5%E0%B8%B4%E0%B8%94\" title=\"ทองลุน สีสุลิด\">ทองลุน สีสุลิด</a>, เลขาธิการใหญ่คณะบริหารงานศูนย์กลางพรรคประชาชนปฏิวัติลาว (15 มกราคม 2564–ปัจจุบัน)</li></ul></li>\n",
       " <li>ประธานาธิบดี\n",
       " <ul><li><a href=\"/wiki/%E0%B8%9A%E0%B8%B8%E0%B8%99%E0%B8%A2%E0%B8%B1%E0%B8%87_%E0%B8%A7%E0%B8%AD%E0%B8%A5%E0%B8%B0%E0%B8%88%E0%B8%B4%E0%B8%94\" title=\"บุนยัง วอละจิด\">บุนยัง วอละจิด</a>, <a class=\"mw-redirect\" href=\"/wiki/%E0%B8%A3%E0%B8%B2%E0%B8%A2%E0%B8%99%E0%B8%B2%E0%B8%A1%E0%B8%9B%E0%B8%A3%E0%B8%B0%E0%B8%98%E0%B8%B2%E0%B8%99%E0%B8%B2%E0%B8%98%E0%B8%B4%E0%B8%9A%E0%B8%94%E0%B8%B5%E0%B8%A5%E0%B8%B2%E0%B8%A7\" title=\"รายนามประธานาธิบดีลาว\">ประธานประเทศลาว</a>​ (2559–22 มีนาคม 2564)</li>\n",
       " <li><a href=\"/wiki/%E0%B8%97%E0%B8%AD%E0%B8%87%E0%B8%A5%E0%B8%B8%E0%B8%99_%E0%B8%AA%E0%B8%B5%E0%B8%AA%E0%B8%B8%E0%B8%A5%E0%B8%B4%E0%B8%94\" title=\"ทองลุน สีสุลิด\">ทองลุน สีสุลิด</a>, ประธานประเทศลาว (22 มีนาคม 2564–ปัจจุบัน)</li></ul></li>\n",
       " <li>นายกรัฐมนตรี\n",
       " <ul><li><a href=\"/wiki/%E0%B8%97%E0%B8%AD%E0%B8%87%E0%B8%A5%E0%B8%B8%E0%B8%99_%E0%B8%AA%E0%B8%B5%E0%B8%AA%E0%B8%B8%E0%B8%A5%E0%B8%B4%E0%B8%94\" title=\"ทองลุน สีสุลิด\">ทองลุน สีสุลิด</a>, <a class=\"mw-redirect\" href=\"/wiki/%E0%B8%99%E0%B8%B2%E0%B8%A2%E0%B8%81%E0%B8%A3%E0%B8%B1%E0%B8%90%E0%B8%A1%E0%B8%99%E0%B8%95%E0%B8%A3%E0%B8%B5%E0%B8%A5%E0%B8%B2%E0%B8%A7\" title=\"นายกรัฐมนตรีลาว\">นายกรัฐมนตรีลาว</a> (2559–22 มีนาคม 2564)</li>\n",
       " <li><a href=\"/wiki/%E0%B8%9E%E0%B8%B1%E0%B8%99%E0%B8%84%E0%B8%B3_%E0%B8%A7%E0%B8%B4%E0%B8%9E%E0%B8%B2%E0%B8%A7%E0%B8%B1%E0%B8%99\" title=\"พันคำ วิพาวัน\">พันคำ วิพาวัน</a>, นายกรัฐมนตรีลาว (22 มีนาคม 2564–ปัจจุบัน)</li></ul></li></ul></li>,\n",
       " <li><b><span class=\"datasortkey\" data-sort-value=\"กัมพูชา\"><span class=\"flagicon\"><img alt=\"\" class=\"thumbborder\" data-file-height=\"640\" data-file-width=\"1000\" decoding=\"async\" height=\"15\" src=\"//upload.wikimedia.org/wikipedia/commons/thumb/8/83/Flag_of_Cambodia.svg/23px-Flag_of_Cambodia.svg.png\" srcset=\"//upload.wikimedia.org/wikipedia/commons/thumb/8/83/Flag_of_Cambodia.svg/35px-Flag_of_Cambodia.svg.png 1.5x, //upload.wikimedia.org/wikipedia/commons/thumb/8/83/Flag_of_Cambodia.svg/46px-Flag_of_Cambodia.svg.png 2x\" width=\"23\"> </img></span><a href=\"/wiki/%E0%B8%9B%E0%B8%A3%E0%B8%B0%E0%B9%80%E0%B8%97%E0%B8%A8%E0%B8%81%E0%B8%B1%E0%B8%A1%E0%B8%9E%E0%B8%B9%E0%B8%8A%E0%B8%B2\" title=\"ประเทศกัมพูชา\">กัมพูชา</a></span></b>\n",
       " <ul><li>พระมหากษัตริย์ – <a href=\"/wiki/%E0%B8%9E%E0%B8%A3%E0%B8%B0%E0%B8%9A%E0%B8%B2%E0%B8%97%E0%B8%AA%E0%B8%A1%E0%B9%80%E0%B8%94%E0%B9%87%E0%B8%88%E0%B8%9E%E0%B8%A3%E0%B8%B0%E0%B8%9A%E0%B8%A3%E0%B8%A1%E0%B8%99%E0%B8%B2%E0%B8%96_%E0%B8%99%E0%B9%82%E0%B8%A3%E0%B8%94%E0%B8%A1_%E0%B8%AA%E0%B8%B5%E0%B8%AB%E0%B8%A1%E0%B8%B8%E0%B8%99%E0%B8%B5\" title=\"พระบาทสมเด็จพระบรมนาถ นโรดม สีหมุนี\">พระบาทสมเด็จพระบรมนาถ นโรดม สีหมุนี</a>, <a href=\"/wiki/%E0%B8%9E%E0%B8%A3%E0%B8%B0%E0%B8%A1%E0%B8%AB%E0%B8%B2%E0%B8%81%E0%B8%A9%E0%B8%B1%E0%B8%95%E0%B8%A3%E0%B8%B4%E0%B8%A2%E0%B9%8C%E0%B8%81%E0%B8%B1%E0%B8%A1%E0%B8%9E%E0%B8%B9%E0%B8%8A%E0%B8%B2\" title=\"พระมหากษัตริย์กัมพูชา\">พระมหากษัตริย์กัมพูชา</a> (2547–ปัจจุบัน)</li>\n",
       " <li>นายกรัฐมนตรี – <a class=\"mw-redirect\" href=\"/wiki/%E0%B8%AA%E0%B8%A1%E0%B9%80%E0%B8%94%E0%B9%87%E0%B8%88%E0%B8%AD%E0%B8%B1%E0%B8%84%E0%B8%A3%E0%B8%A1%E0%B8%AB%E0%B8%B2%E0%B9%80%E0%B8%AA%E0%B8%99%E0%B8%B2%E0%B8%9A%E0%B8%94%E0%B8%B5%E0%B9%80%E0%B8%94%E0%B9%82%E0%B8%8A_%E0%B8%AE%E0%B8%B8%E0%B8%99_%E0%B9%80%E0%B8%8B%E0%B8%99\" title=\"สมเด็จอัครมหาเสนาบดีเดโช ฮุน เซน\">สมเด็จอัครมหาเสนาบดีเดโช ฮุน เซน</a>, <a href=\"/wiki/%E0%B8%99%E0%B8%B2%E0%B8%A2%E0%B8%81%E0%B8%A3%E0%B8%B1%E0%B8%90%E0%B8%A1%E0%B8%99%E0%B8%95%E0%B8%A3%E0%B8%B5%E0%B8%81%E0%B8%B1%E0%B8%A1%E0%B8%9E%E0%B8%B9%E0%B8%8A%E0%B8%B2\" title=\"นายกรัฐมนตรีกัมพูชา\">นายกรัฐมนตรีกัมพูชา</a> (2541–ปัจจุบัน)</li></ul></li>,\n",
       " <li><b><span class=\"datasortkey\" data-sort-value=\"เวียดนาม\"><span class=\"flagicon\"><img alt=\"\" class=\"thumbborder\" data-file-height=\"600\" data-file-width=\"900\" decoding=\"async\" height=\"15\" src=\"//upload.wikimedia.org/wikipedia/commons/thumb/2/21/Flag_of_Vietnam.svg/23px-Flag_of_Vietnam.svg.png\" srcset=\"//upload.wikimedia.org/wikipedia/commons/thumb/2/21/Flag_of_Vietnam.svg/35px-Flag_of_Vietnam.svg.png 1.5x, //upload.wikimedia.org/wikipedia/commons/thumb/2/21/Flag_of_Vietnam.svg/45px-Flag_of_Vietnam.svg.png 2x\" width=\"23\"/> </span><a class=\"mw-redirect\" href=\"/wiki/%E0%B9%80%E0%B8%A7%E0%B8%B5%E0%B8%A2%E0%B8%94%E0%B8%99%E0%B8%B2%E0%B8%A1\" title=\"เวียดนาม\">เวียดนาม</a></span></b>\n",
       " <ul><li>ผู้นำพรรคคอมมิวนิสต์ – <a href=\"/wiki/%E0%B9%80%E0%B8%AB%E0%B8%87%E0%B8%B5%E0%B8%A2%E0%B8%99_%E0%B8%9F%E0%B8%B9%E0%B9%89_%E0%B8%88%E0%B9%88%E0%B8%AD%E0%B8%87\" title=\"เหงียน ฟู้ จ่อง\">เหงียน ฟู้ จ่อง</a>, <a href=\"/wiki/%E0%B9%80%E0%B8%A5%E0%B8%82%E0%B8%B2%E0%B8%98%E0%B8%B4%E0%B8%81%E0%B8%B2%E0%B8%A3%E0%B8%84%E0%B8%93%E0%B8%B0%E0%B8%81%E0%B8%A3%E0%B8%A3%E0%B8%A1%E0%B8%81%E0%B8%B2%E0%B8%A3%E0%B8%81%E0%B8%A5%E0%B8%B2%E0%B8%87%E0%B8%9E%E0%B8%A3%E0%B8%A3%E0%B8%84%E0%B8%84%E0%B8%AD%E0%B8%A1%E0%B8%A1%E0%B8%B4%E0%B8%A7%E0%B8%99%E0%B8%B4%E0%B8%AA%E0%B8%95%E0%B9%8C%E0%B9%80%E0%B8%A7%E0%B8%B5%E0%B8%A2%E0%B8%94%E0%B8%99%E0%B8%B2%E0%B8%A1\" title=\"เลขาธิการคณะกรรมการกลางพรรคคอมมิวนิสต์เวียดนาม\">เลขาธิการคณะกรรมการกลางพรรคคอมมิวนิสต์เวียดนาม</a>​ (2554–ปัจจุบัน)</li>\n",
       " <li>ประธานาธิบดี\n",
       " <ul><li><a href=\"/wiki/%E0%B9%80%E0%B8%AB%E0%B8%87%E0%B8%B5%E0%B8%A2%E0%B8%99_%E0%B8%9F%E0%B8%B9%E0%B9%89_%E0%B8%88%E0%B9%88%E0%B8%AD%E0%B8%87\" title=\"เหงียน ฟู้ จ่อง\">เหงียน ฟู้ จ่อง</a>, <a href=\"/wiki/%E0%B8%9B%E0%B8%A3%E0%B8%B0%E0%B8%98%E0%B8%B2%E0%B8%99%E0%B8%B2%E0%B8%98%E0%B8%B4%E0%B8%9A%E0%B8%94%E0%B8%B5%E0%B9%80%E0%B8%A7%E0%B8%B5%E0%B8%A2%E0%B8%94%E0%B8%99%E0%B8%B2%E0%B8%A1\" title=\"ประธานาธิบดีเวียดนาม\">ประธานาธิบดีเวียดนาม</a>​ (2561–5 เมษายน 2564)</li>\n",
       " <li><a href=\"/wiki/%E0%B9%80%E0%B8%AB%E0%B8%87%E0%B8%B5%E0%B8%A2%E0%B8%99_%E0%B8%8B%E0%B8%A7%E0%B8%99_%E0%B8%9F%E0%B8%B8%E0%B8%81\" title=\"เหงียน ซวน ฟุก\">เหงียน ซวน ฟุก</a>, ประธานาธิบดีเวียดนาม (5 เมษายน 2564 –ปัจจุบัน)</li></ul></li>\n",
       " <li>นายกรัฐมนตรี\n",
       " <ul><li><a href=\"/wiki/%E0%B9%80%E0%B8%AB%E0%B8%87%E0%B8%B5%E0%B8%A2%E0%B8%99_%E0%B8%8B%E0%B8%A7%E0%B8%99_%E0%B8%9F%E0%B8%B8%E0%B8%81\" title=\"เหงียน ซวน ฟุก\">เหงียน ซวน ฟุก</a>, <a href=\"/wiki/%E0%B8%99%E0%B8%B2%E0%B8%A2%E0%B8%81%E0%B8%A3%E0%B8%B1%E0%B8%90%E0%B8%A1%E0%B8%99%E0%B8%95%E0%B8%A3%E0%B8%B5%E0%B9%80%E0%B8%A7%E0%B8%B5%E0%B8%A2%E0%B8%94%E0%B8%99%E0%B8%B2%E0%B8%A1\" title=\"นายกรัฐมนตรีเวียดนาม\">นายกรัฐมนตรีเวียดนาม</a> (2559–2 เมษายน 2564)</li>\n",
       " <li><a href=\"/wiki/%E0%B8%9D%E0%B8%B1%E0%B9%88%E0%B8%A1_%E0%B8%A1%E0%B8%B4%E0%B8%8D_%E0%B8%88%E0%B8%B4%E0%B9%8A%E0%B8%8D\" title=\"ฝั่ม มิญ จิ๊ญ\">ฝั่ม มิญ จิ๊ญ</a>, นายกรัฐมนตรีเวียดนาม (5 เมษายน 2564–ปัจจุบัน)</li></ul></li></ul></li>,\n",
       " <li><b><span class=\"datasortkey\" data-sort-value=\"อินโดนีเซีย\"><span class=\"flagicon\"><img alt=\"\" class=\"thumbborder\" data-file-height=\"600\" data-file-width=\"900\" decoding=\"async\" height=\"15\" src=\"//upload.wikimedia.org/wikipedia/commons/thumb/9/9f/Flag_of_Indonesia.svg/23px-Flag_of_Indonesia.svg.png\" srcset=\"//upload.wikimedia.org/wikipedia/commons/thumb/9/9f/Flag_of_Indonesia.svg/35px-Flag_of_Indonesia.svg.png 1.5x, //upload.wikimedia.org/wikipedia/commons/thumb/9/9f/Flag_of_Indonesia.svg/45px-Flag_of_Indonesia.svg.png 2x\" width=\"23\"/> </span><a class=\"mw-redirect\" href=\"/wiki/%E0%B8%AD%E0%B8%B4%E0%B8%99%E0%B9%82%E0%B8%94%E0%B8%99%E0%B8%B5%E0%B9%80%E0%B8%8B%E0%B8%B5%E0%B8%A2\" title=\"อินโดนีเซีย\">อินโดนีเซีย</a></span></b>\n",
       " <ul><li>ประธานาธิบดี – <a href=\"/wiki/%E0%B9%82%E0%B8%88%E0%B9%82%E0%B8%81_%E0%B8%A7%E0%B8%B5%E0%B9%82%E0%B8%94%E0%B9%82%E0%B8%94\" title=\"โจโก วีโดโด\">โจโก วีโดโด</a>, <a href=\"/wiki/%E0%B8%9B%E0%B8%A3%E0%B8%B0%E0%B8%98%E0%B8%B2%E0%B8%99%E0%B8%B2%E0%B8%98%E0%B8%B4%E0%B8%9A%E0%B8%94%E0%B8%B5%E0%B8%AD%E0%B8%B4%E0%B8%99%E0%B9%82%E0%B8%94%E0%B8%99%E0%B8%B5%E0%B9%80%E0%B8%8B%E0%B8%B5%E0%B8%A2\" title=\"ประธานาธิบดีอินโดนีเซีย\">ประธานาธิบดีอินโดนีเซีย</a> (2557–ปัจจุบัน)</li></ul></li>,\n",
       " <li><b><span class=\"datasortkey\" data-sort-value=\"พม่า\"><span class=\"flagicon\"><img alt=\"\" class=\"thumbborder\" data-file-height=\"800\" data-file-width=\"1200\" decoding=\"async\" height=\"15\" src=\"//upload.wikimedia.org/wikipedia/commons/thumb/8/8c/Flag_of_Myanmar.svg/23px-Flag_of_Myanmar.svg.png\" srcset=\"//upload.wikimedia.org/wikipedia/commons/thumb/8/8c/Flag_of_Myanmar.svg/35px-Flag_of_Myanmar.svg.png 1.5x, //upload.wikimedia.org/wikipedia/commons/thumb/8/8c/Flag_of_Myanmar.svg/45px-Flag_of_Myanmar.svg.png 2x\" width=\"23\"/> </span><a href=\"/wiki/%E0%B8%9B%E0%B8%A3%E0%B8%B0%E0%B9%80%E0%B8%97%E0%B8%A8%E0%B8%9E%E0%B8%A1%E0%B9%88%E0%B8%B2\" title=\"ประเทศพม่า\">พม่า</a></span></b>\n",
       " <ul><li>ประธานสภาบริหารแห่งรัฐ – <a href=\"/wiki/%E0%B8%A1%E0%B8%B5%E0%B9%88%E0%B8%99%E0%B8%AD%E0%B8%AD%E0%B8%87%E0%B9%84%E0%B8%A5%E0%B8%87%E0%B9%8C\" title=\"มี่นอองไลง์\">มี่นอองไลง์</a> (1 กุมภาพันธ์ 2564–ปัจจุบัน)</li>\n",
       " <li>ประธานาธิบดี\n",
       " <ul><li><a class=\"mw-redirect\" href=\"/wiki/%E0%B8%A7%E0%B8%B5%E0%B8%99-%E0%B8%A1%E0%B8%A2%E0%B8%B4%E0%B8%99\" title=\"วีน-มยิน\">วีน-มยิน</a>, <a href=\"/wiki/%E0%B8%9B%E0%B8%A3%E0%B8%B0%E0%B8%98%E0%B8%B2%E0%B8%99%E0%B8%B2%E0%B8%98%E0%B8%B4%E0%B8%9A%E0%B8%94%E0%B8%B5%E0%B8%9E%E0%B8%A1%E0%B9%88%E0%B8%B2\" title=\"ประธานาธิบดีพม่า\">ประธานาธิบดีพม่า</a>​ (2561–1 กุมภาพันธ์ 2564)</li>\n",
       " <li><a class=\"new\" href=\"/w/index.php?title=%E0%B8%A1%E0%B8%AB%E0%B8%A2%E0%B8%B4%E0%B9%88%E0%B8%99%E0%B8%8B%E0%B9%80%E0%B8%A7&amp;action=edit&amp;redlink=1\" title=\"มหยิ่นซเว (ไม่มีหน้า)\">มหยิ่นซเว</a>, รักษาการประธานาธิบดีพม่า (1 กุมภาพันธ์ 2564–ปัจจุบัน)</li></ul></li>\n",
       " <li>นายกรัฐมนตรี​\n",
       " <ul><li><a href=\"/wiki/%E0%B8%AD%E0%B8%AD%E0%B8%87%E0%B8%8B%E0%B8%B2%E0%B8%99%E0%B8%8B%E0%B8%B9%E0%B8%88%E0%B8%B5\" title=\"อองซานซูจี\">อองซานซูจี</a>, <a class=\"mw-redirect\" href=\"/wiki/%E0%B8%97%E0%B8%B5%E0%B9%88%E0%B8%9B%E0%B8%A3%E0%B8%B6%E0%B8%81%E0%B8%A9%E0%B8%B2%E0%B9%81%E0%B8%AB%E0%B9%88%E0%B8%87%E0%B8%A3%E0%B8%B1%E0%B8%90%E0%B8%9E%E0%B8%A1%E0%B9%88%E0%B8%B2\" title=\"ที่ปรึกษาแห่งรัฐพม่า\">ที่ปรึกษาแห่งรัฐพม่า</a> (2559–1 กุมภาพันธ์ 2564)</li>\n",
       " <li><a href=\"/wiki/%E0%B8%A1%E0%B8%B5%E0%B9%88%E0%B8%99%E0%B8%AD%E0%B8%AD%E0%B8%87%E0%B9%84%E0%B8%A5%E0%B8%87%E0%B9%8C\" title=\"มี่นอองไลง์\">มี่นอองไลง์</a>, <a class=\"mw-redirect\" href=\"/wiki/%E0%B8%99%E0%B8%B2%E0%B8%A2%E0%B8%81%E0%B8%A3%E0%B8%B1%E0%B8%90%E0%B8%A1%E0%B8%99%E0%B8%95%E0%B8%A3%E0%B8%B5%E0%B8%9E%E0%B8%A1%E0%B9%88%E0%B8%B2\" title=\"นายกรัฐมนตรีพม่า\">นายกรัฐมนตรีพม่า</a> (1 สิงหาคม 2564–ปัจจุบัน)</li></ul></li></ul></li>,\n",
       " <li><b><span class=\"datasortkey\" data-sort-value=\"มาเลเซีย\"><span class=\"flagicon\"><img alt=\"\" class=\"thumbborder\" data-file-height=\"600\" data-file-width=\"1200\" decoding=\"async\" height=\"12\" src=\"//upload.wikimedia.org/wikipedia/commons/thumb/6/66/Flag_of_Malaysia.svg/23px-Flag_of_Malaysia.svg.png\" srcset=\"//upload.wikimedia.org/wikipedia/commons/thumb/6/66/Flag_of_Malaysia.svg/35px-Flag_of_Malaysia.svg.png 1.5x, //upload.wikimedia.org/wikipedia/commons/thumb/6/66/Flag_of_Malaysia.svg/46px-Flag_of_Malaysia.svg.png 2x\" width=\"23\"/> </span><a class=\"mw-redirect\" href=\"/wiki/%E0%B8%A1%E0%B8%B2%E0%B9%80%E0%B8%A5%E0%B9%80%E0%B8%8B%E0%B8%B5%E0%B8%A2\" title=\"มาเลเซีย\">มาเลเซีย</a></span></b>\n",
       " <ul><li>พระมหากษัตริย์ – <a class=\"mw-redirect\" href=\"/wiki/%E0%B8%AA%E0%B8%A1%E0%B9%80%E0%B8%94%E0%B9%87%E0%B8%88%E0%B8%9E%E0%B8%A3%E0%B8%B0%E0%B8%A3%E0%B8%B2%E0%B8%8A%E0%B8%B2%E0%B8%98%E0%B8%B4%E0%B8%9A%E0%B8%94%E0%B8%B5%E0%B8%AD%E0%B8%B1%E0%B8%9A%E0%B8%94%E0%B8%B8%E0%B8%A5%E0%B8%A5%E0%B8%B0%E0%B8%AE%E0%B9%8C_%E0%B8%8A%E0%B8%B0%E0%B8%AE%E0%B9%8C\" title=\"สมเด็จพระราชาธิบดีอับดุลละฮ์ ชะฮ์\">สมเด็จพระราชาธิบดีอับดุลละฮ์ ชะฮ์</a>, <a class=\"mw-redirect\" href=\"/wiki/%E0%B8%A3%E0%B8%B2%E0%B8%A2%E0%B8%9E%E0%B8%A3%E0%B8%B0%E0%B8%99%E0%B8%B2%E0%B8%A1%E0%B8%9E%E0%B8%A3%E0%B8%B0%E0%B8%A1%E0%B8%AB%E0%B8%B2%E0%B8%81%E0%B8%A9%E0%B8%B1%E0%B8%95%E0%B8%A3%E0%B8%B4%E0%B8%A2%E0%B9%8C%E0%B8%A1%E0%B8%B2%E0%B9%80%E0%B8%A5%E0%B9%80%E0%B8%8B%E0%B8%B5%E0%B8%A2\" title=\"รายพระนามพระมหากษัตริย์มาเลเซีย\">ยังดีเปอร์ตวนอากงแห่งมาเลเซีย</a> (2562–ปัจจุบัน)</li>\n",
       " <li>นายกรัฐมนตรี\n",
       " <ul><li><a href=\"/wiki/%E0%B8%A1%E0%B8%B8%E0%B8%AE%E0%B9%8C%E0%B8%A2%E0%B8%B4%E0%B8%94%E0%B8%94%E0%B8%B4%E0%B8%99_%E0%B8%A2%E0%B8%B1%E0%B8%8B%E0%B8%8B%E0%B8%B4%E0%B8%99\" title=\"มุฮ์ยิดดิน ยัซซิน\">มุฮ์ยิดดิน ยัซซิน</a>, <a class=\"mw-redirect\" href=\"/wiki/%E0%B8%99%E0%B8%B2%E0%B8%A2%E0%B8%81%E0%B8%A3%E0%B8%B1%E0%B8%90%E0%B8%A1%E0%B8%99%E0%B8%95%E0%B8%A3%E0%B8%B5%E0%B8%A1%E0%B8%B2%E0%B9%80%E0%B8%A5%E0%B9%80%E0%B8%8B%E0%B8%B5%E0%B8%A2\" title=\"นายกรัฐมนตรีมาเลเซีย\">นายกรัฐมนตรีมาเลเซีย</a> (2563–21 สิงหาคม 2564)</li>\n",
       " <li><a href=\"/wiki/%E0%B8%AD%E0%B8%B4%E0%B8%8B%E0%B8%A1%E0%B8%B2%E0%B8%AD%E0%B8%B4%E0%B8%A5_%E0%B8%8B%E0%B8%B1%E0%B8%9A%E0%B8%A3%E0%B8%B5_%E0%B8%A2%E0%B8%B1%E0%B8%81%E0%B8%81%E0%B8%9A\" title=\"อิซมาอิล ซับรี ยักกบ\">อิซมาอิล ซับรี ยักกบ</a>, นายกรัฐมนตรีมาเลเซีย (21 สิงหาคม 2564–ปัจจุบัน)</li></ul></li></ul></li>,\n",
       " <li><b><span class=\"datasortkey\" data-sort-value=\"บรูไน\"><span class=\"flagicon\"><img alt=\"\" class=\"thumbborder\" data-file-height=\"720\" data-file-width=\"1440\" decoding=\"async\" height=\"12\" src=\"//upload.wikimedia.org/wikipedia/commons/thumb/9/9c/Flag_of_Brunei.svg/23px-Flag_of_Brunei.svg.png\" srcset=\"//upload.wikimedia.org/wikipedia/commons/thumb/9/9c/Flag_of_Brunei.svg/35px-Flag_of_Brunei.svg.png 1.5x, //upload.wikimedia.org/wikipedia/commons/thumb/9/9c/Flag_of_Brunei.svg/46px-Flag_of_Brunei.svg.png 2x\" width=\"23\"/> </span><a class=\"mw-redirect\" href=\"/wiki/%E0%B8%9A%E0%B8%A3%E0%B8%B9%E0%B9%84%E0%B8%99\" title=\"บรูไน\">บรูไน</a></span></b>\n",
       " <ul><li>พระมหากษัตริย์ – <a href=\"/wiki/%E0%B8%AA%E0%B8%A1%E0%B9%80%E0%B8%94%E0%B9%87%E0%B8%88%E0%B8%9E%E0%B8%A3%E0%B8%B0%E0%B8%A3%E0%B8%B2%E0%B8%8A%E0%B8%B2%E0%B8%98%E0%B8%B4%E0%B8%9A%E0%B8%94%E0%B8%B5%E0%B8%AA%E0%B8%B8%E0%B8%A5%E0%B8%95%E0%B9%88%E0%B8%B2%E0%B8%99%E0%B8%AE%E0%B8%B1%E0%B8%AA%E0%B8%8B%E0%B8%B2%E0%B8%99%E0%B8%B1%E0%B8%A5_%E0%B9%82%E0%B8%9A%E0%B8%A5%E0%B9%80%E0%B8%81%E0%B8%B5%E0%B8%A2%E0%B8%AB%E0%B9%8C\" title=\"สมเด็จพระราชาธิบดีสุลต่านฮัสซานัล โบลเกียห์\">สมเด็จพระราชาธิบดีสุลต่านฮัสซานัล โบลเกียห์</a>, <a href=\"/wiki/%E0%B8%A3%E0%B8%B2%E0%B8%A2%E0%B8%9E%E0%B8%A3%E0%B8%B0%E0%B8%99%E0%B8%B2%E0%B8%A1%E0%B8%AA%E0%B8%B8%E0%B8%A5%E0%B8%95%E0%B9%88%E0%B8%B2%E0%B8%99%E0%B8%9A%E0%B8%A3%E0%B8%B9%E0%B9%84%E0%B8%99\" title=\"รายพระนามสุลต่านบรูไน\">สุลต่านบรูไน</a> (2510–ปัจจุบัน)</li>\n",
       " <li>นายกรัฐมนตรี – <a href=\"/wiki/%E0%B8%AA%E0%B8%A1%E0%B9%80%E0%B8%94%E0%B9%87%E0%B8%88%E0%B8%9E%E0%B8%A3%E0%B8%B0%E0%B8%A3%E0%B8%B2%E0%B8%8A%E0%B8%B2%E0%B8%98%E0%B8%B4%E0%B8%9A%E0%B8%94%E0%B8%B5%E0%B8%AA%E0%B8%B8%E0%B8%A5%E0%B8%95%E0%B9%88%E0%B8%B2%E0%B8%99%E0%B8%AE%E0%B8%B1%E0%B8%AA%E0%B8%8B%E0%B8%B2%E0%B8%99%E0%B8%B1%E0%B8%A5_%E0%B9%82%E0%B8%9A%E0%B8%A5%E0%B9%80%E0%B8%81%E0%B8%B5%E0%B8%A2%E0%B8%AB%E0%B9%8C\" title=\"สมเด็จพระราชาธิบดีสุลต่านฮัสซานัล โบลเกียห์\">สมเด็จพระราชาธิบดีสุลต่านฮัสซานัล โบลเกียห์</a>, <a href=\"/wiki/%E0%B8%99%E0%B8%B2%E0%B8%A2%E0%B8%81%E0%B8%A3%E0%B8%B1%E0%B8%90%E0%B8%A1%E0%B8%99%E0%B8%95%E0%B8%A3%E0%B8%B5%E0%B8%9A%E0%B8%A3%E0%B8%B9%E0%B9%84%E0%B8%99\" title=\"นายกรัฐมนตรีบรูไน\">นายกรัฐมนตรีบรูไน</a> (2527–ปัจจุบัน)</li></ul></li>,\n",
       " <li><b><span class=\"datasortkey\" data-sort-value=\"สิงคโปร์\"><span class=\"flagicon\"><img alt=\"\" class=\"thumbborder\" data-file-height=\"600\" data-file-width=\"900\" decoding=\"async\" height=\"15\" src=\"//upload.wikimedia.org/wikipedia/commons/thumb/4/48/Flag_of_Singapore.svg/23px-Flag_of_Singapore.svg.png\" srcset=\"//upload.wikimedia.org/wikipedia/commons/thumb/4/48/Flag_of_Singapore.svg/35px-Flag_of_Singapore.svg.png 1.5x, //upload.wikimedia.org/wikipedia/commons/thumb/4/48/Flag_of_Singapore.svg/45px-Flag_of_Singapore.svg.png 2x\" width=\"23\"/> </span><a class=\"mw-redirect\" href=\"/wiki/%E0%B8%AA%E0%B8%B4%E0%B8%87%E0%B8%84%E0%B9%82%E0%B8%9B%E0%B8%A3%E0%B9%8C\" title=\"สิงคโปร์\">สิงคโปร์</a></span></b>\n",
       " <ul><li>ประธานาธิบดี – <a class=\"mw-redirect\" href=\"/wiki/%E0%B8%AE%E0%B8%B2%E0%B8%A5%E0%B8%B4%E0%B8%A1%E0%B8%B2%E0%B8%AB%E0%B9%8C_%E0%B8%A2%E0%B8%B2%E0%B8%84%E0%B8%AD%E0%B8%9A\" title=\"ฮาลิมาห์ ยาคอบ\">ฮาลิมาห์ ยาคอบ</a>, <a href=\"/wiki/%E0%B8%9B%E0%B8%A3%E0%B8%B0%E0%B8%98%E0%B8%B2%E0%B8%99%E0%B8%B2%E0%B8%98%E0%B8%B4%E0%B8%9A%E0%B8%94%E0%B8%B5%E0%B8%AA%E0%B8%B4%E0%B8%87%E0%B8%84%E0%B9%82%E0%B8%9B%E0%B8%A3%E0%B9%8C\" title=\"ประธานาธิบดีสิงคโปร์\">ประธานาธิบดีสิงคโปร์</a> (2560–ปัจจุบัน)</li>\n",
       " <li>นายกรัฐมนตรี – <a href=\"/wiki/%E0%B8%A5%E0%B8%B5_%E0%B9%80%E0%B8%8B%E0%B8%B5%E0%B8%A2%E0%B8%99%E0%B8%A5%E0%B8%B8%E0%B8%87\" title=\"ลี เซียนลุง\">ลี เซียนลุง</a>, <a href=\"/wiki/%E0%B8%99%E0%B8%B2%E0%B8%A2%E0%B8%81%E0%B8%A3%E0%B8%B1%E0%B8%90%E0%B8%A1%E0%B8%99%E0%B8%95%E0%B8%A3%E0%B8%B5%E0%B8%AA%E0%B8%B4%E0%B8%87%E0%B8%84%E0%B9%82%E0%B8%9B%E0%B8%A3%E0%B9%8C\" title=\"นายกรัฐมนตรีสิงคโปร์\">นายกรัฐมนตรีสิงคโปร์</a> (2547–ปัจจุบัน)</li></ul></li>,\n",
       " <li><b><span class=\"datasortkey\" data-sort-value=\"ฟิลิปปินส์\"><span class=\"flagicon\"><img alt=\"\" class=\"thumbborder\" data-file-height=\"600\" data-file-width=\"1200\" decoding=\"async\" height=\"12\" src=\"//upload.wikimedia.org/wikipedia/commons/thumb/9/99/Flag_of_the_Philippines.svg/23px-Flag_of_the_Philippines.svg.png\" srcset=\"//upload.wikimedia.org/wikipedia/commons/thumb/9/99/Flag_of_the_Philippines.svg/35px-Flag_of_the_Philippines.svg.png 1.5x, //upload.wikimedia.org/wikipedia/commons/thumb/9/99/Flag_of_the_Philippines.svg/46px-Flag_of_the_Philippines.svg.png 2x\" width=\"23\"/> </span><a class=\"mw-redirect\" href=\"/wiki/%E0%B8%9F%E0%B8%B4%E0%B8%A5%E0%B8%B4%E0%B8%9B%E0%B8%9B%E0%B8%B4%E0%B8%99%E0%B8%AA%E0%B9%8C\" title=\"ฟิลิปปินส์\">ฟิลิปปินส์</a></span></b>\n",
       " <ul><li>ประธานาธิบดี – <a href=\"/wiki/%E0%B9%82%E0%B8%A3%E0%B8%94%E0%B8%A3%E0%B8%B5%E0%B9%82%E0%B8%81_%E0%B8%94%E0%B8%B9%E0%B9%81%E0%B8%95%E0%B8%A3%E0%B9%8C%E0%B9%80%E0%B8%95\" title=\"โรดรีโก ดูแตร์เต\">โรดรีโก ดูแตร์เต</a>, <a href=\"/wiki/%E0%B8%9B%E0%B8%A3%E0%B8%B0%E0%B8%98%E0%B8%B2%E0%B8%99%E0%B8%B2%E0%B8%98%E0%B8%B4%E0%B8%9A%E0%B8%94%E0%B8%B5%E0%B8%9F%E0%B8%B4%E0%B8%A5%E0%B8%B4%E0%B8%9B%E0%B8%9B%E0%B8%B4%E0%B8%99%E0%B8%AA%E0%B9%8C\" title=\"ประธานาธิบดีฟิลิปปินส์\">ประธานาธิบดีฟิลิปปินส์</a> (2559–ปัจจุบัน)</li></ul></li>,\n",
       " <li><b><span class=\"datasortkey\" data-sort-value=\"ติมอร์-เลสเต\"><span class=\"flagicon\"><img alt=\"\" class=\"thumbborder\" data-file-height=\"600\" data-file-width=\"1200\" decoding=\"async\" height=\"12\" src=\"//upload.wikimedia.org/wikipedia/commons/thumb/2/26/Flag_of_East_Timor.svg/23px-Flag_of_East_Timor.svg.png\" srcset=\"//upload.wikimedia.org/wikipedia/commons/thumb/2/26/Flag_of_East_Timor.svg/35px-Flag_of_East_Timor.svg.png 1.5x, //upload.wikimedia.org/wikipedia/commons/thumb/2/26/Flag_of_East_Timor.svg/46px-Flag_of_East_Timor.svg.png 2x\" width=\"23\"/> </span><a href=\"/wiki/%E0%B8%9B%E0%B8%A3%E0%B8%B0%E0%B9%80%E0%B8%97%E0%B8%A8%E0%B8%95%E0%B8%B4%E0%B8%A1%E0%B8%AD%E0%B8%A3%E0%B9%8C-%E0%B9%80%E0%B8%A5%E0%B8%AA%E0%B9%80%E0%B8%95\" title=\"ประเทศติมอร์-เลสเต\">ติมอร์-เลสเต</a></span></b>\n",
       " <ul><li>ประธานาธิบดี – <a class=\"mw-redirect\" href=\"/wiki/%E0%B8%9F%E0%B8%A3%E0%B8%B2%E0%B8%99%E0%B8%8B%E0%B8%B4%E0%B8%AA%E0%B9%82%E0%B8%81_%E0%B8%81%E0%B8%B9%E0%B9%80%E0%B8%95%E0%B8%A3%E0%B9%8C%E0%B9%80%E0%B8%A3%E0%B8%AA\" title=\"ฟรานซิสโก กูเตร์เรส\">ฟรานซิสโก กูเตร์เรส</a>, <a href=\"/wiki/%E0%B8%A3%E0%B8%B2%E0%B8%A2%E0%B8%99%E0%B8%B2%E0%B8%A1%E0%B8%9B%E0%B8%A3%E0%B8%B0%E0%B8%98%E0%B8%B2%E0%B8%99%E0%B8%B2%E0%B8%98%E0%B8%B4%E0%B8%9A%E0%B8%94%E0%B8%B5%E0%B8%95%E0%B8%B4%E0%B8%A1%E0%B8%AD%E0%B8%A3%E0%B9%8C-%E0%B9%80%E0%B8%A5%E0%B8%AA%E0%B9%80%E0%B8%95\" title=\"รายนามประธานาธิบดีติมอร์-เลสเต\">ประธานาธิบดีติมอร์-เลสเต</a> ​ (2560–ปัจจุบัน)</li>\n",
       " <li>นายกรัฐมนตรี – <a href=\"/wiki/%E0%B8%95%E0%B8%B2%E0%B8%AD%E0%B8%B9%E0%B8%A3%E0%B9%8C_%E0%B8%A1%E0%B8%B2%E0%B8%95%E0%B8%B1%E0%B8%99_%E0%B8%A3%E0%B8%B9%E0%B8%AD%E0%B8%B1%E0%B8%81\" title=\"ตาอูร์ มาตัน รูอัก\">ตาอูร์ มาตัน รูอัก</a>, <a class=\"mw-redirect\" href=\"/wiki/%E0%B8%A3%E0%B8%B2%E0%B8%A2%E0%B8%99%E0%B8%B2%E0%B8%A1%E0%B8%99%E0%B8%B2%E0%B8%A2%E0%B8%81%E0%B8%A3%E0%B8%B1%E0%B8%90%E0%B8%A1%E0%B8%99%E0%B8%95%E0%B8%A3%E0%B8%B5%E0%B8%95%E0%B8%B4%E0%B8%A1%E0%B8%AD%E0%B8%A3%E0%B9%8C-%E0%B9%80%E0%B8%A5%E0%B8%AA%E0%B9%80%E0%B8%95\" title=\"รายนามนายกรัฐมนตรีติมอร์-เลสเต\">นายกรัฐมนตรีติมอร์-เลสเต</a> (2561–ปัจจุบัน)</li></ul></li>]"
      ]
     },
     "execution_count": 9,
     "metadata": {},
     "output_type": "execute_result"
    }
   ],
   "source": [
    "director"
   ]
  },
  {
   "cell_type": "code",
   "execution_count": 10,
   "id": "b4bd0f0b",
   "metadata": {},
   "outputs": [
    {
     "data": {
      "text/plain": [
       "'ติมอร์-เลสเต'"
      ]
     },
     "execution_count": 10,
     "metadata": {},
     "output_type": "execute_result"
    }
   ],
   "source": [
    "director[-1].find('a').string"
   ]
  },
  {
   "cell_type": "code",
   "execution_count": 11,
   "id": "e0f4ff4a",
   "metadata": {
    "scrolled": false
   },
   "outputs": [],
   "source": [
    "te = []\n",
    "for i in director :\n",
    "    try:\n",
    "        for ele in i.find('a'):\n",
    "            te.append(ele)\n",
    "    except:\n",
    "        te.append(np.NaN)"
   ]
  },
  {
   "cell_type": "code",
   "execution_count": 12,
   "id": "5a1a633a",
   "metadata": {
    "scrolled": true
   },
   "outputs": [
    {
     "data": {
      "text/plain": [
       "['ไทย',\n",
       " 'ลาว',\n",
       " 'กัมพูชา',\n",
       " 'เวียดนาม',\n",
       " 'อินโดนีเซีย',\n",
       " 'พม่า',\n",
       " 'มาเลเซีย',\n",
       " 'บรูไน',\n",
       " 'สิงคโปร์',\n",
       " 'ฟิลิปปินส์',\n",
       " 'ติมอร์-เลสเต']"
      ]
     },
     "execution_count": 12,
     "metadata": {},
     "output_type": "execute_result"
    }
   ],
   "source": [
    "te"
   ]
  },
  {
   "cell_type": "code",
   "execution_count": 13,
   "id": "12803453",
   "metadata": {
    "scrolled": false
   },
   "outputs": [],
   "source": [
    "countries_data = []\n",
    "for e in countries:\n",
    "    country = e.find('a')[\"title\"]\n",
    "    #url = e.find('a')[\"href\"]\n",
    "    countries_data.append((country))"
   ]
  },
  {
   "cell_type": "code",
   "execution_count": 14,
   "id": "b8578c81",
   "metadata": {},
   "outputs": [],
   "source": [
    "df = pd.DataFrame((countries_data))"
   ]
  },
  {
   "cell_type": "code",
   "execution_count": 15,
   "id": "b82466ee",
   "metadata": {},
   "outputs": [
    {
     "data": {
      "text/html": [
       "<div>\n",
       "<style scoped>\n",
       "    .dataframe tbody tr th:only-of-type {\n",
       "        vertical-align: middle;\n",
       "    }\n",
       "\n",
       "    .dataframe tbody tr th {\n",
       "        vertical-align: top;\n",
       "    }\n",
       "\n",
       "    .dataframe thead th {\n",
       "        text-align: right;\n",
       "    }\n",
       "</style>\n",
       "<table border=\"1\" class=\"dataframe\">\n",
       "  <thead>\n",
       "    <tr style=\"text-align: right;\">\n",
       "      <th></th>\n",
       "      <th>0</th>\n",
       "    </tr>\n",
       "  </thead>\n",
       "  <tbody>\n",
       "    <tr>\n",
       "      <th>0</th>\n",
       "      <td>ไทย</td>\n",
       "    </tr>\n",
       "    <tr>\n",
       "      <th>1</th>\n",
       "      <td>ลาว</td>\n",
       "    </tr>\n",
       "    <tr>\n",
       "      <th>2</th>\n",
       "      <td>ประเทศกัมพูชา</td>\n",
       "    </tr>\n",
       "    <tr>\n",
       "      <th>3</th>\n",
       "      <td>เวียดนาม</td>\n",
       "    </tr>\n",
       "    <tr>\n",
       "      <th>4</th>\n",
       "      <td>อินโดนีเซีย</td>\n",
       "    </tr>\n",
       "    <tr>\n",
       "      <th>...</th>\n",
       "      <td>...</td>\n",
       "    </tr>\n",
       "    <tr>\n",
       "      <th>114</th>\n",
       "      <td>เอสวาตินี</td>\n",
       "    </tr>\n",
       "    <tr>\n",
       "      <th>115</th>\n",
       "      <td>แอฟริกาใต้</td>\n",
       "    </tr>\n",
       "    <tr>\n",
       "      <th>116</th>\n",
       "      <td>ซูดาน</td>\n",
       "    </tr>\n",
       "    <tr>\n",
       "      <th>117</th>\n",
       "      <td>เซเชลส์</td>\n",
       "    </tr>\n",
       "    <tr>\n",
       "      <th>118</th>\n",
       "      <td>เซเนกัล</td>\n",
       "    </tr>\n",
       "  </tbody>\n",
       "</table>\n",
       "<p>119 rows × 1 columns</p>\n",
       "</div>"
      ],
      "text/plain": [
       "                 0\n",
       "0              ไทย\n",
       "1              ลาว\n",
       "2    ประเทศกัมพูชา\n",
       "3         เวียดนาม\n",
       "4      อินโดนีเซีย\n",
       "..             ...\n",
       "114      เอสวาตินี\n",
       "115     แอฟริกาใต้\n",
       "116          ซูดาน\n",
       "117        เซเชลส์\n",
       "118        เซเนกัล\n",
       "\n",
       "[119 rows x 1 columns]"
      ]
     },
     "execution_count": 15,
     "metadata": {},
     "output_type": "execute_result"
    }
   ],
   "source": [
    "df"
   ]
  }
 ],
 "metadata": {
  "kernelspec": {
   "display_name": "Python 3",
   "language": "python",
   "name": "python3"
  },
  "language_info": {
   "codemirror_mode": {
    "name": "ipython",
    "version": 3
   },
   "file_extension": ".py",
   "mimetype": "text/x-python",
   "name": "python",
   "nbconvert_exporter": "python",
   "pygments_lexer": "ipython3",
   "version": "3.8.8"
  }
 },
 "nbformat": 4,
 "nbformat_minor": 5
}
