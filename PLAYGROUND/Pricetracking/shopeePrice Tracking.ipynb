{
 "cells": [
  {
   "cell_type": "code",
   "execution_count": 1,
   "id": "bac63d30",
   "metadata": {},
   "outputs": [],
   "source": [
    "# requests for fetching html of website\n",
    "import requests\n",
    "# Make the GET request to a url\n",
    "r = requests.get('http://www.cleveland.com/metro/index.ssf/2017/12/case_western_reserve_university_president_barbara_snyders_base_salary_and_bonus_pay_tops_among_private_colleges_in_ohio.html')\n",
    "# Extract the content\n",
    "c = r.content\n",
    "from bs4 import BeautifulSoup\n",
    "# Create a soup object\n",
    "soup = BeautifulSoup(c)"
   ]
  },
  {
   "cell_type": "code",
   "execution_count": 4,
   "id": "7b7bd9a1",
   "metadata": {
    "scrolled": true
   },
   "outputs": [
    {
     "data": {
      "text/plain": [
       "<div class=\"entry-content\"><p class=\"article__paragraph article__paragraph--left\" id=\"UDT3SSNMTRCTFDQE6DBFNJODLI\">CLEVELAND, Ohio - <a href=\"http://www.case.edu/\">Case Western Reserve University </a>President Barbara Snyder's $700,312 base pay and $175,000 bonus in 2015 again made her the highest paid private college leader in Ohio, according to an annual report.</p><div id=\"inarticle-1\"></div><p class=\"article__paragraph article__paragraph--left\" id=\"AOJSWF2SO5F6NLAFYE77J7FAPI\">Nationally, Snyder's total compensation of $1.154 million, which can include deferred compensation and other pay, ranked 41st out of 541 presidents of private colleges according to the report by the <a href=\"http://chronicle.com/\">Chronicle of Higher Education.</a></p><div class=\"InContent_Center_Background\"><div class=\"InContent_Center_Padding\"><div class=\"ad-observer\" id=\"InContent_Center_AOJSWF2SO5F6NLAFYE77J7FAPI\"></div></div></div><div id=\"inarticle-2\"></div><p class=\"article__paragraph article__paragraph--left\" id=\"F67RF4SFXRGCPECJF3ZBO2YYL4\">She is among 58 presidents to earn $1 million or more. The previous year, 39 private college presidents earned more than $1 million.</p><div class=\"InContent_Center_Background\"><div class=\"InContent_Center_Padding\"><div class=\"ad-observer\" id=\"InContent_Center_F67RF4SFXRGCPECJF3ZBO2YYL4\"></div></div></div><div id=\"inarticle-3\"></div><p class=\"article__paragraph article__paragraph--left\" id=\"UFXHIG6ILBCMDANTJ35GKIILUI\">The Chronicle's <a href=\"https://www.chronicle.com/interactives/executive-compensation#id=table_private_2015\">compensation tables </a>come from a review of federal tax documents from the 2015 calendar year, the most recent available.</p><div class=\"InContent_Center_Background\"><div class=\"InContent_Center_Padding\"><div class=\"ad-observer\" id=\"InContent_Center_UFXHIG6ILBCMDANTJ35GKIILUI\"></div></div></div><div id=\"inarticle-4\"></div><p class=\"article__paragraph article__paragraph--left\" id=\"6ZTUGCGUFBGOZIVNKBJZL5G2RI\">Former University of Dayton President Daniel Curran, who left in 2016, ranked eighth in the U.S. with a total compensation of $2.44 million, but $1.66 million of that was in other pay, which was likely deferred compensation awarded after he announced his retirement. His total pay in 2014 was $771,354.</p><div class=\"InContent_Center_Background\"><div class=\"InContent_Center_Padding\"><div class=\"ad-observer\" id=\"InContent_Center_6ZTUGCGUFBGOZIVNKBJZL5G2RI\"></div></div></div><div id=\"inarticle-5\"></div><p class=\"article__paragraph article__paragraph--left\" id=\"XMRBN5FAKRGNNMZAMDAN4NJ6DQ\">Following is total compensation for other presidents at private colleges in Ohio in 2015:</p><div class=\"InContent_Center_Background\"><div class=\"InContent_Center_Padding\"><div class=\"ad-observer\" id=\"InContent_Center_XMRBN5FAKRGNNMZAMDAN4NJ6DQ\"></div></div></div><div id=\"inarticle-6\"></div><ul class=\"article__unordered-list\"><li><span>Grant Cornwell, College of Wooster (left in 2015): $911,651</span></li><li><span>Marvin Krislov, Oberlin College (left in 2016):  $829,913</span></li><li><span>Mark Roosevelt, Antioch College, (left in 2015): $507,672</span></li><li><span>Laurie Joyner, Wittenberg University (left in 2015): $463,504</span></li><li><span>Richard Giese, University of Mount Union (left in 2015): $453,800</span></li><li><span>Sean Decatur,Kenyon College: $451,698</span></li><li><span>Adam Weinberg, Denison University: $435,322</span></li><li><span>Daniel Dibiasio, Ohio Northern University: $414,716</span></li><li><span>Denvy Bowman, Capital University (left in 2016): $388,570</span></li><li><span>Anne Steele, Muskingum University (left in 2016): $384,233</span></li><li><span>Kathy Krendl, Otterbein University:  $378,035</span></li><li><span>Rockwell Jones, Ohio Wesleyan University: $366,625</span></li><li><span>Robert Helmer, Baldwin Wallace University: $365,616</span></li><li><span>Robert Huntington, Heidelberg University: $300,005</span></li><li><span>Lori Varlotta, Hiram College: $293,336</span></li><li><span>Joseph Bruno, Marietta College (left in 2016): $288,295</span></li><li><span>W. Richard Merriman Jr., University of Mount Union (started in June 2015): $221,761</span></li></ul><div class=\"InContent_Center_Background\"><div class=\"InContent_Center_Padding\"><div class=\"ad-observer\" id=\"InContent_Center_DAMDLDWV3ZDQPBVHZPJV6J3HJQ\"></div></div></div><div id=\"inarticle-7\"></div><p class=\"article__paragraph article__paragraph--left\" id=\"M4AYF5E5WNCFHGUFHWIH6HRYNE\">The Rev. Robert Niehoff, president of John Carroll University (retired in 2017), Rev. Sean Sheridan of  Franciscan University of Steubenville and Rev. Michael Graham Xavier University do not take salaries.</p><div class=\"InContent_Center_Background\"><div class=\"InContent_Center_Padding\"><div class=\"ad-observer\" id=\"InContent_Center_M4AYF5E5WNCFHGUFHWIH6HRYNE\"></div></div></div><div id=\"inarticle-8\"></div><p class=\"article__paragraph article__paragraph--left\" id=\"M6MHKDUHGFCLPAZIAC6YBJZR2U\">See the full list of presidents at <a href=\"http://www.chronicle.com/compensation\">chronicle.com/compensation.</a></p><div class=\"InContent_Center_Background\"><div class=\"InContent_Center_Padding\"><div class=\"ad-observer\" id=\"InContent_Center_M6MHKDUHGFCLPAZIAC6YBJZR2U\"></div></div></div><div id=\"inarticle-9\"></div><p class=\"article__paragraph article__paragraph--left\" id=\"ONQJDU766NGCBN5GNQSAP6T2RQ\">The Chronicle's list of pay for public college presidents was released in July.</p><div class=\"InContent_Center_Background\"><div class=\"InContent_Center_Padding\"><div class=\"ad-observer\" id=\"InContent_Center_ONQJDU766NGCBN5GNQSAP6T2RQ\"></div></div></div><div class=\"middleParagraph\" id=\"inarticle-10\"></div><div data-fusion-component=\"LCRM5FZWLNH75PHSXK4SMUKK4E\" id=\"fusion-static-enter:LCRM5FZWLNH75PHSXK4SMUKK4E\" style=\"display:none\"></div><div class=\"rawhtml\"><a href=\"http://www.cleveland.com/metro/index.ssf/2017/06/ohio_state_university_presiden_6.html\">Ohio State University President Michael Drake is 7th highest paid U.S. public college president</a></div><div data-fusion-component=\"LCRM5FZWLNH75PHSXK4SMUKK4E\" id=\"fusion-static-exit:LCRM5FZWLNH75PHSXK4SMUKK4E\" style=\"display:none\"></div><div class=\"InContent_Center_Background\"><div class=\"InContent_Center_Padding\"><div class=\"ad-observer\" id=\"InContent_Center_LCRM5FZWLNH75PHSXK4SMUKK4E\"></div></div></div><div id=\"inarticle-11\"></div><p class=\"article__paragraph article__paragraph--left\" id=\"FXUGCLQM3VGPHBZIYHU7QYIX7M\">Ohio State President Michael Drake, with a total compensation of $1.03 million, was one of eight presidents who earned $1 million or more in the 2015-16 fiscal year.</p><div class=\"InContent_Center_Background\"><div class=\"InContent_Center_Padding\"><div class=\"ad-observer\" id=\"InContent_Center_FXUGCLQM3VGPHBZIYHU7QYIX7M\"></div></div></div><div id=\"inarticle-12\"></div><p class=\"article__paragraph article__paragraph--left\" id=\"MGHBR3ZKW5BSFLD44TVOYWKRKY\">But when compared to Ohio State's 2014 annual $5.2 billion operating budget, Drake's pay per million in expenses is $199 -- among the lowest for presidents.</p><div class=\"InContent_Center_Background\"><div class=\"InContent_Center_Padding\"><div class=\"ad-observer\" id=\"InContent_Center_MGHBR3ZKW5BSFLD44TVOYWKRKY\"></div></div></div><div id=\"inarticle-13\"></div><p class=\"article__paragraph article__paragraph--left\" id=\"ROTT7BNLAVETPKZADJYWYVGRNA\">By comparison, Cleveland State University President Ronald Berkman, whose total compensation was $641,817, oversaw an annual operating budget of $300.3 million in 2014. His pay per million in expenses was $2,127.</p><div class=\"InContent_Center_Background\"><div class=\"InContent_Center_Padding\"><div class=\"ad-observer\" id=\"InContent_Center_ROTT7BNLAVETPKZADJYWYVGRNA\"></div></div></div><div id=\"inarticle-14\"></div><p class=\"article__paragraph article__paragraph--left\" id=\"AKAYEPSK6JBG5CRBW6QOZSIYRM\">Kent State University President Beverly Warren's pay per million in expenses was $1,006. Her total compensation was $560,659 and she oversaw an annual operating budget of $557.4 million in 2014.</p><div class=\"InContent_Center_Background\"><div class=\"InContent_Center_Padding\"><div class=\"ad-observer\" id=\"InContent_Center_AKAYEPSK6JBG5CRBW6QOZSIYRM\"></div></div></div><div id=\"inarticle-15\"></div><p class=\"article__paragraph article__paragraph--left\" id=\"PCV2GHZLJVFKJPDDUEGKIXMUE4\">The<a href=\"http://www.chronicle.com/interactives/executive-compensation\"> Chronicle's analysis </a>was based on 254 presidents from 221 colleges.</p><div class=\"InContent_Center_Background\"><div class=\"InContent_Center_Padding\"><div class=\"ad-observer\" id=\"InContent_Center_PCV2GHZLJVFKJPDDUEGKIXMUE4\"></div></div></div><div id=\"inarticle-16\"></div><p class=\"article__paragraph article__paragraph--left\" id=\"H2KCZCD4JBE63LKEOTILNNSDXU\">According to the Chronicle:</p><div class=\"InContent_Center_Background\"><div class=\"InContent_Center_Padding\"><div class=\"ad-observer\" id=\"InContent_Center_H2KCZCD4JBE63LKEOTILNNSDXU\"></div></div></div><div id=\"inarticle-17\"></div><ul class=\"article__unordered-list\"><li><span>The average pay of private college presidents who served the full year in 2015 was $569,932, up 9 percent over presidents who served a full year in 2014.</span></li><li><span>Nine of the 10 highest-paid chief executives earned more from bonuses and deferred compensation than they did from base salaries.</span></li><li><span>The analysis is based on the latest available federal tax filings of the 500 private, nonprofit colleges with the largest endowments. The data include compensation figures for 568 presidents who served at 500 institutions for all or part of 2015. There were 352 presidents who served all of 2014 and 2015.</span></li><li><span>The number of presidents earning over $1 million is attributed, in part, to a market where presidents are negotiating more deferred compensation and bonus packages before they take the job.</span></li><li><span>The top two earners, Wake Forest University President Nathan Hatch ($4 million) and former Emory University President James Wagner ($3.5 million) were each paid more than $2 million in deferred compensation in 2015.</span></li></ul><div class=\"InContent_Center_Background\"><div class=\"InContent_Center_Padding\"><div class=\"ad-observer\" id=\"InContent_Center_YLXARCRFJVFVVN7ROHHLX4SF6A\"></div></div></div><div id=\"inarticle-18\"></div><p class=\"article__paragraph article__paragraph--left\" id=\"4KNMVXOWABEBBAIV7KC5365ISE\">The Chronicle also compares pay to presidents in context of their colleges, including looking at each institution's expenses, average tuition and fees and professor salaries.</p><div class=\"InContent_Center_Background\"><div class=\"InContent_Center_Padding\"><div class=\"ad-observer\" id=\"InContent_Center_4KNMVXOWABEBBAIV7KC5365ISE\"></div></div></div><div id=\"inarticle-19\"></div></div>"
      ]
     },
     "execution_count": 4,
     "metadata": {},
     "output_type": "execute_result"
    }
   ],
   "source": [
    "# Find the element on the webpage\n",
    "main_content = soup.find('div', attrs = {'class': 'entry-content'})\n",
    "main_content"
   ]
  },
  {
   "cell_type": "code",
   "execution_count": null,
   "id": "b3ef0db7",
   "metadata": {},
   "outputs": [],
   "source": []
  }
 ],
 "metadata": {
  "kernelspec": {
   "display_name": "Python 3",
   "language": "python",
   "name": "python3"
  },
  "language_info": {
   "codemirror_mode": {
    "name": "ipython",
    "version": 3
   },
   "file_extension": ".py",
   "mimetype": "text/x-python",
   "name": "python",
   "nbconvert_exporter": "python",
   "pygments_lexer": "ipython3",
   "version": "3.8.8"
  }
 },
 "nbformat": 4,
 "nbformat_minor": 5
}
